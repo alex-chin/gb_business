{
 "cells": [
  {
   "cell_type": "markdown",
   "source": [
    "### Задание к Уроку 5. Задача оттока: варианты постановки, возможные способы решения"
   ],
   "metadata": {
    "collapsed": false
   }
  },
  {
   "cell_type": "markdown",
   "source": [
    "1. Для нашего пайплайна (Case1) поэкспериментировать с разными моделями: 1 - бустинг, 2 - логистическая регрессия (не забудьте здесь добавить в cont_transformer стандартизацию - нормирование вещественных признаков)\n",
    "2. Отобрать лучшую модель по метрикам (кстати, какая по вашему мнению здесь наиболее подходящая DS-метрика)\n",
    "3. Для отобранной модели (на отложенной выборке) сделать оценку экономической эффективности при тех же вводных, как в вопросе 2 (1 доллар на привлечение, 2 доллара - с каждого правильно классифицированного (True Positive) удержанного). (подсказка) нужно посчитать FP/TP/FN/TN для выбранного оптимального порога вероятности и посчитать выручку и траты.\n",
    "4. (опционально) Провести подбор гиперпараметров лучшей модели по итогам 2-3\n",
    "5. (опционально) Еще раз провести оценку экономической эффективности\n",
    "6. Ссылки\n",
    "\n",
    "\n",
    "- http://hyperopt.github.io/hyperopt/\n",
    "- https://arxiv.org/pdf/1907.03947.pdf\n",
    "- https://arxiv.org/pdf/1802.02301.pdf\n",
    "- https://arxiv.org/list/stat.ML/recent\n",
    "- https://scikit-learn.org/stable/modules/grid_search.html\n",
    "- https://scikit-learn.org/stable/modules/compose.html"
   ],
   "metadata": {
    "collapsed": false
   }
  },
  {
   "cell_type": "code",
   "execution_count": 99,
   "outputs": [],
   "source": [],
   "metadata": {
    "collapsed": false,
    "pycharm": {
     "name": "#%%\n"
    }
   }
  },
  {
   "cell_type": "markdown",
   "source": [
    "### Источник данных\n",
    "набор данных с платформы kaggle https://www.kaggle.com/adammaus/predicting-churn-for-bank-customers по оттоку клиентов банка"
   ],
   "metadata": {
    "collapsed": false
   }
  },
  {
   "cell_type": "markdown",
   "source": [
    "### Подключение библиотек"
   ],
   "metadata": {
    "collapsed": false,
    "pycharm": {
     "name": "#%% md\n"
    }
   }
  },
  {
   "cell_type": "code",
   "execution_count": 100,
   "outputs": [
    {
     "name": "stderr",
     "output_type": "stream",
     "text": [
      "UsageError: Line magic function `%` not found.\n"
     ]
    }
   ],
   "source": [
    "import pandas as pd\n",
    "import numpy as np\n",
    "from sklearn.pipeline import Pipeline, make_pipeline\n",
    "from sklearn.base import BaseEstimator, TransformerMixin\n",
    "from sklearn.linear_model import LogisticRegression\n",
    "from sklearn.model_selection import train_test_split\n",
    "#from sklearn.feature_extraction.text import TfidfVectorizer\n",
    "import itertools\n",
    "\n",
    "import matplotlib.pyplot as plt\n",
    "\n",
    "% matplotlib inline"
   ],
   "metadata": {
    "collapsed": false,
    "pycharm": {
     "name": "#%%\n"
    }
   }
  },
  {
   "cell_type": "markdown",
   "source": [
    "### Загрузка данных"
   ],
   "metadata": {
    "collapsed": false,
    "pycharm": {
     "name": "#%% md\n"
    }
   }
  },
  {
   "cell_type": "code",
   "execution_count": 101,
   "outputs": [
    {
     "data": {
      "text/plain": "   RowNumber  CustomerId   Surname  CreditScore Geography  Gender  Age  \\\n0          1    15634602  Hargrave          619    France  Female   42   \n1          2    15647311      Hill          608     Spain  Female   41   \n2          3    15619304      Onio          502    France  Female   42   \n\n   Tenure    Balance  NumOfProducts  HasCrCard  IsActiveMember  \\\n0       2       0.00              1          1               1   \n1       1   83807.86              1          0               1   \n2       8  159660.80              3          1               0   \n\n   EstimatedSalary  Exited  \n0        101348.88       1  \n1        112542.58       0  \n2        113931.57       1  ",
      "text/html": "<div>\n<style scoped>\n    .dataframe tbody tr th:only-of-type {\n        vertical-align: middle;\n    }\n\n    .dataframe tbody tr th {\n        vertical-align: top;\n    }\n\n    .dataframe thead th {\n        text-align: right;\n    }\n</style>\n<table border=\"1\" class=\"dataframe\">\n  <thead>\n    <tr style=\"text-align: right;\">\n      <th></th>\n      <th>RowNumber</th>\n      <th>CustomerId</th>\n      <th>Surname</th>\n      <th>CreditScore</th>\n      <th>Geography</th>\n      <th>Gender</th>\n      <th>Age</th>\n      <th>Tenure</th>\n      <th>Balance</th>\n      <th>NumOfProducts</th>\n      <th>HasCrCard</th>\n      <th>IsActiveMember</th>\n      <th>EstimatedSalary</th>\n      <th>Exited</th>\n    </tr>\n  </thead>\n  <tbody>\n    <tr>\n      <th>0</th>\n      <td>1</td>\n      <td>15634602</td>\n      <td>Hargrave</td>\n      <td>619</td>\n      <td>France</td>\n      <td>Female</td>\n      <td>42</td>\n      <td>2</td>\n      <td>0.00</td>\n      <td>1</td>\n      <td>1</td>\n      <td>1</td>\n      <td>101348.88</td>\n      <td>1</td>\n    </tr>\n    <tr>\n      <th>1</th>\n      <td>2</td>\n      <td>15647311</td>\n      <td>Hill</td>\n      <td>608</td>\n      <td>Spain</td>\n      <td>Female</td>\n      <td>41</td>\n      <td>1</td>\n      <td>83807.86</td>\n      <td>1</td>\n      <td>0</td>\n      <td>1</td>\n      <td>112542.58</td>\n      <td>0</td>\n    </tr>\n    <tr>\n      <th>2</th>\n      <td>3</td>\n      <td>15619304</td>\n      <td>Onio</td>\n      <td>502</td>\n      <td>France</td>\n      <td>Female</td>\n      <td>42</td>\n      <td>8</td>\n      <td>159660.80</td>\n      <td>3</td>\n      <td>1</td>\n      <td>0</td>\n      <td>113931.57</td>\n      <td>1</td>\n    </tr>\n  </tbody>\n</table>\n</div>"
     },
     "execution_count": 101,
     "metadata": {},
     "output_type": "execute_result"
    }
   ],
   "source": [
    "df = pd.read_csv(\"churn_data.csv\")\n",
    "df.head(3)"
   ],
   "metadata": {
    "collapsed": false,
    "pycharm": {
     "name": "#%%\n"
    }
   }
  },
  {
   "cell_type": "markdown",
   "source": [
    "### EDA"
   ],
   "metadata": {
    "collapsed": false,
    "pycharm": {
     "name": "#%% md\n"
    }
   }
  },
  {
   "cell_type": "code",
   "execution_count": 102,
   "outputs": [
    {
     "name": "stdout",
     "output_type": "stream",
     "text": [
      "<class 'pandas.core.frame.DataFrame'>\n",
      "RangeIndex: 10000 entries, 0 to 9999\n",
      "Data columns (total 14 columns):\n",
      " #   Column           Non-Null Count  Dtype  \n",
      "---  ------           --------------  -----  \n",
      " 0   RowNumber        10000 non-null  int64  \n",
      " 1   CustomerId       10000 non-null  int64  \n",
      " 2   Surname          10000 non-null  object \n",
      " 3   CreditScore      10000 non-null  int64  \n",
      " 4   Geography        10000 non-null  object \n",
      " 5   Gender           10000 non-null  object \n",
      " 6   Age              10000 non-null  int64  \n",
      " 7   Tenure           10000 non-null  int64  \n",
      " 8   Balance          10000 non-null  float64\n",
      " 9   NumOfProducts    10000 non-null  int64  \n",
      " 10  HasCrCard        10000 non-null  int64  \n",
      " 11  IsActiveMember   10000 non-null  int64  \n",
      " 12  EstimatedSalary  10000 non-null  float64\n",
      " 13  Exited           10000 non-null  int64  \n",
      "dtypes: float64(2), int64(9), object(3)\n",
      "memory usage: 1.1+ MB\n"
     ]
    }
   ],
   "source": [
    "df.info()"
   ],
   "metadata": {
    "collapsed": false,
    "pycharm": {
     "name": "#%%\n"
    }
   }
  },
  {
   "cell_type": "markdown",
   "source": [
    "Есть как категориальные, так и вещественные признаки. Поле **CustomerId** нужно будет удалить. И возможно  **RowNumber**"
   ],
   "metadata": {
    "collapsed": false,
    "pycharm": {
     "name": "#%% md\n"
    }
   }
  },
  {
   "cell_type": "markdown",
   "source": [
    "### Распределение классов целевой переменной"
   ],
   "metadata": {
    "collapsed": false,
    "pycharm": {
     "name": "#%% md\n"
    }
   }
  },
  {
   "cell_type": "code",
   "execution_count": 103,
   "outputs": [
    {
     "data": {
      "text/plain": "0    79.63\n1    20.37\nName: Exited, dtype: float64"
     },
     "execution_count": 103,
     "metadata": {},
     "output_type": "execute_result"
    }
   ],
   "source": [
    "df['Exited'].value_counts() / df['Exited'].count() * 100\n"
   ],
   "metadata": {
    "collapsed": false,
    "pycharm": {
     "name": "#%%\n"
    }
   }
  },
  {
   "cell_type": "markdown",
   "source": [
    "### Разделение данных на train/test"
   ],
   "metadata": {
    "collapsed": false,
    "pycharm": {
     "name": "#%% md\n"
    }
   }
  },
  {
   "cell_type": "code",
   "execution_count": 104,
   "outputs": [],
   "source": [
    "X_train, X_test, y_train, y_test = train_test_split(df, df['Exited'], random_state=0)"
   ],
   "metadata": {
    "collapsed": false,
    "pycharm": {
     "name": "#%%\n"
    }
   }
  },
  {
   "cell_type": "markdown",
   "source": [
    "### Генерация переменных"
   ],
   "metadata": {
    "collapsed": false,
    "pycharm": {
     "name": "#%% md\n"
    }
   }
  },
  {
   "cell_type": "code",
   "execution_count": 105,
   "outputs": [],
   "source": [
    "#соберем наш простой pipeline, но нам понадобится написать класс для выбора нужного поля\n",
    "class FeatureSelector(BaseEstimator, TransformerMixin):\n",
    "    def __init__(self, column):\n",
    "        self.column = column\n",
    "\n",
    "    def fit(self, X, y=None):\n",
    "        return self\n",
    "\n",
    "    def transform(self, X, y=None):\n",
    "        return X[self.column]\n",
    "\n",
    "\n",
    "class NumberSelector(BaseEstimator, TransformerMixin):\n",
    "    \"\"\"\n",
    "    Transformer to select a single column from the data frame to perform additional transformations on\n",
    "    Use on numeric columns in the data\n",
    "    \"\"\"\n",
    "\n",
    "    def __init__(self, key):\n",
    "        self.key = key\n",
    "\n",
    "    def fit(self, X, y=None):\n",
    "        return self\n",
    "\n",
    "    def transform(self, X):\n",
    "        return X[[self.key]]\n",
    "\n",
    "\n",
    "class OHEEncoder(BaseEstimator, TransformerMixin):\n",
    "    def __init__(self, key):\n",
    "        self.key = key\n",
    "        self.columns = []\n",
    "\n",
    "    def fit(self, X, y=None):\n",
    "        self.columns = [col for col in pd.get_dummies(X, prefix=self.key).columns]\n",
    "        return self\n",
    "\n",
    "    def transform(self, X):\n",
    "        X = pd.get_dummies(X, prefix=self.key)\n",
    "        test_columns = [col for col in X.columns]\n",
    "        for col_ in self.columns:\n",
    "            if col_ not in test_columns:\n",
    "                X[col_] = 0\n",
    "        return X[self.columns]\n",
    "\n"
   ],
   "metadata": {
    "collapsed": false,
    "pycharm": {
     "name": "#%%\n"
    }
   }
  },
  {
   "cell_type": "markdown",
   "source": [
    "### Отбор переменных"
   ],
   "metadata": {
    "collapsed": false,
    "pycharm": {
     "name": "#%% md\n"
    }
   }
  },
  {
   "cell_type": "code",
   "execution_count": 106,
   "outputs": [],
   "source": [
    "categorical_columns = ['Geography', 'Gender', 'Tenure', 'HasCrCard', 'IsActiveMember']\n",
    "continuous_columns = ['CreditScore', 'Age', 'Balance', 'NumOfProducts', 'EstimatedSalary']\n"
   ],
   "metadata": {
    "collapsed": false,
    "pycharm": {
     "name": "#%%\n"
    }
   }
  },
  {
   "cell_type": "markdown",
   "source": [
    "### Проверка на примере отдельного категориального признака - Gender"
   ],
   "metadata": {
    "collapsed": false
   }
  },
  {
   "cell_type": "code",
   "execution_count": 107,
   "outputs": [
    {
     "data": {
      "text/plain": "      Gender_Female  Gender_Male\n9394              1            0\n898               1            0\n2398              1            0",
      "text/html": "<div>\n<style scoped>\n    .dataframe tbody tr th:only-of-type {\n        vertical-align: middle;\n    }\n\n    .dataframe tbody tr th {\n        vertical-align: top;\n    }\n\n    .dataframe thead th {\n        text-align: right;\n    }\n</style>\n<table border=\"1\" class=\"dataframe\">\n  <thead>\n    <tr style=\"text-align: right;\">\n      <th></th>\n      <th>Gender_Female</th>\n      <th>Gender_Male</th>\n    </tr>\n  </thead>\n  <tbody>\n    <tr>\n      <th>9394</th>\n      <td>1</td>\n      <td>0</td>\n    </tr>\n    <tr>\n      <th>898</th>\n      <td>1</td>\n      <td>0</td>\n    </tr>\n    <tr>\n      <th>2398</th>\n      <td>1</td>\n      <td>0</td>\n    </tr>\n  </tbody>\n</table>\n</div>"
     },
     "execution_count": 107,
     "metadata": {},
     "output_type": "execute_result"
    }
   ],
   "source": [
    "from sklearn.pipeline import Pipeline\n",
    "from sklearn.pipeline import FeatureUnion\n",
    "\n",
    "gender = Pipeline([\n",
    "    ('selector', FeatureSelector(column='Gender')),\n",
    "    ('ohe', OHEEncoder(key='Gender'))\n",
    "])\n",
    "gender.fit(X_train)\n",
    "gender.transform(X_test).head(3)"
   ],
   "metadata": {
    "collapsed": false,
    "pycharm": {
     "name": "#%%\n"
    }
   }
  },
  {
   "cell_type": "code",
   "execution_count": null,
   "outputs": [],
   "source": [],
   "metadata": {
    "collapsed": false,
    "pycharm": {
     "name": "#%%\n"
    }
   }
  },
  {
   "cell_type": "markdown",
   "source": [
    "### Генерация переменных 2"
   ],
   "metadata": {
    "collapsed": false
   }
  },
  {
   "cell_type": "code",
   "execution_count": 108,
   "outputs": [],
   "source": [
    "from sklearn.preprocessing import StandardScaler\n",
    "\n",
    "final_transformers = list()\n",
    "\n",
    "for cat_col in categorical_columns:\n",
    "    cat_transformer = Pipeline([\n",
    "        ('selector', FeatureSelector(column=cat_col)),\n",
    "        ('ohe', OHEEncoder(key=cat_col))\n",
    "    ])\n",
    "    final_transformers.append((cat_col, cat_transformer))\n",
    "\n",
    "for cont_col in continuous_columns:\n",
    "    cont_transformer = Pipeline([\n",
    "        ('selector', NumberSelector(key=cont_col)),\n",
    "        ('standard', StandardScaler())\n",
    "    ])\n",
    "    final_transformers.append((cont_col, cont_transformer))\n",
    "\n",
    "feature_processing = Pipeline([('feats', FeatureUnion(final_transformers))])\n",
    "\n",
    "# feats = FeatureUnion(final_transformers)\n",
    "# feature_processing = Pipeline([('feats', feats)])\n"
   ],
   "metadata": {
    "collapsed": false,
    "pycharm": {
     "name": "#%%\n"
    }
   }
  },
  {
   "cell_type": "code",
   "execution_count": 110,
   "outputs": [
    {
     "data": {
      "text/plain": "Pipeline(steps=[('feats',\n                 FeatureUnion(transformer_list=[('Geography',\n                                                 Pipeline(steps=[('selector',\n                                                                  FeatureSelector(column='Geography')),\n                                                                 ('ohe',\n                                                                  OHEEncoder(key='Geography'))])),\n                                                ('Gender',\n                                                 Pipeline(steps=[('selector',\n                                                                  FeatureSelector(column='Gender')),\n                                                                 ('ohe',\n                                                                  OHEEncoder(key='Gender'))])),\n                                                ('Tenure',\n                                                 Pipeline(steps=[('selector',\n                                                                  FeatureSelector(column='Tenure'...\n                                                                  StandardScaler())])),\n                                                ('Balance',\n                                                 Pipeline(steps=[('selector',\n                                                                  NumberSelector(key='Balance')),\n                                                                 ('standard',\n                                                                  StandardScaler())])),\n                                                ('NumOfProducts',\n                                                 Pipeline(steps=[('selector',\n                                                                  NumberSelector(key='NumOfProducts')),\n                                                                 ('standard',\n                                                                  StandardScaler())])),\n                                                ('EstimatedSalary',\n                                                 Pipeline(steps=[('selector',\n                                                                  NumberSelector(key='EstimatedSalary')),\n                                                                 ('standard',\n                                                                  StandardScaler())]))]))])",
      "text/html": "<style>#sk-e80819d2-1545-4e0b-b732-687f621abd68 {color: black;background-color: white;}#sk-e80819d2-1545-4e0b-b732-687f621abd68 pre{padding: 0;}#sk-e80819d2-1545-4e0b-b732-687f621abd68 div.sk-toggleable {background-color: white;}#sk-e80819d2-1545-4e0b-b732-687f621abd68 label.sk-toggleable__label {cursor: pointer;display: block;width: 100%;margin-bottom: 0;padding: 0.3em;box-sizing: border-box;text-align: center;}#sk-e80819d2-1545-4e0b-b732-687f621abd68 div.sk-toggleable__content {max-height: 0;max-width: 0;overflow: hidden;text-align: left;background-color: #f0f8ff;}#sk-e80819d2-1545-4e0b-b732-687f621abd68 div.sk-toggleable__content pre {margin: 0.2em;color: black;border-radius: 0.25em;background-color: #f0f8ff;}#sk-e80819d2-1545-4e0b-b732-687f621abd68 input.sk-toggleable__control:checked~div.sk-toggleable__content {max-height: 200px;max-width: 100%;overflow: auto;}#sk-e80819d2-1545-4e0b-b732-687f621abd68 div.sk-estimator input.sk-toggleable__control:checked~label.sk-toggleable__label {background-color: #d4ebff;}#sk-e80819d2-1545-4e0b-b732-687f621abd68 div.sk-label input.sk-toggleable__control:checked~label.sk-toggleable__label {background-color: #d4ebff;}#sk-e80819d2-1545-4e0b-b732-687f621abd68 input.sk-hidden--visually {border: 0;clip: rect(1px 1px 1px 1px);clip: rect(1px, 1px, 1px, 1px);height: 1px;margin: -1px;overflow: hidden;padding: 0;position: absolute;width: 1px;}#sk-e80819d2-1545-4e0b-b732-687f621abd68 div.sk-estimator {font-family: monospace;background-color: #f0f8ff;border: 1px dotted black;border-radius: 0.25em;box-sizing: border-box;margin-bottom: 0.5em;}#sk-e80819d2-1545-4e0b-b732-687f621abd68 div.sk-estimator:hover {background-color: #d4ebff;}#sk-e80819d2-1545-4e0b-b732-687f621abd68 div.sk-parallel-item::after {content: \"\";width: 100%;border-bottom: 1px solid gray;flex-grow: 1;}#sk-e80819d2-1545-4e0b-b732-687f621abd68 div.sk-label:hover label.sk-toggleable__label {background-color: #d4ebff;}#sk-e80819d2-1545-4e0b-b732-687f621abd68 div.sk-serial::before {content: \"\";position: absolute;border-left: 1px solid gray;box-sizing: border-box;top: 2em;bottom: 0;left: 50%;}#sk-e80819d2-1545-4e0b-b732-687f621abd68 div.sk-serial {display: flex;flex-direction: column;align-items: center;background-color: white;padding-right: 0.2em;padding-left: 0.2em;}#sk-e80819d2-1545-4e0b-b732-687f621abd68 div.sk-item {z-index: 1;}#sk-e80819d2-1545-4e0b-b732-687f621abd68 div.sk-parallel {display: flex;align-items: stretch;justify-content: center;background-color: white;}#sk-e80819d2-1545-4e0b-b732-687f621abd68 div.sk-parallel::before {content: \"\";position: absolute;border-left: 1px solid gray;box-sizing: border-box;top: 2em;bottom: 0;left: 50%;}#sk-e80819d2-1545-4e0b-b732-687f621abd68 div.sk-parallel-item {display: flex;flex-direction: column;position: relative;background-color: white;}#sk-e80819d2-1545-4e0b-b732-687f621abd68 div.sk-parallel-item:first-child::after {align-self: flex-end;width: 50%;}#sk-e80819d2-1545-4e0b-b732-687f621abd68 div.sk-parallel-item:last-child::after {align-self: flex-start;width: 50%;}#sk-e80819d2-1545-4e0b-b732-687f621abd68 div.sk-parallel-item:only-child::after {width: 0;}#sk-e80819d2-1545-4e0b-b732-687f621abd68 div.sk-dashed-wrapped {border: 1px dashed gray;margin: 0 0.4em 0.5em 0.4em;box-sizing: border-box;padding-bottom: 0.4em;background-color: white;position: relative;}#sk-e80819d2-1545-4e0b-b732-687f621abd68 div.sk-label label {font-family: monospace;font-weight: bold;background-color: white;display: inline-block;line-height: 1.2em;}#sk-e80819d2-1545-4e0b-b732-687f621abd68 div.sk-label-container {position: relative;z-index: 2;text-align: center;}#sk-e80819d2-1545-4e0b-b732-687f621abd68 div.sk-container {display: inline-block;position: relative;}</style><div id=\"sk-e80819d2-1545-4e0b-b732-687f621abd68\" class\"sk-top-container\"><div class=\"sk-container\"><div class=\"sk-item sk-dashed-wrapped\"><div class=\"sk-label-container\"><div class=\"sk-label sk-toggleable\"><input class=\"sk-toggleable__control sk-hidden--visually\" id=\"f774277a-5f50-40c2-8688-9314ea99ebd4\" type=\"checkbox\" ><label class=\"sk-toggleable__label\" for=\"f774277a-5f50-40c2-8688-9314ea99ebd4\">Pipeline</label><div class=\"sk-toggleable__content\"><pre>Pipeline(steps=[('feats',\n                 FeatureUnion(transformer_list=[('Geography',\n                                                 Pipeline(steps=[('selector',\n                                                                  FeatureSelector(column='Geography')),\n                                                                 ('ohe',\n                                                                  OHEEncoder(key='Geography'))])),\n                                                ('Gender',\n                                                 Pipeline(steps=[('selector',\n                                                                  FeatureSelector(column='Gender')),\n                                                                 ('ohe',\n                                                                  OHEEncoder(key='Gender'))])),\n                                                ('Tenure',\n                                                 Pipeline(steps=[('selector',\n                                                                  FeatureSelector(column='Tenure'...\n                                                                  StandardScaler())])),\n                                                ('Balance',\n                                                 Pipeline(steps=[('selector',\n                                                                  NumberSelector(key='Balance')),\n                                                                 ('standard',\n                                                                  StandardScaler())])),\n                                                ('NumOfProducts',\n                                                 Pipeline(steps=[('selector',\n                                                                  NumberSelector(key='NumOfProducts')),\n                                                                 ('standard',\n                                                                  StandardScaler())])),\n                                                ('EstimatedSalary',\n                                                 Pipeline(steps=[('selector',\n                                                                  NumberSelector(key='EstimatedSalary')),\n                                                                 ('standard',\n                                                                  StandardScaler())]))]))])</pre></div></div></div><div class=\"sk-serial\"><div class=\"sk-item sk-dashed-wrapped\"><div class=\"sk-label-container\"><div class=\"sk-label sk-toggleable\"><input class=\"sk-toggleable__control sk-hidden--visually\" id=\"66bc879a-539a-4af7-9c09-601c980414d2\" type=\"checkbox\" ><label class=\"sk-toggleable__label\" for=\"66bc879a-539a-4af7-9c09-601c980414d2\">feats: FeatureUnion</label><div class=\"sk-toggleable__content\"><pre>FeatureUnion(transformer_list=[('Geography',\n                                Pipeline(steps=[('selector',\n                                                 FeatureSelector(column='Geography')),\n                                                ('ohe',\n                                                 OHEEncoder(key='Geography'))])),\n                               ('Gender',\n                                Pipeline(steps=[('selector',\n                                                 FeatureSelector(column='Gender')),\n                                                ('ohe',\n                                                 OHEEncoder(key='Gender'))])),\n                               ('Tenure',\n                                Pipeline(steps=[('selector',\n                                                 FeatureSelector(column='Tenure')),\n                                                ('ohe',\n                                                 OHEEncoder(key=...\n                                                 StandardScaler())])),\n                               ('Balance',\n                                Pipeline(steps=[('selector',\n                                                 NumberSelector(key='Balance')),\n                                                ('standard',\n                                                 StandardScaler())])),\n                               ('NumOfProducts',\n                                Pipeline(steps=[('selector',\n                                                 NumberSelector(key='NumOfProducts')),\n                                                ('standard',\n                                                 StandardScaler())])),\n                               ('EstimatedSalary',\n                                Pipeline(steps=[('selector',\n                                                 NumberSelector(key='EstimatedSalary')),\n                                                ('standard',\n                                                 StandardScaler())]))])</pre></div></div></div><div class=\"sk-parallel\"><div class=\"sk-parallel-item\"><div class=\"sk-item\"><div class=\"sk-label-container\"><div class=\"sk-label sk-toggleable\"><label>Geography</label></div></div><div class=\"sk-serial\"><div class=\"sk-item\"><div class=\"sk-serial\"><div class=\"sk-item\"><div class=\"sk-estimator sk-toggleable\"><input class=\"sk-toggleable__control sk-hidden--visually\" id=\"7443e16a-b8ad-4c4f-b945-e0c7216fb72e\" type=\"checkbox\" ><label class=\"sk-toggleable__label\" for=\"7443e16a-b8ad-4c4f-b945-e0c7216fb72e\">FeatureSelector</label><div class=\"sk-toggleable__content\"><pre>FeatureSelector(column='Geography')</pre></div></div></div><div class=\"sk-item\"><div class=\"sk-estimator sk-toggleable\"><input class=\"sk-toggleable__control sk-hidden--visually\" id=\"50e13988-418d-423a-8df7-8874ea134699\" type=\"checkbox\" ><label class=\"sk-toggleable__label\" for=\"50e13988-418d-423a-8df7-8874ea134699\">OHEEncoder</label><div class=\"sk-toggleable__content\"><pre>OHEEncoder(key='Geography')</pre></div></div></div></div></div></div></div></div><div class=\"sk-parallel-item\"><div class=\"sk-item\"><div class=\"sk-label-container\"><div class=\"sk-label sk-toggleable\"><label>Gender</label></div></div><div class=\"sk-serial\"><div class=\"sk-item\"><div class=\"sk-serial\"><div class=\"sk-item\"><div class=\"sk-estimator sk-toggleable\"><input class=\"sk-toggleable__control sk-hidden--visually\" id=\"094a63e0-2cef-433d-b798-2b8a3bad649c\" type=\"checkbox\" ><label class=\"sk-toggleable__label\" for=\"094a63e0-2cef-433d-b798-2b8a3bad649c\">FeatureSelector</label><div class=\"sk-toggleable__content\"><pre>FeatureSelector(column='Gender')</pre></div></div></div><div class=\"sk-item\"><div class=\"sk-estimator sk-toggleable\"><input class=\"sk-toggleable__control sk-hidden--visually\" id=\"d8cf68f4-3a1b-4299-9a06-dc46ec460094\" type=\"checkbox\" ><label class=\"sk-toggleable__label\" for=\"d8cf68f4-3a1b-4299-9a06-dc46ec460094\">OHEEncoder</label><div class=\"sk-toggleable__content\"><pre>OHEEncoder(key='Gender')</pre></div></div></div></div></div></div></div></div><div class=\"sk-parallel-item\"><div class=\"sk-item\"><div class=\"sk-label-container\"><div class=\"sk-label sk-toggleable\"><label>Tenure</label></div></div><div class=\"sk-serial\"><div class=\"sk-item\"><div class=\"sk-serial\"><div class=\"sk-item\"><div class=\"sk-estimator sk-toggleable\"><input class=\"sk-toggleable__control sk-hidden--visually\" id=\"74bcb8b1-d395-4935-9cc6-beb75e3296cb\" type=\"checkbox\" ><label class=\"sk-toggleable__label\" for=\"74bcb8b1-d395-4935-9cc6-beb75e3296cb\">FeatureSelector</label><div class=\"sk-toggleable__content\"><pre>FeatureSelector(column='Tenure')</pre></div></div></div><div class=\"sk-item\"><div class=\"sk-estimator sk-toggleable\"><input class=\"sk-toggleable__control sk-hidden--visually\" id=\"297458d0-51e0-41e1-a5b9-aba3e32aa278\" type=\"checkbox\" ><label class=\"sk-toggleable__label\" for=\"297458d0-51e0-41e1-a5b9-aba3e32aa278\">OHEEncoder</label><div class=\"sk-toggleable__content\"><pre>OHEEncoder(key='Tenure')</pre></div></div></div></div></div></div></div></div><div class=\"sk-parallel-item\"><div class=\"sk-item\"><div class=\"sk-label-container\"><div class=\"sk-label sk-toggleable\"><label>HasCrCard</label></div></div><div class=\"sk-serial\"><div class=\"sk-item\"><div class=\"sk-serial\"><div class=\"sk-item\"><div class=\"sk-estimator sk-toggleable\"><input class=\"sk-toggleable__control sk-hidden--visually\" id=\"da7e6434-6e71-4d5d-8add-3e717c769480\" type=\"checkbox\" ><label class=\"sk-toggleable__label\" for=\"da7e6434-6e71-4d5d-8add-3e717c769480\">FeatureSelector</label><div class=\"sk-toggleable__content\"><pre>FeatureSelector(column='HasCrCard')</pre></div></div></div><div class=\"sk-item\"><div class=\"sk-estimator sk-toggleable\"><input class=\"sk-toggleable__control sk-hidden--visually\" id=\"ca63cf64-5d41-4c78-9df4-30d78b65ddb4\" type=\"checkbox\" ><label class=\"sk-toggleable__label\" for=\"ca63cf64-5d41-4c78-9df4-30d78b65ddb4\">OHEEncoder</label><div class=\"sk-toggleable__content\"><pre>OHEEncoder(key='HasCrCard')</pre></div></div></div></div></div></div></div></div><div class=\"sk-parallel-item\"><div class=\"sk-item\"><div class=\"sk-label-container\"><div class=\"sk-label sk-toggleable\"><label>IsActiveMember</label></div></div><div class=\"sk-serial\"><div class=\"sk-item\"><div class=\"sk-serial\"><div class=\"sk-item\"><div class=\"sk-estimator sk-toggleable\"><input class=\"sk-toggleable__control sk-hidden--visually\" id=\"9e603ca4-2bbd-4b65-9a0f-eb763dec2237\" type=\"checkbox\" ><label class=\"sk-toggleable__label\" for=\"9e603ca4-2bbd-4b65-9a0f-eb763dec2237\">FeatureSelector</label><div class=\"sk-toggleable__content\"><pre>FeatureSelector(column='IsActiveMember')</pre></div></div></div><div class=\"sk-item\"><div class=\"sk-estimator sk-toggleable\"><input class=\"sk-toggleable__control sk-hidden--visually\" id=\"ae81d1c4-f4ba-413a-bd48-445b5772288f\" type=\"checkbox\" ><label class=\"sk-toggleable__label\" for=\"ae81d1c4-f4ba-413a-bd48-445b5772288f\">OHEEncoder</label><div class=\"sk-toggleable__content\"><pre>OHEEncoder(key='IsActiveMember')</pre></div></div></div></div></div></div></div></div><div class=\"sk-parallel-item\"><div class=\"sk-item\"><div class=\"sk-label-container\"><div class=\"sk-label sk-toggleable\"><label>CreditScore</label></div></div><div class=\"sk-serial\"><div class=\"sk-item\"><div class=\"sk-serial\"><div class=\"sk-item\"><div class=\"sk-estimator sk-toggleable\"><input class=\"sk-toggleable__control sk-hidden--visually\" id=\"264e64c6-ac38-40aa-99b1-d972a3fff69a\" type=\"checkbox\" ><label class=\"sk-toggleable__label\" for=\"264e64c6-ac38-40aa-99b1-d972a3fff69a\">NumberSelector</label><div class=\"sk-toggleable__content\"><pre>NumberSelector(key='CreditScore')</pre></div></div></div><div class=\"sk-item\"><div class=\"sk-estimator sk-toggleable\"><input class=\"sk-toggleable__control sk-hidden--visually\" id=\"9656fc2c-cb3f-419e-a72f-876683bb10e9\" type=\"checkbox\" ><label class=\"sk-toggleable__label\" for=\"9656fc2c-cb3f-419e-a72f-876683bb10e9\">StandardScaler</label><div class=\"sk-toggleable__content\"><pre>StandardScaler()</pre></div></div></div></div></div></div></div></div><div class=\"sk-parallel-item\"><div class=\"sk-item\"><div class=\"sk-label-container\"><div class=\"sk-label sk-toggleable\"><label>Age</label></div></div><div class=\"sk-serial\"><div class=\"sk-item\"><div class=\"sk-serial\"><div class=\"sk-item\"><div class=\"sk-estimator sk-toggleable\"><input class=\"sk-toggleable__control sk-hidden--visually\" id=\"0d81cdf8-692a-46c8-b026-04a98146d74f\" type=\"checkbox\" ><label class=\"sk-toggleable__label\" for=\"0d81cdf8-692a-46c8-b026-04a98146d74f\">NumberSelector</label><div class=\"sk-toggleable__content\"><pre>NumberSelector(key='Age')</pre></div></div></div><div class=\"sk-item\"><div class=\"sk-estimator sk-toggleable\"><input class=\"sk-toggleable__control sk-hidden--visually\" id=\"08baa152-f8a7-41f3-a957-7615719563f9\" type=\"checkbox\" ><label class=\"sk-toggleable__label\" for=\"08baa152-f8a7-41f3-a957-7615719563f9\">StandardScaler</label><div class=\"sk-toggleable__content\"><pre>StandardScaler()</pre></div></div></div></div></div></div></div></div><div class=\"sk-parallel-item\"><div class=\"sk-item\"><div class=\"sk-label-container\"><div class=\"sk-label sk-toggleable\"><label>Balance</label></div></div><div class=\"sk-serial\"><div class=\"sk-item\"><div class=\"sk-serial\"><div class=\"sk-item\"><div class=\"sk-estimator sk-toggleable\"><input class=\"sk-toggleable__control sk-hidden--visually\" id=\"0137ba65-9daf-41f4-bd12-de50d3d50e68\" type=\"checkbox\" ><label class=\"sk-toggleable__label\" for=\"0137ba65-9daf-41f4-bd12-de50d3d50e68\">NumberSelector</label><div class=\"sk-toggleable__content\"><pre>NumberSelector(key='Balance')</pre></div></div></div><div class=\"sk-item\"><div class=\"sk-estimator sk-toggleable\"><input class=\"sk-toggleable__control sk-hidden--visually\" id=\"d2dad30e-5c12-41ec-92e8-f1b09f6324fd\" type=\"checkbox\" ><label class=\"sk-toggleable__label\" for=\"d2dad30e-5c12-41ec-92e8-f1b09f6324fd\">StandardScaler</label><div class=\"sk-toggleable__content\"><pre>StandardScaler()</pre></div></div></div></div></div></div></div></div><div class=\"sk-parallel-item\"><div class=\"sk-item\"><div class=\"sk-label-container\"><div class=\"sk-label sk-toggleable\"><label>NumOfProducts</label></div></div><div class=\"sk-serial\"><div class=\"sk-item\"><div class=\"sk-serial\"><div class=\"sk-item\"><div class=\"sk-estimator sk-toggleable\"><input class=\"sk-toggleable__control sk-hidden--visually\" id=\"4a579a3a-7fa5-4224-80b9-b5ac5b191af6\" type=\"checkbox\" ><label class=\"sk-toggleable__label\" for=\"4a579a3a-7fa5-4224-80b9-b5ac5b191af6\">NumberSelector</label><div class=\"sk-toggleable__content\"><pre>NumberSelector(key='NumOfProducts')</pre></div></div></div><div class=\"sk-item\"><div class=\"sk-estimator sk-toggleable\"><input class=\"sk-toggleable__control sk-hidden--visually\" id=\"36d51e24-1346-461b-92e6-e8997133ae8c\" type=\"checkbox\" ><label class=\"sk-toggleable__label\" for=\"36d51e24-1346-461b-92e6-e8997133ae8c\">StandardScaler</label><div class=\"sk-toggleable__content\"><pre>StandardScaler()</pre></div></div></div></div></div></div></div></div><div class=\"sk-parallel-item\"><div class=\"sk-item\"><div class=\"sk-label-container\"><div class=\"sk-label sk-toggleable\"><label>EstimatedSalary</label></div></div><div class=\"sk-serial\"><div class=\"sk-item\"><div class=\"sk-serial\"><div class=\"sk-item\"><div class=\"sk-estimator sk-toggleable\"><input class=\"sk-toggleable__control sk-hidden--visually\" id=\"6151e994-b088-41e0-83c9-7f71c9e7dbce\" type=\"checkbox\" ><label class=\"sk-toggleable__label\" for=\"6151e994-b088-41e0-83c9-7f71c9e7dbce\">NumberSelector</label><div class=\"sk-toggleable__content\"><pre>NumberSelector(key='EstimatedSalary')</pre></div></div></div><div class=\"sk-item\"><div class=\"sk-estimator sk-toggleable\"><input class=\"sk-toggleable__control sk-hidden--visually\" id=\"c4584b80-cd56-4cc0-a44e-b02fdbf98450\" type=\"checkbox\" ><label class=\"sk-toggleable__label\" for=\"c4584b80-cd56-4cc0-a44e-b02fdbf98450\">StandardScaler</label><div class=\"sk-toggleable__content\"><pre>StandardScaler()</pre></div></div></div></div></div></div></div></div></div></div></div></div></div></div>"
     },
     "execution_count": 110,
     "metadata": {},
     "output_type": "execute_result"
    }
   ],
   "source": [
    "from sklearn import set_config\n",
    "\n",
    "set_config(display='diagram')\n",
    "feature_processing"
   ],
   "metadata": {
    "collapsed": false,
    "pycharm": {
     "name": "#%%\n"
    }
   }
  },
  {
   "cell_type": "markdown",
   "source": [
    "### Программные блоки"
   ],
   "metadata": {
    "collapsed": false,
    "pycharm": {
     "name": "#%% md\n"
    }
   }
  },
  {
   "cell_type": "markdown",
   "source": [
    "Нам нужно от вероятностей перейти к меткам классов. Для этого нужно подобрать порог, после которого мы считаем, что объект можно отнести к классу 1 (если вероятность больше порога - размечаем объект как класс 1, если нет - класс 0)"
   ],
   "metadata": {
    "collapsed": false
   }
  },
  {
   "cell_type": "code",
   "execution_count": 111,
   "outputs": [],
   "source": [
    "from sklearn.metrics import f1_score, roc_auc_score, precision_score, classification_report, precision_recall_curve,    confusion_matrix\n",
    "\n",
    "def print_sel_thresholds(y_test, preds):\n",
    "    precision, recall, thresholds = precision_recall_curve(y_test, preds)\n",
    "\n",
    "    fscore = (2 * precision * recall) / (precision + recall)\n",
    "    # locate the index of the largest f score\n",
    "    ix = np.argmax(fscore)\n",
    "    print('Best Threshold=%f, F-Score=%.3f, Precision=%.3f, Recall=%.3f' % (thresholds[ix],\n",
    "                                                                            fscore[ix],\n",
    "                                                                            precision[ix],\n",
    "                                                                            recall[ix]))\n",
    "    return thresholds[ix]"
   ],
   "metadata": {
    "collapsed": false,
    "pycharm": {
     "name": "#%%\n"
    }
   }
  },
  {
   "cell_type": "code",
   "execution_count": 112,
   "outputs": [],
   "source": [
    "def plot_confusion_matrix(cm, classes,\n",
    "                          normalize=False,\n",
    "                          title='Confusion matrix',\n",
    "                          cmap=plt.cm.Blues):\n",
    "    \"\"\"\n",
    "    This function prints and plots the confusion matrix.\n",
    "    Normalization can be applied by setting `normalize=True`.\n",
    "    \"\"\"\n",
    "    plt.imshow(cm, interpolation='nearest', cmap=cmap)\n",
    "    plt.title(title)\n",
    "    plt.colorbar()\n",
    "    tick_marks = np.arange(len(classes))\n",
    "    plt.xticks(tick_marks, classes, rotation=45)\n",
    "    plt.yticks(tick_marks, classes)\n",
    "\n",
    "    if normalize:\n",
    "        cm = cm.astype('float') / cm.sum(axis=1)[:, np.newaxis]\n",
    "        print(\"Normalized confusion matrix\")\n",
    "    else:\n",
    "        print('Confusion matrix, without normalization')\n",
    "\n",
    "    print(cm)\n",
    "\n",
    "    thresh = cm.max() / 2.\n",
    "    for i, j in itertools.product(range(cm.shape[0]), range(cm.shape[1])):\n",
    "        plt.text(j, i, cm[i, j],\n",
    "                 horizontalalignment=\"center\",\n",
    "                 color=\"white\" if cm[i, j] > thresh else \"black\")\n",
    "\n",
    "    plt.tight_layout()\n",
    "    plt.ylabel('True label')\n",
    "    plt.xlabel('Predicted label')"
   ],
   "metadata": {
    "collapsed": false,
    "pycharm": {
     "name": "#%%\n"
    }
   }
  },
  {
   "cell_type": "code",
   "execution_count": 113,
   "outputs": [],
   "source": [
    "def confusion_matrix_create(y_test, preds, thresholds):\n",
    "    font = {'size': 15}\n",
    "\n",
    "    plt.rc('font', **font)\n",
    "\n",
    "    cnf_matrix = confusion_matrix(y_test, preds > thresholds)\n",
    "    plt.figure(figsize=(10, 8))\n",
    "    plot_confusion_matrix(cnf_matrix, classes=['NonChurn', 'Churn'],\n",
    "                          title='Confusion matrix')\n",
    "    plt.savefig(\"conf_matrix.png\")\n",
    "    plt.show()"
   ],
   "metadata": {
    "collapsed": false,
    "pycharm": {
     "name": "#%%\n"
    }
   }
  },
  {
   "cell_type": "code",
   "source": [
    "models_results = {\n",
    "    'approach': [],\n",
    "    'F-Score': [],\n",
    "    'Precision': [],\n",
    "    'Recall': [],\n",
    "}"
   ],
   "metadata": {
    "collapsed": false,
    "pycharm": {
     "name": "#%%\n"
    }
   },
   "execution_count": null,
   "outputs": []
  },
  {
   "cell_type": "markdown",
   "source": [
    "### I. Обучение модели. RandomForestClassifier"
   ],
   "metadata": {
    "collapsed": false
   }
  },
  {
   "cell_type": "code",
   "execution_count": 114,
   "outputs": [],
   "source": [
    "from sklearn.ensemble import RandomForestClassifier\n",
    "\n",
    "model = RandomForestClassifier(random_state=42)\n"
   ],
   "metadata": {
    "collapsed": false,
    "pycharm": {
     "name": "#%%\n"
    }
   }
  },
  {
   "cell_type": "code",
   "execution_count": 115,
   "outputs": [],
   "source": [
    "pipeline = Pipeline([\n",
    "    ('features', feature_processing),\n",
    "    ('classifier', model),\n",
    "])\n"
   ],
   "metadata": {
    "collapsed": false,
    "pycharm": {
     "name": "#%%\n"
    }
   }
  },
  {
   "cell_type": "code",
   "execution_count": 116,
   "outputs": [
    {
     "data": {
      "text/plain": "Pipeline(steps=[('features',\n                 FeatureUnion(transformer_list=[('Geography',\n                                                 Pipeline(steps=[('selector',\n                                                                  FeatureSelector(column='Geography')),\n                                                                 ('ohe',\n                                                                  OHEEncoder(key='Geography'))])),\n                                                ('Gender',\n                                                 Pipeline(steps=[('selector',\n                                                                  FeatureSelector(column='Gender')),\n                                                                 ('ohe',\n                                                                  OHEEncoder(key='Gender'))])),\n                                                ('Tenure',\n                                                 Pipeline(steps=[('selector',\n                                                                  FeatureSelector(column='Tenu...\n                                                                  NumberSelector(key='Balance')),\n                                                                 ('standard',\n                                                                  StandardScaler())])),\n                                                ('NumOfProducts',\n                                                 Pipeline(steps=[('selector',\n                                                                  NumberSelector(key='NumOfProducts')),\n                                                                 ('standard',\n                                                                  StandardScaler())])),\n                                                ('EstimatedSalary',\n                                                 Pipeline(steps=[('selector',\n                                                                  NumberSelector(key='EstimatedSalary')),\n                                                                 ('standard',\n                                                                  StandardScaler())]))])),\n                ('classifier', RandomForestClassifier(random_state=42))])",
      "text/html": "<style>#sk-50a02224-11e1-4ae1-baba-4654986e0c77 {color: black;background-color: white;}#sk-50a02224-11e1-4ae1-baba-4654986e0c77 pre{padding: 0;}#sk-50a02224-11e1-4ae1-baba-4654986e0c77 div.sk-toggleable {background-color: white;}#sk-50a02224-11e1-4ae1-baba-4654986e0c77 label.sk-toggleable__label {cursor: pointer;display: block;width: 100%;margin-bottom: 0;padding: 0.3em;box-sizing: border-box;text-align: center;}#sk-50a02224-11e1-4ae1-baba-4654986e0c77 div.sk-toggleable__content {max-height: 0;max-width: 0;overflow: hidden;text-align: left;background-color: #f0f8ff;}#sk-50a02224-11e1-4ae1-baba-4654986e0c77 div.sk-toggleable__content pre {margin: 0.2em;color: black;border-radius: 0.25em;background-color: #f0f8ff;}#sk-50a02224-11e1-4ae1-baba-4654986e0c77 input.sk-toggleable__control:checked~div.sk-toggleable__content {max-height: 200px;max-width: 100%;overflow: auto;}#sk-50a02224-11e1-4ae1-baba-4654986e0c77 div.sk-estimator input.sk-toggleable__control:checked~label.sk-toggleable__label {background-color: #d4ebff;}#sk-50a02224-11e1-4ae1-baba-4654986e0c77 div.sk-label input.sk-toggleable__control:checked~label.sk-toggleable__label {background-color: #d4ebff;}#sk-50a02224-11e1-4ae1-baba-4654986e0c77 input.sk-hidden--visually {border: 0;clip: rect(1px 1px 1px 1px);clip: rect(1px, 1px, 1px, 1px);height: 1px;margin: -1px;overflow: hidden;padding: 0;position: absolute;width: 1px;}#sk-50a02224-11e1-4ae1-baba-4654986e0c77 div.sk-estimator {font-family: monospace;background-color: #f0f8ff;border: 1px dotted black;border-radius: 0.25em;box-sizing: border-box;margin-bottom: 0.5em;}#sk-50a02224-11e1-4ae1-baba-4654986e0c77 div.sk-estimator:hover {background-color: #d4ebff;}#sk-50a02224-11e1-4ae1-baba-4654986e0c77 div.sk-parallel-item::after {content: \"\";width: 100%;border-bottom: 1px solid gray;flex-grow: 1;}#sk-50a02224-11e1-4ae1-baba-4654986e0c77 div.sk-label:hover label.sk-toggleable__label {background-color: #d4ebff;}#sk-50a02224-11e1-4ae1-baba-4654986e0c77 div.sk-serial::before {content: \"\";position: absolute;border-left: 1px solid gray;box-sizing: border-box;top: 2em;bottom: 0;left: 50%;}#sk-50a02224-11e1-4ae1-baba-4654986e0c77 div.sk-serial {display: flex;flex-direction: column;align-items: center;background-color: white;padding-right: 0.2em;padding-left: 0.2em;}#sk-50a02224-11e1-4ae1-baba-4654986e0c77 div.sk-item {z-index: 1;}#sk-50a02224-11e1-4ae1-baba-4654986e0c77 div.sk-parallel {display: flex;align-items: stretch;justify-content: center;background-color: white;}#sk-50a02224-11e1-4ae1-baba-4654986e0c77 div.sk-parallel::before {content: \"\";position: absolute;border-left: 1px solid gray;box-sizing: border-box;top: 2em;bottom: 0;left: 50%;}#sk-50a02224-11e1-4ae1-baba-4654986e0c77 div.sk-parallel-item {display: flex;flex-direction: column;position: relative;background-color: white;}#sk-50a02224-11e1-4ae1-baba-4654986e0c77 div.sk-parallel-item:first-child::after {align-self: flex-end;width: 50%;}#sk-50a02224-11e1-4ae1-baba-4654986e0c77 div.sk-parallel-item:last-child::after {align-self: flex-start;width: 50%;}#sk-50a02224-11e1-4ae1-baba-4654986e0c77 div.sk-parallel-item:only-child::after {width: 0;}#sk-50a02224-11e1-4ae1-baba-4654986e0c77 div.sk-dashed-wrapped {border: 1px dashed gray;margin: 0 0.4em 0.5em 0.4em;box-sizing: border-box;padding-bottom: 0.4em;background-color: white;position: relative;}#sk-50a02224-11e1-4ae1-baba-4654986e0c77 div.sk-label label {font-family: monospace;font-weight: bold;background-color: white;display: inline-block;line-height: 1.2em;}#sk-50a02224-11e1-4ae1-baba-4654986e0c77 div.sk-label-container {position: relative;z-index: 2;text-align: center;}#sk-50a02224-11e1-4ae1-baba-4654986e0c77 div.sk-container {display: inline-block;position: relative;}</style><div id=\"sk-50a02224-11e1-4ae1-baba-4654986e0c77\" class\"sk-top-container\"><div class=\"sk-container\"><div class=\"sk-item sk-dashed-wrapped\"><div class=\"sk-label-container\"><div class=\"sk-label sk-toggleable\"><input class=\"sk-toggleable__control sk-hidden--visually\" id=\"52b82ebd-1028-46a3-9ae3-a1fae060c32a\" type=\"checkbox\" ><label class=\"sk-toggleable__label\" for=\"52b82ebd-1028-46a3-9ae3-a1fae060c32a\">Pipeline</label><div class=\"sk-toggleable__content\"><pre>Pipeline(steps=[('features',\n                 FeatureUnion(transformer_list=[('Geography',\n                                                 Pipeline(steps=[('selector',\n                                                                  FeatureSelector(column='Geography')),\n                                                                 ('ohe',\n                                                                  OHEEncoder(key='Geography'))])),\n                                                ('Gender',\n                                                 Pipeline(steps=[('selector',\n                                                                  FeatureSelector(column='Gender')),\n                                                                 ('ohe',\n                                                                  OHEEncoder(key='Gender'))])),\n                                                ('Tenure',\n                                                 Pipeline(steps=[('selector',\n                                                                  FeatureSelector(column='Tenu...\n                                                                  NumberSelector(key='Balance')),\n                                                                 ('standard',\n                                                                  StandardScaler())])),\n                                                ('NumOfProducts',\n                                                 Pipeline(steps=[('selector',\n                                                                  NumberSelector(key='NumOfProducts')),\n                                                                 ('standard',\n                                                                  StandardScaler())])),\n                                                ('EstimatedSalary',\n                                                 Pipeline(steps=[('selector',\n                                                                  NumberSelector(key='EstimatedSalary')),\n                                                                 ('standard',\n                                                                  StandardScaler())]))])),\n                ('classifier', RandomForestClassifier(random_state=42))])</pre></div></div></div><div class=\"sk-serial\"><div class=\"sk-item sk-dashed-wrapped\"><div class=\"sk-label-container\"><div class=\"sk-label sk-toggleable\"><input class=\"sk-toggleable__control sk-hidden--visually\" id=\"49e00eb2-46ae-4f5d-841d-e520179017e8\" type=\"checkbox\" ><label class=\"sk-toggleable__label\" for=\"49e00eb2-46ae-4f5d-841d-e520179017e8\">features: FeatureUnion</label><div class=\"sk-toggleable__content\"><pre>FeatureUnion(transformer_list=[('Geography',\n                                Pipeline(steps=[('selector',\n                                                 FeatureSelector(column='Geography')),\n                                                ('ohe',\n                                                 OHEEncoder(key='Geography'))])),\n                               ('Gender',\n                                Pipeline(steps=[('selector',\n                                                 FeatureSelector(column='Gender')),\n                                                ('ohe',\n                                                 OHEEncoder(key='Gender'))])),\n                               ('Tenure',\n                                Pipeline(steps=[('selector',\n                                                 FeatureSelector(column='Tenure')),\n                                                ('ohe',\n                                                 OHEEncoder(key=...\n                                                 StandardScaler())])),\n                               ('Balance',\n                                Pipeline(steps=[('selector',\n                                                 NumberSelector(key='Balance')),\n                                                ('standard',\n                                                 StandardScaler())])),\n                               ('NumOfProducts',\n                                Pipeline(steps=[('selector',\n                                                 NumberSelector(key='NumOfProducts')),\n                                                ('standard',\n                                                 StandardScaler())])),\n                               ('EstimatedSalary',\n                                Pipeline(steps=[('selector',\n                                                 NumberSelector(key='EstimatedSalary')),\n                                                ('standard',\n                                                 StandardScaler())]))])</pre></div></div></div><div class=\"sk-parallel\"><div class=\"sk-parallel-item\"><div class=\"sk-item\"><div class=\"sk-label-container\"><div class=\"sk-label sk-toggleable\"><label>Geography</label></div></div><div class=\"sk-serial\"><div class=\"sk-item\"><div class=\"sk-serial\"><div class=\"sk-item\"><div class=\"sk-estimator sk-toggleable\"><input class=\"sk-toggleable__control sk-hidden--visually\" id=\"507c65b0-cdf0-4399-9f80-97124bce853b\" type=\"checkbox\" ><label class=\"sk-toggleable__label\" for=\"507c65b0-cdf0-4399-9f80-97124bce853b\">FeatureSelector</label><div class=\"sk-toggleable__content\"><pre>FeatureSelector(column='Geography')</pre></div></div></div><div class=\"sk-item\"><div class=\"sk-estimator sk-toggleable\"><input class=\"sk-toggleable__control sk-hidden--visually\" id=\"46b97120-c4df-4a9d-ab8d-78f2f924d8d7\" type=\"checkbox\" ><label class=\"sk-toggleable__label\" for=\"46b97120-c4df-4a9d-ab8d-78f2f924d8d7\">OHEEncoder</label><div class=\"sk-toggleable__content\"><pre>OHEEncoder(key='Geography')</pre></div></div></div></div></div></div></div></div><div class=\"sk-parallel-item\"><div class=\"sk-item\"><div class=\"sk-label-container\"><div class=\"sk-label sk-toggleable\"><label>Gender</label></div></div><div class=\"sk-serial\"><div class=\"sk-item\"><div class=\"sk-serial\"><div class=\"sk-item\"><div class=\"sk-estimator sk-toggleable\"><input class=\"sk-toggleable__control sk-hidden--visually\" id=\"d33df80d-bff4-4400-8802-700d18647844\" type=\"checkbox\" ><label class=\"sk-toggleable__label\" for=\"d33df80d-bff4-4400-8802-700d18647844\">FeatureSelector</label><div class=\"sk-toggleable__content\"><pre>FeatureSelector(column='Gender')</pre></div></div></div><div class=\"sk-item\"><div class=\"sk-estimator sk-toggleable\"><input class=\"sk-toggleable__control sk-hidden--visually\" id=\"220838d5-a183-432d-812f-861068996085\" type=\"checkbox\" ><label class=\"sk-toggleable__label\" for=\"220838d5-a183-432d-812f-861068996085\">OHEEncoder</label><div class=\"sk-toggleable__content\"><pre>OHEEncoder(key='Gender')</pre></div></div></div></div></div></div></div></div><div class=\"sk-parallel-item\"><div class=\"sk-item\"><div class=\"sk-label-container\"><div class=\"sk-label sk-toggleable\"><label>Tenure</label></div></div><div class=\"sk-serial\"><div class=\"sk-item\"><div class=\"sk-serial\"><div class=\"sk-item\"><div class=\"sk-estimator sk-toggleable\"><input class=\"sk-toggleable__control sk-hidden--visually\" id=\"040b51da-aefe-46de-a8af-180f033f7436\" type=\"checkbox\" ><label class=\"sk-toggleable__label\" for=\"040b51da-aefe-46de-a8af-180f033f7436\">FeatureSelector</label><div class=\"sk-toggleable__content\"><pre>FeatureSelector(column='Tenure')</pre></div></div></div><div class=\"sk-item\"><div class=\"sk-estimator sk-toggleable\"><input class=\"sk-toggleable__control sk-hidden--visually\" id=\"ce17d255-27b4-4b5c-aab0-7955d24cbfe7\" type=\"checkbox\" ><label class=\"sk-toggleable__label\" for=\"ce17d255-27b4-4b5c-aab0-7955d24cbfe7\">OHEEncoder</label><div class=\"sk-toggleable__content\"><pre>OHEEncoder(key='Tenure')</pre></div></div></div></div></div></div></div></div><div class=\"sk-parallel-item\"><div class=\"sk-item\"><div class=\"sk-label-container\"><div class=\"sk-label sk-toggleable\"><label>HasCrCard</label></div></div><div class=\"sk-serial\"><div class=\"sk-item\"><div class=\"sk-serial\"><div class=\"sk-item\"><div class=\"sk-estimator sk-toggleable\"><input class=\"sk-toggleable__control sk-hidden--visually\" id=\"afbd9bc9-a721-4a45-886e-ac9f0e77e5c6\" type=\"checkbox\" ><label class=\"sk-toggleable__label\" for=\"afbd9bc9-a721-4a45-886e-ac9f0e77e5c6\">FeatureSelector</label><div class=\"sk-toggleable__content\"><pre>FeatureSelector(column='HasCrCard')</pre></div></div></div><div class=\"sk-item\"><div class=\"sk-estimator sk-toggleable\"><input class=\"sk-toggleable__control sk-hidden--visually\" id=\"847096af-56d2-43b2-8126-3ebaebcf9fba\" type=\"checkbox\" ><label class=\"sk-toggleable__label\" for=\"847096af-56d2-43b2-8126-3ebaebcf9fba\">OHEEncoder</label><div class=\"sk-toggleable__content\"><pre>OHEEncoder(key='HasCrCard')</pre></div></div></div></div></div></div></div></div><div class=\"sk-parallel-item\"><div class=\"sk-item\"><div class=\"sk-label-container\"><div class=\"sk-label sk-toggleable\"><label>IsActiveMember</label></div></div><div class=\"sk-serial\"><div class=\"sk-item\"><div class=\"sk-serial\"><div class=\"sk-item\"><div class=\"sk-estimator sk-toggleable\"><input class=\"sk-toggleable__control sk-hidden--visually\" id=\"61c93156-3c31-4b3d-bac8-9be20e10818d\" type=\"checkbox\" ><label class=\"sk-toggleable__label\" for=\"61c93156-3c31-4b3d-bac8-9be20e10818d\">FeatureSelector</label><div class=\"sk-toggleable__content\"><pre>FeatureSelector(column='IsActiveMember')</pre></div></div></div><div class=\"sk-item\"><div class=\"sk-estimator sk-toggleable\"><input class=\"sk-toggleable__control sk-hidden--visually\" id=\"8ac6ecdd-be3e-43a1-8c24-e1945ce231df\" type=\"checkbox\" ><label class=\"sk-toggleable__label\" for=\"8ac6ecdd-be3e-43a1-8c24-e1945ce231df\">OHEEncoder</label><div class=\"sk-toggleable__content\"><pre>OHEEncoder(key='IsActiveMember')</pre></div></div></div></div></div></div></div></div><div class=\"sk-parallel-item\"><div class=\"sk-item\"><div class=\"sk-label-container\"><div class=\"sk-label sk-toggleable\"><label>CreditScore</label></div></div><div class=\"sk-serial\"><div class=\"sk-item\"><div class=\"sk-serial\"><div class=\"sk-item\"><div class=\"sk-estimator sk-toggleable\"><input class=\"sk-toggleable__control sk-hidden--visually\" id=\"5dfeab86-1f76-4a90-a299-5f09829d8f98\" type=\"checkbox\" ><label class=\"sk-toggleable__label\" for=\"5dfeab86-1f76-4a90-a299-5f09829d8f98\">NumberSelector</label><div class=\"sk-toggleable__content\"><pre>NumberSelector(key='CreditScore')</pre></div></div></div><div class=\"sk-item\"><div class=\"sk-estimator sk-toggleable\"><input class=\"sk-toggleable__control sk-hidden--visually\" id=\"ad4fe66a-99ee-4763-984c-64621527eb99\" type=\"checkbox\" ><label class=\"sk-toggleable__label\" for=\"ad4fe66a-99ee-4763-984c-64621527eb99\">StandardScaler</label><div class=\"sk-toggleable__content\"><pre>StandardScaler()</pre></div></div></div></div></div></div></div></div><div class=\"sk-parallel-item\"><div class=\"sk-item\"><div class=\"sk-label-container\"><div class=\"sk-label sk-toggleable\"><label>Age</label></div></div><div class=\"sk-serial\"><div class=\"sk-item\"><div class=\"sk-serial\"><div class=\"sk-item\"><div class=\"sk-estimator sk-toggleable\"><input class=\"sk-toggleable__control sk-hidden--visually\" id=\"5e4addf3-3620-43b0-9903-3c625c0117f1\" type=\"checkbox\" ><label class=\"sk-toggleable__label\" for=\"5e4addf3-3620-43b0-9903-3c625c0117f1\">NumberSelector</label><div class=\"sk-toggleable__content\"><pre>NumberSelector(key='Age')</pre></div></div></div><div class=\"sk-item\"><div class=\"sk-estimator sk-toggleable\"><input class=\"sk-toggleable__control sk-hidden--visually\" id=\"cf5b1edb-97e9-46f7-a8e7-bc2d358115db\" type=\"checkbox\" ><label class=\"sk-toggleable__label\" for=\"cf5b1edb-97e9-46f7-a8e7-bc2d358115db\">StandardScaler</label><div class=\"sk-toggleable__content\"><pre>StandardScaler()</pre></div></div></div></div></div></div></div></div><div class=\"sk-parallel-item\"><div class=\"sk-item\"><div class=\"sk-label-container\"><div class=\"sk-label sk-toggleable\"><label>Balance</label></div></div><div class=\"sk-serial\"><div class=\"sk-item\"><div class=\"sk-serial\"><div class=\"sk-item\"><div class=\"sk-estimator sk-toggleable\"><input class=\"sk-toggleable__control sk-hidden--visually\" id=\"bcfe7e32-d383-432d-bd95-75c646d9a504\" type=\"checkbox\" ><label class=\"sk-toggleable__label\" for=\"bcfe7e32-d383-432d-bd95-75c646d9a504\">NumberSelector</label><div class=\"sk-toggleable__content\"><pre>NumberSelector(key='Balance')</pre></div></div></div><div class=\"sk-item\"><div class=\"sk-estimator sk-toggleable\"><input class=\"sk-toggleable__control sk-hidden--visually\" id=\"e9c33b21-e56b-4814-9358-442eeaa130f3\" type=\"checkbox\" ><label class=\"sk-toggleable__label\" for=\"e9c33b21-e56b-4814-9358-442eeaa130f3\">StandardScaler</label><div class=\"sk-toggleable__content\"><pre>StandardScaler()</pre></div></div></div></div></div></div></div></div><div class=\"sk-parallel-item\"><div class=\"sk-item\"><div class=\"sk-label-container\"><div class=\"sk-label sk-toggleable\"><label>NumOfProducts</label></div></div><div class=\"sk-serial\"><div class=\"sk-item\"><div class=\"sk-serial\"><div class=\"sk-item\"><div class=\"sk-estimator sk-toggleable\"><input class=\"sk-toggleable__control sk-hidden--visually\" id=\"5c7f02bb-b443-4d0e-8bd4-94ecc757ef61\" type=\"checkbox\" ><label class=\"sk-toggleable__label\" for=\"5c7f02bb-b443-4d0e-8bd4-94ecc757ef61\">NumberSelector</label><div class=\"sk-toggleable__content\"><pre>NumberSelector(key='NumOfProducts')</pre></div></div></div><div class=\"sk-item\"><div class=\"sk-estimator sk-toggleable\"><input class=\"sk-toggleable__control sk-hidden--visually\" id=\"21ee14be-e1b2-47ae-a673-f422ff32dcac\" type=\"checkbox\" ><label class=\"sk-toggleable__label\" for=\"21ee14be-e1b2-47ae-a673-f422ff32dcac\">StandardScaler</label><div class=\"sk-toggleable__content\"><pre>StandardScaler()</pre></div></div></div></div></div></div></div></div><div class=\"sk-parallel-item\"><div class=\"sk-item\"><div class=\"sk-label-container\"><div class=\"sk-label sk-toggleable\"><label>EstimatedSalary</label></div></div><div class=\"sk-serial\"><div class=\"sk-item\"><div class=\"sk-serial\"><div class=\"sk-item\"><div class=\"sk-estimator sk-toggleable\"><input class=\"sk-toggleable__control sk-hidden--visually\" id=\"6cb0de88-e93f-4d18-9410-947ba3864ed7\" type=\"checkbox\" ><label class=\"sk-toggleable__label\" for=\"6cb0de88-e93f-4d18-9410-947ba3864ed7\">NumberSelector</label><div class=\"sk-toggleable__content\"><pre>NumberSelector(key='EstimatedSalary')</pre></div></div></div><div class=\"sk-item\"><div class=\"sk-estimator sk-toggleable\"><input class=\"sk-toggleable__control sk-hidden--visually\" id=\"68982f0e-b668-4507-a09a-aac66a46e778\" type=\"checkbox\" ><label class=\"sk-toggleable__label\" for=\"68982f0e-b668-4507-a09a-aac66a46e778\">StandardScaler</label><div class=\"sk-toggleable__content\"><pre>StandardScaler()</pre></div></div></div></div></div></div></div></div></div></div><div class=\"sk-item\"><div class=\"sk-estimator sk-toggleable\"><input class=\"sk-toggleable__control sk-hidden--visually\" id=\"ea7e755f-ecae-48e6-ac0a-6569f7f68677\" type=\"checkbox\" ><label class=\"sk-toggleable__label\" for=\"ea7e755f-ecae-48e6-ac0a-6569f7f68677\">RandomForestClassifier</label><div class=\"sk-toggleable__content\"><pre>RandomForestClassifier(random_state=42)</pre></div></div></div></div></div></div></div>"
     },
     "execution_count": 116,
     "metadata": {},
     "output_type": "execute_result"
    }
   ],
   "source": [
    "pipeline.fit(X_train, y_train)"
   ],
   "metadata": {
    "collapsed": false,
    "pycharm": {
     "name": "#%%\n"
    }
   }
  },
  {
   "cell_type": "markdown",
   "source": [
    "#### I.1 Расчет прогнозов для тестовой выборки"
   ],
   "metadata": {
    "collapsed": false,
    "pycharm": {
     "name": "#%% md\n"
    }
   }
  },
  {
   "cell_type": "code",
   "execution_count": 117,
   "outputs": [
    {
     "data": {
      "text/plain": "array([0.37, 0.26, 0.17, 0.02, 0.02, 0.67, 0.04, 0.12, 0.15, 0.75])"
     },
     "execution_count": 117,
     "metadata": {},
     "output_type": "execute_result"
    }
   ],
   "source": [
    "preds = pipeline.predict_proba(X_test)[:, 1]\n",
    "preds[:10]\n"
   ],
   "metadata": {
    "collapsed": false,
    "pycharm": {
     "name": "#%%\n"
    }
   }
  },
  {
   "cell_type": "markdown",
   "source": [
    "#### I.2 Переход от вероятностей к меткам класса. Подбор порога\n"
   ],
   "metadata": {
    "collapsed": false
   }
  },
  {
   "cell_type": "code",
   "execution_count": 118,
   "outputs": [
    {
     "name": "stdout",
     "output_type": "stream",
     "text": [
      "Best Threshold=0.380000, F-Score=0.641, Precision=0.654, Recall=0.629\n"
     ]
    }
   ],
   "source": [
    "thresholds=print_sel_thresholds(y_test, preds)\n"
   ],
   "metadata": {
    "collapsed": false,
    "pycharm": {
     "name": "#%%\n"
    }
   }
  },
  {
   "cell_type": "markdown",
   "source": [
    "#### I.3 Отображение матрицы ошибок"
   ],
   "metadata": {
    "collapsed": false,
    "pycharm": {
     "name": "#%% md\n"
    }
   }
  },
  {
   "cell_type": "code",
   "execution_count": 119,
   "outputs": [
    {
     "name": "stdout",
     "output_type": "stream",
     "text": [
      "Confusion matrix, without normalization\n",
      "[[1833  158]\n",
      " [ 195  314]]\n"
     ]
    },
    {
     "data": {
      "text/plain": "<Figure size 720x576 with 2 Axes>",
      "image/png": "[encoded data removed]"
     },
     "metadata": {
      "needs_background": "light"
     },
     "output_type": "display_data"
    }
   ],
   "source": [
    "confusion_matrix_create(y_test, preds, thresholds)\n"
   ],
   "metadata": {
    "collapsed": false,
    "pycharm": {
     "name": "#%%\n"
    }
   }
  },
  {
   "cell_type": "markdown",
   "source": [
    "> При стандартных настройках модель **RandomForestClassifier** дает небольшие значения метрик\n",
    "- F-Score=0.641,\n",
    "- Precision=0.653,\n",
    "- Recall=0.629"
   ],
   "metadata": {
    "collapsed": false
   }
  },
  {
   "cell_type": "markdown",
   "source": [
    "### II. Обучение модели. LogisticRegression"
   ],
   "metadata": {
    "collapsed": false
   }
  },
  {
   "cell_type": "markdown",
   "source": [
    "#### сборка конвеера"
   ],
   "metadata": {
    "collapsed": false,
    "pycharm": {
     "name": "#%% md\n"
    }
   }
  },
  {
   "cell_type": "code",
   "execution_count": 120,
   "outputs": [],
   "source": [
    "model = LogisticRegression(random_state=42)"
   ],
   "metadata": {
    "collapsed": false,
    "pycharm": {
     "name": "#%%\n"
    }
   }
  },
  {
   "cell_type": "code",
   "execution_count": 121,
   "outputs": [],
   "source": [
    "pipeline = Pipeline([\n",
    "    ('features', feature_processing),\n",
    "    ('classifier', model),\n",
    "])\n"
   ],
   "metadata": {
    "collapsed": false,
    "pycharm": {
     "name": "#%%\n"
    }
   }
  },
  {
   "cell_type": "code",
   "execution_count": 122,
   "outputs": [
    {
     "data": {
      "text/plain": "Pipeline(steps=[('features',\n                 FeatureUnion(transformer_list=[('Geography',\n                                                 Pipeline(steps=[('selector',\n                                                                  FeatureSelector(column='Geography')),\n                                                                 ('ohe',\n                                                                  OHEEncoder(key='Geography'))])),\n                                                ('Gender',\n                                                 Pipeline(steps=[('selector',\n                                                                  FeatureSelector(column='Gender')),\n                                                                 ('ohe',\n                                                                  OHEEncoder(key='Gender'))])),\n                                                ('Tenure',\n                                                 Pipeline(steps=[('selector',\n                                                                  FeatureSelector(column='Tenu...\n                                                                  NumberSelector(key='Balance')),\n                                                                 ('standard',\n                                                                  StandardScaler())])),\n                                                ('NumOfProducts',\n                                                 Pipeline(steps=[('selector',\n                                                                  NumberSelector(key='NumOfProducts')),\n                                                                 ('standard',\n                                                                  StandardScaler())])),\n                                                ('EstimatedSalary',\n                                                 Pipeline(steps=[('selector',\n                                                                  NumberSelector(key='EstimatedSalary')),\n                                                                 ('standard',\n                                                                  StandardScaler())]))])),\n                ('classifier', LogisticRegression(random_state=42))])",
      "text/html": "<style>#sk-c6a62558-b94e-413b-aa2f-aba3462ea36d {color: black;background-color: white;}#sk-c6a62558-b94e-413b-aa2f-aba3462ea36d pre{padding: 0;}#sk-c6a62558-b94e-413b-aa2f-aba3462ea36d div.sk-toggleable {background-color: white;}#sk-c6a62558-b94e-413b-aa2f-aba3462ea36d label.sk-toggleable__label {cursor: pointer;display: block;width: 100%;margin-bottom: 0;padding: 0.3em;box-sizing: border-box;text-align: center;}#sk-c6a62558-b94e-413b-aa2f-aba3462ea36d div.sk-toggleable__content {max-height: 0;max-width: 0;overflow: hidden;text-align: left;background-color: #f0f8ff;}#sk-c6a62558-b94e-413b-aa2f-aba3462ea36d div.sk-toggleable__content pre {margin: 0.2em;color: black;border-radius: 0.25em;background-color: #f0f8ff;}#sk-c6a62558-b94e-413b-aa2f-aba3462ea36d input.sk-toggleable__control:checked~div.sk-toggleable__content {max-height: 200px;max-width: 100%;overflow: auto;}#sk-c6a62558-b94e-413b-aa2f-aba3462ea36d div.sk-estimator input.sk-toggleable__control:checked~label.sk-toggleable__label {background-color: #d4ebff;}#sk-c6a62558-b94e-413b-aa2f-aba3462ea36d div.sk-label input.sk-toggleable__control:checked~label.sk-toggleable__label {background-color: #d4ebff;}#sk-c6a62558-b94e-413b-aa2f-aba3462ea36d input.sk-hidden--visually {border: 0;clip: rect(1px 1px 1px 1px);clip: rect(1px, 1px, 1px, 1px);height: 1px;margin: -1px;overflow: hidden;padding: 0;position: absolute;width: 1px;}#sk-c6a62558-b94e-413b-aa2f-aba3462ea36d div.sk-estimator {font-family: monospace;background-color: #f0f8ff;border: 1px dotted black;border-radius: 0.25em;box-sizing: border-box;margin-bottom: 0.5em;}#sk-c6a62558-b94e-413b-aa2f-aba3462ea36d div.sk-estimator:hover {background-color: #d4ebff;}#sk-c6a62558-b94e-413b-aa2f-aba3462ea36d div.sk-parallel-item::after {content: \"\";width: 100%;border-bottom: 1px solid gray;flex-grow: 1;}#sk-c6a62558-b94e-413b-aa2f-aba3462ea36d div.sk-label:hover label.sk-toggleable__label {background-color: #d4ebff;}#sk-c6a62558-b94e-413b-aa2f-aba3462ea36d div.sk-serial::before {content: \"\";position: absolute;border-left: 1px solid gray;box-sizing: border-box;top: 2em;bottom: 0;left: 50%;}#sk-c6a62558-b94e-413b-aa2f-aba3462ea36d div.sk-serial {display: flex;flex-direction: column;align-items: center;background-color: white;padding-right: 0.2em;padding-left: 0.2em;}#sk-c6a62558-b94e-413b-aa2f-aba3462ea36d div.sk-item {z-index: 1;}#sk-c6a62558-b94e-413b-aa2f-aba3462ea36d div.sk-parallel {display: flex;align-items: stretch;justify-content: center;background-color: white;}#sk-c6a62558-b94e-413b-aa2f-aba3462ea36d div.sk-parallel::before {content: \"\";position: absolute;border-left: 1px solid gray;box-sizing: border-box;top: 2em;bottom: 0;left: 50%;}#sk-c6a62558-b94e-413b-aa2f-aba3462ea36d div.sk-parallel-item {display: flex;flex-direction: column;position: relative;background-color: white;}#sk-c6a62558-b94e-413b-aa2f-aba3462ea36d div.sk-parallel-item:first-child::after {align-self: flex-end;width: 50%;}#sk-c6a62558-b94e-413b-aa2f-aba3462ea36d div.sk-parallel-item:last-child::after {align-self: flex-start;width: 50%;}#sk-c6a62558-b94e-413b-aa2f-aba3462ea36d div.sk-parallel-item:only-child::after {width: 0;}#sk-c6a62558-b94e-413b-aa2f-aba3462ea36d div.sk-dashed-wrapped {border: 1px dashed gray;margin: 0 0.4em 0.5em 0.4em;box-sizing: border-box;padding-bottom: 0.4em;background-color: white;position: relative;}#sk-c6a62558-b94e-413b-aa2f-aba3462ea36d div.sk-label label {font-family: monospace;font-weight: bold;background-color: white;display: inline-block;line-height: 1.2em;}#sk-c6a62558-b94e-413b-aa2f-aba3462ea36d div.sk-label-container {position: relative;z-index: 2;text-align: center;}#sk-c6a62558-b94e-413b-aa2f-aba3462ea36d div.sk-container {display: inline-block;position: relative;}</style><div id=\"sk-c6a62558-b94e-413b-aa2f-aba3462ea36d\" class\"sk-top-container\"><div class=\"sk-container\"><div class=\"sk-item sk-dashed-wrapped\"><div class=\"sk-label-container\"><div class=\"sk-label sk-toggleable\"><input class=\"sk-toggleable__control sk-hidden--visually\" id=\"9ae0ff75-1e1d-46f8-9a26-c574ee8d6d6f\" type=\"checkbox\" ><label class=\"sk-toggleable__label\" for=\"9ae0ff75-1e1d-46f8-9a26-c574ee8d6d6f\">Pipeline</label><div class=\"sk-toggleable__content\"><pre>Pipeline(steps=[('features',\n                 FeatureUnion(transformer_list=[('Geography',\n                                                 Pipeline(steps=[('selector',\n                                                                  FeatureSelector(column='Geography')),\n                                                                 ('ohe',\n                                                                  OHEEncoder(key='Geography'))])),\n                                                ('Gender',\n                                                 Pipeline(steps=[('selector',\n                                                                  FeatureSelector(column='Gender')),\n                                                                 ('ohe',\n                                                                  OHEEncoder(key='Gender'))])),\n                                                ('Tenure',\n                                                 Pipeline(steps=[('selector',\n                                                                  FeatureSelector(column='Tenu...\n                                                                  NumberSelector(key='Balance')),\n                                                                 ('standard',\n                                                                  StandardScaler())])),\n                                                ('NumOfProducts',\n                                                 Pipeline(steps=[('selector',\n                                                                  NumberSelector(key='NumOfProducts')),\n                                                                 ('standard',\n                                                                  StandardScaler())])),\n                                                ('EstimatedSalary',\n                                                 Pipeline(steps=[('selector',\n                                                                  NumberSelector(key='EstimatedSalary')),\n                                                                 ('standard',\n                                                                  StandardScaler())]))])),\n                ('classifier', LogisticRegression(random_state=42))])</pre></div></div></div><div class=\"sk-serial\"><div class=\"sk-item sk-dashed-wrapped\"><div class=\"sk-label-container\"><div class=\"sk-label sk-toggleable\"><input class=\"sk-toggleable__control sk-hidden--visually\" id=\"f6f79d7b-cf2e-47d2-9d18-7698c98520b4\" type=\"checkbox\" ><label class=\"sk-toggleable__label\" for=\"f6f79d7b-cf2e-47d2-9d18-7698c98520b4\">features: FeatureUnion</label><div class=\"sk-toggleable__content\"><pre>FeatureUnion(transformer_list=[('Geography',\n                                Pipeline(steps=[('selector',\n                                                 FeatureSelector(column='Geography')),\n                                                ('ohe',\n                                                 OHEEncoder(key='Geography'))])),\n                               ('Gender',\n                                Pipeline(steps=[('selector',\n                                                 FeatureSelector(column='Gender')),\n                                                ('ohe',\n                                                 OHEEncoder(key='Gender'))])),\n                               ('Tenure',\n                                Pipeline(steps=[('selector',\n                                                 FeatureSelector(column='Tenure')),\n                                                ('ohe',\n                                                 OHEEncoder(key=...\n                                                 StandardScaler())])),\n                               ('Balance',\n                                Pipeline(steps=[('selector',\n                                                 NumberSelector(key='Balance')),\n                                                ('standard',\n                                                 StandardScaler())])),\n                               ('NumOfProducts',\n                                Pipeline(steps=[('selector',\n                                                 NumberSelector(key='NumOfProducts')),\n                                                ('standard',\n                                                 StandardScaler())])),\n                               ('EstimatedSalary',\n                                Pipeline(steps=[('selector',\n                                                 NumberSelector(key='EstimatedSalary')),\n                                                ('standard',\n                                                 StandardScaler())]))])</pre></div></div></div><div class=\"sk-parallel\"><div class=\"sk-parallel-item\"><div class=\"sk-item\"><div class=\"sk-label-container\"><div class=\"sk-label sk-toggleable\"><label>Geography</label></div></div><div class=\"sk-serial\"><div class=\"sk-item\"><div class=\"sk-serial\"><div class=\"sk-item\"><div class=\"sk-estimator sk-toggleable\"><input class=\"sk-toggleable__control sk-hidden--visually\" id=\"2dba2eb1-0a10-426d-92a7-a64c581d5469\" type=\"checkbox\" ><label class=\"sk-toggleable__label\" for=\"2dba2eb1-0a10-426d-92a7-a64c581d5469\">FeatureSelector</label><div class=\"sk-toggleable__content\"><pre>FeatureSelector(column='Geography')</pre></div></div></div><div class=\"sk-item\"><div class=\"sk-estimator sk-toggleable\"><input class=\"sk-toggleable__control sk-hidden--visually\" id=\"23bea4f0-e5f2-414d-937e-045d72cb699c\" type=\"checkbox\" ><label class=\"sk-toggleable__label\" for=\"23bea4f0-e5f2-414d-937e-045d72cb699c\">OHEEncoder</label><div class=\"sk-toggleable__content\"><pre>OHEEncoder(key='Geography')</pre></div></div></div></div></div></div></div></div><div class=\"sk-parallel-item\"><div class=\"sk-item\"><div class=\"sk-label-container\"><div class=\"sk-label sk-toggleable\"><label>Gender</label></div></div><div class=\"sk-serial\"><div class=\"sk-item\"><div class=\"sk-serial\"><div class=\"sk-item\"><div class=\"sk-estimator sk-toggleable\"><input class=\"sk-toggleable__control sk-hidden--visually\" id=\"d8b75a19-8e51-4c10-8c6a-b65522bc9709\" type=\"checkbox\" ><label class=\"sk-toggleable__label\" for=\"d8b75a19-8e51-4c10-8c6a-b65522bc9709\">FeatureSelector</label><div class=\"sk-toggleable__content\"><pre>FeatureSelector(column='Gender')</pre></div></div></div><div class=\"sk-item\"><div class=\"sk-estimator sk-toggleable\"><input class=\"sk-toggleable__control sk-hidden--visually\" id=\"e2697c53-9092-4ac8-b8e1-361dc98d7e43\" type=\"checkbox\" ><label class=\"sk-toggleable__label\" for=\"e2697c53-9092-4ac8-b8e1-361dc98d7e43\">OHEEncoder</label><div class=\"sk-toggleable__content\"><pre>OHEEncoder(key='Gender')</pre></div></div></div></div></div></div></div></div><div class=\"sk-parallel-item\"><div class=\"sk-item\"><div class=\"sk-label-container\"><div class=\"sk-label sk-toggleable\"><label>Tenure</label></div></div><div class=\"sk-serial\"><div class=\"sk-item\"><div class=\"sk-serial\"><div class=\"sk-item\"><div class=\"sk-estimator sk-toggleable\"><input class=\"sk-toggleable__control sk-hidden--visually\" id=\"aa6cef70-5daf-4572-9782-b1062b3a3483\" type=\"checkbox\" ><label class=\"sk-toggleable__label\" for=\"aa6cef70-5daf-4572-9782-b1062b3a3483\">FeatureSelector</label><div class=\"sk-toggleable__content\"><pre>FeatureSelector(column='Tenure')</pre></div></div></div><div class=\"sk-item\"><div class=\"sk-estimator sk-toggleable\"><input class=\"sk-toggleable__control sk-hidden--visually\" id=\"4aad9a09-aefd-4284-929d-e2d65e325e03\" type=\"checkbox\" ><label class=\"sk-toggleable__label\" for=\"4aad9a09-aefd-4284-929d-e2d65e325e03\">OHEEncoder</label><div class=\"sk-toggleable__content\"><pre>OHEEncoder(key='Tenure')</pre></div></div></div></div></div></div></div></div><div class=\"sk-parallel-item\"><div class=\"sk-item\"><div class=\"sk-label-container\"><div class=\"sk-label sk-toggleable\"><label>HasCrCard</label></div></div><div class=\"sk-serial\"><div class=\"sk-item\"><div class=\"sk-serial\"><div class=\"sk-item\"><div class=\"sk-estimator sk-toggleable\"><input class=\"sk-toggleable__control sk-hidden--visually\" id=\"4a9f8809-af56-47f5-b5e0-fb2f51d00263\" type=\"checkbox\" ><label class=\"sk-toggleable__label\" for=\"4a9f8809-af56-47f5-b5e0-fb2f51d00263\">FeatureSelector</label><div class=\"sk-toggleable__content\"><pre>FeatureSelector(column='HasCrCard')</pre></div></div></div><div class=\"sk-item\"><div class=\"sk-estimator sk-toggleable\"><input class=\"sk-toggleable__control sk-hidden--visually\" id=\"6d64f85c-ee3a-4f6e-993d-de397d49baf2\" type=\"checkbox\" ><label class=\"sk-toggleable__label\" for=\"6d64f85c-ee3a-4f6e-993d-de397d49baf2\">OHEEncoder</label><div class=\"sk-toggleable__content\"><pre>OHEEncoder(key='HasCrCard')</pre></div></div></div></div></div></div></div></div><div class=\"sk-parallel-item\"><div class=\"sk-item\"><div class=\"sk-label-container\"><div class=\"sk-label sk-toggleable\"><label>IsActiveMember</label></div></div><div class=\"sk-serial\"><div class=\"sk-item\"><div class=\"sk-serial\"><div class=\"sk-item\"><div class=\"sk-estimator sk-toggleable\"><input class=\"sk-toggleable__control sk-hidden--visually\" id=\"4b4e438f-b1ee-41ba-8129-dcc559dd4cb2\" type=\"checkbox\" ><label class=\"sk-toggleable__label\" for=\"4b4e438f-b1ee-41ba-8129-dcc559dd4cb2\">FeatureSelector</label><div class=\"sk-toggleable__content\"><pre>FeatureSelector(column='IsActiveMember')</pre></div></div></div><div class=\"sk-item\"><div class=\"sk-estimator sk-toggleable\"><input class=\"sk-toggleable__control sk-hidden--visually\" id=\"4777b884-b7f4-47ee-ba18-81da89ee0442\" type=\"checkbox\" ><label class=\"sk-toggleable__label\" for=\"4777b884-b7f4-47ee-ba18-81da89ee0442\">OHEEncoder</label><div class=\"sk-toggleable__content\"><pre>OHEEncoder(key='IsActiveMember')</pre></div></div></div></div></div></div></div></div><div class=\"sk-parallel-item\"><div class=\"sk-item\"><div class=\"sk-label-container\"><div class=\"sk-label sk-toggleable\"><label>CreditScore</label></div></div><div class=\"sk-serial\"><div class=\"sk-item\"><div class=\"sk-serial\"><div class=\"sk-item\"><div class=\"sk-estimator sk-toggleable\"><input class=\"sk-toggleable__control sk-hidden--visually\" id=\"d9ff4aeb-4963-4421-94e2-2ce151df2180\" type=\"checkbox\" ><label class=\"sk-toggleable__label\" for=\"d9ff4aeb-4963-4421-94e2-2ce151df2180\">NumberSelector</label><div class=\"sk-toggleable__content\"><pre>NumberSelector(key='CreditScore')</pre></div></div></div><div class=\"sk-item\"><div class=\"sk-estimator sk-toggleable\"><input class=\"sk-toggleable__control sk-hidden--visually\" id=\"2eaa0295-714f-4dda-bc2b-2405c600fe03\" type=\"checkbox\" ><label class=\"sk-toggleable__label\" for=\"2eaa0295-714f-4dda-bc2b-2405c600fe03\">StandardScaler</label><div class=\"sk-toggleable__content\"><pre>StandardScaler()</pre></div></div></div></div></div></div></div></div><div class=\"sk-parallel-item\"><div class=\"sk-item\"><div class=\"sk-label-container\"><div class=\"sk-label sk-toggleable\"><label>Age</label></div></div><div class=\"sk-serial\"><div class=\"sk-item\"><div class=\"sk-serial\"><div class=\"sk-item\"><div class=\"sk-estimator sk-toggleable\"><input class=\"sk-toggleable__control sk-hidden--visually\" id=\"db602c2c-0919-4bd6-a773-39ceca763e6e\" type=\"checkbox\" ><label class=\"sk-toggleable__label\" for=\"db602c2c-0919-4bd6-a773-39ceca763e6e\">NumberSelector</label><div class=\"sk-toggleable__content\"><pre>NumberSelector(key='Age')</pre></div></div></div><div class=\"sk-item\"><div class=\"sk-estimator sk-toggleable\"><input class=\"sk-toggleable__control sk-hidden--visually\" id=\"f9e4486c-563b-4de9-910b-553b6873d646\" type=\"checkbox\" ><label class=\"sk-toggleable__label\" for=\"f9e4486c-563b-4de9-910b-553b6873d646\">StandardScaler</label><div class=\"sk-toggleable__content\"><pre>StandardScaler()</pre></div></div></div></div></div></div></div></div><div class=\"sk-parallel-item\"><div class=\"sk-item\"><div class=\"sk-label-container\"><div class=\"sk-label sk-toggleable\"><label>Balance</label></div></div><div class=\"sk-serial\"><div class=\"sk-item\"><div class=\"sk-serial\"><div class=\"sk-item\"><div class=\"sk-estimator sk-toggleable\"><input class=\"sk-toggleable__control sk-hidden--visually\" id=\"68ef12ad-9399-4f6d-9458-b231e314dc92\" type=\"checkbox\" ><label class=\"sk-toggleable__label\" for=\"68ef12ad-9399-4f6d-9458-b231e314dc92\">NumberSelector</label><div class=\"sk-toggleable__content\"><pre>NumberSelector(key='Balance')</pre></div></div></div><div class=\"sk-item\"><div class=\"sk-estimator sk-toggleable\"><input class=\"sk-toggleable__control sk-hidden--visually\" id=\"0fec3635-08e4-4176-9860-1f854e94980e\" type=\"checkbox\" ><label class=\"sk-toggleable__label\" for=\"0fec3635-08e4-4176-9860-1f854e94980e\">StandardScaler</label><div class=\"sk-toggleable__content\"><pre>StandardScaler()</pre></div></div></div></div></div></div></div></div><div class=\"sk-parallel-item\"><div class=\"sk-item\"><div class=\"sk-label-container\"><div class=\"sk-label sk-toggleable\"><label>NumOfProducts</label></div></div><div class=\"sk-serial\"><div class=\"sk-item\"><div class=\"sk-serial\"><div class=\"sk-item\"><div class=\"sk-estimator sk-toggleable\"><input class=\"sk-toggleable__control sk-hidden--visually\" id=\"ab15e37c-5b88-44db-80f4-9504785ac55e\" type=\"checkbox\" ><label class=\"sk-toggleable__label\" for=\"ab15e37c-5b88-44db-80f4-9504785ac55e\">NumberSelector</label><div class=\"sk-toggleable__content\"><pre>NumberSelector(key='NumOfProducts')</pre></div></div></div><div class=\"sk-item\"><div class=\"sk-estimator sk-toggleable\"><input class=\"sk-toggleable__control sk-hidden--visually\" id=\"4874b014-d90f-4f37-8924-66f69fcf5c37\" type=\"checkbox\" ><label class=\"sk-toggleable__label\" for=\"4874b014-d90f-4f37-8924-66f69fcf5c37\">StandardScaler</label><div class=\"sk-toggleable__content\"><pre>StandardScaler()</pre></div></div></div></div></div></div></div></div><div class=\"sk-parallel-item\"><div class=\"sk-item\"><div class=\"sk-label-container\"><div class=\"sk-label sk-toggleable\"><label>EstimatedSalary</label></div></div><div class=\"sk-serial\"><div class=\"sk-item\"><div class=\"sk-serial\"><div class=\"sk-item\"><div class=\"sk-estimator sk-toggleable\"><input class=\"sk-toggleable__control sk-hidden--visually\" id=\"364379af-fe89-4b37-9915-885d98aeb058\" type=\"checkbox\" ><label class=\"sk-toggleable__label\" for=\"364379af-fe89-4b37-9915-885d98aeb058\">NumberSelector</label><div class=\"sk-toggleable__content\"><pre>NumberSelector(key='EstimatedSalary')</pre></div></div></div><div class=\"sk-item\"><div class=\"sk-estimator sk-toggleable\"><input class=\"sk-toggleable__control sk-hidden--visually\" id=\"fbae07e5-a057-445a-86f2-c349d6e21a55\" type=\"checkbox\" ><label class=\"sk-toggleable__label\" for=\"fbae07e5-a057-445a-86f2-c349d6e21a55\">StandardScaler</label><div class=\"sk-toggleable__content\"><pre>StandardScaler()</pre></div></div></div></div></div></div></div></div></div></div><div class=\"sk-item\"><div class=\"sk-estimator sk-toggleable\"><input class=\"sk-toggleable__control sk-hidden--visually\" id=\"db3a3abe-63b6-458f-a010-d2705a075b4c\" type=\"checkbox\" ><label class=\"sk-toggleable__label\" for=\"db3a3abe-63b6-458f-a010-d2705a075b4c\">LogisticRegression</label><div class=\"sk-toggleable__content\"><pre>LogisticRegression(random_state=42)</pre></div></div></div></div></div></div></div>"
     },
     "execution_count": 122,
     "metadata": {},
     "output_type": "execute_result"
    }
   ],
   "source": [
    "pipeline.fit(X_train, y_train)"
   ],
   "metadata": {
    "collapsed": false,
    "pycharm": {
     "name": "#%%\n"
    }
   }
  },
  {
   "cell_type": "markdown",
   "source": [
    "#### II.1 Расчет прогнозов для тестовой выборки"
   ],
   "metadata": {
    "collapsed": false
   }
  },
  {
   "cell_type": "code",
   "execution_count": 123,
   "outputs": [
    {
     "data": {
      "text/plain": "array([0.22805865, 0.3350657 , 0.15347886, 0.12466446, 0.15507743,\n       0.6431308 , 0.06214346, 0.077948  , 0.36717132, 0.76751542])"
     },
     "execution_count": 123,
     "metadata": {},
     "output_type": "execute_result"
    }
   ],
   "source": [
    "preds = pipeline.predict_proba(X_test)[:, 1]\n",
    "preds[:10]"
   ],
   "metadata": {
    "collapsed": false,
    "pycharm": {
     "name": "#%%\n"
    }
   }
  },
  {
   "cell_type": "markdown",
   "source": [
    "#### II.2 Переход от вероятностей к меткам класса. Подбор порога\n"
   ],
   "metadata": {
    "collapsed": false
   }
  },
  {
   "cell_type": "code",
   "execution_count": 124,
   "outputs": [
    {
     "name": "stdout",
     "output_type": "stream",
     "text": [
      "Best Threshold=0.289522, F-Score=0.510, Precision=0.462, Recall=0.568\n"
     ]
    }
   ],
   "source": [
    "thresholds=print_sel_thresholds(y_test, preds)"
   ],
   "metadata": {
    "collapsed": false,
    "pycharm": {
     "name": "#%%\n"
    }
   }
  },
  {
   "cell_type": "markdown",
   "source": [
    "#### II.3 Отображение матрицы ошибок"
   ],
   "metadata": {
    "collapsed": false
   }
  },
  {
   "cell_type": "code",
   "execution_count": 125,
   "outputs": [
    {
     "name": "stdout",
     "output_type": "stream",
     "text": [
      "Confusion matrix, without normalization\n",
      "[[1655  336]\n",
      " [ 221  288]]\n"
     ]
    },
    {
     "data": {
      "text/plain": "<Figure size 720x576 with 2 Axes>",
      "image/png": "[encoded data removed]"
     },
     "metadata": {
      "needs_background": "light"
     },
     "output_type": "display_data"
    }
   ],
   "source": [
    "confusion_matrix_create(y_test, preds, thresholds)\n",
    "\n"
   ],
   "metadata": {
    "collapsed": false,
    "pycharm": {
     "name": "#%%\n"
    }
   }
  },
  {
   "cell_type": "markdown",
   "source": [
    "> При стандартных настройках модель **LogisticRegression** дает небольшие значения метрик\n",
    "- F-Score=0.510,\n",
    "- Precision=0.462,\n",
    "- Recall=0.568\n",
    "\n"
   ],
   "metadata": {
    "collapsed": false,
    "pycharm": {
     "name": "#%% md\n"
    }
   }
  },
  {
   "cell_type": "markdown",
   "source": [
    "### III. Обучение модели. AdaBoostClassifier"
   ],
   "metadata": {
    "collapsed": false
   }
  },
  {
   "cell_type": "markdown",
   "source": [
    "#### сборка конвеера"
   ],
   "metadata": {
    "collapsed": false
   }
  },
  {
   "cell_type": "code",
   "execution_count": 138,
   "outputs": [],
   "source": [
    "from sklearn.ensemble import AdaBoostClassifier\n",
    "\n",
    "model = AdaBoostClassifier(n_estimators=100)"
   ],
   "metadata": {
    "collapsed": false,
    "pycharm": {
     "name": "#%%\n"
    }
   }
  },
  {
   "cell_type": "code",
   "execution_count": 139,
   "outputs": [],
   "source": [
    "pipeline = Pipeline([\n",
    "    ('features', feature_processing),\n",
    "    ('classifier', model),\n",
    "])\n"
   ],
   "metadata": {
    "collapsed": false,
    "pycharm": {
     "name": "#%%\n"
    }
   }
  },
  {
   "cell_type": "code",
   "execution_count": 140,
   "outputs": [
    {
     "data": {
      "text/plain": "Pipeline(steps=[('features',\n                 FeatureUnion(transformer_list=[('Geography',\n                                                 Pipeline(steps=[('selector',\n                                                                  FeatureSelector(column='Geography')),\n                                                                 ('ohe',\n                                                                  OHEEncoder(key='Geography'))])),\n                                                ('Gender',\n                                                 Pipeline(steps=[('selector',\n                                                                  FeatureSelector(column='Gender')),\n                                                                 ('ohe',\n                                                                  OHEEncoder(key='Gender'))])),\n                                                ('Tenure',\n                                                 Pipeline(steps=[('selector',\n                                                                  FeatureSelector(column='Tenu...\n                                                                  NumberSelector(key='Balance')),\n                                                                 ('standard',\n                                                                  StandardScaler())])),\n                                                ('NumOfProducts',\n                                                 Pipeline(steps=[('selector',\n                                                                  NumberSelector(key='NumOfProducts')),\n                                                                 ('standard',\n                                                                  StandardScaler())])),\n                                                ('EstimatedSalary',\n                                                 Pipeline(steps=[('selector',\n                                                                  NumberSelector(key='EstimatedSalary')),\n                                                                 ('standard',\n                                                                  StandardScaler())]))])),\n                ('classifier', AdaBoostClassifier(n_estimators=100))])",
      "text/html": "<style>#sk-e2d0a6f7-8299-48e9-b3ae-e1f591b9329f {color: black;background-color: white;}#sk-e2d0a6f7-8299-48e9-b3ae-e1f591b9329f pre{padding: 0;}#sk-e2d0a6f7-8299-48e9-b3ae-e1f591b9329f div.sk-toggleable {background-color: white;}#sk-e2d0a6f7-8299-48e9-b3ae-e1f591b9329f label.sk-toggleable__label {cursor: pointer;display: block;width: 100%;margin-bottom: 0;padding: 0.3em;box-sizing: border-box;text-align: center;}#sk-e2d0a6f7-8299-48e9-b3ae-e1f591b9329f div.sk-toggleable__content {max-height: 0;max-width: 0;overflow: hidden;text-align: left;background-color: #f0f8ff;}#sk-e2d0a6f7-8299-48e9-b3ae-e1f591b9329f div.sk-toggleable__content pre {margin: 0.2em;color: black;border-radius: 0.25em;background-color: #f0f8ff;}#sk-e2d0a6f7-8299-48e9-b3ae-e1f591b9329f input.sk-toggleable__control:checked~div.sk-toggleable__content {max-height: 200px;max-width: 100%;overflow: auto;}#sk-e2d0a6f7-8299-48e9-b3ae-e1f591b9329f div.sk-estimator input.sk-toggleable__control:checked~label.sk-toggleable__label {background-color: #d4ebff;}#sk-e2d0a6f7-8299-48e9-b3ae-e1f591b9329f div.sk-label input.sk-toggleable__control:checked~label.sk-toggleable__label {background-color: #d4ebff;}#sk-e2d0a6f7-8299-48e9-b3ae-e1f591b9329f input.sk-hidden--visually {border: 0;clip: rect(1px 1px 1px 1px);clip: rect(1px, 1px, 1px, 1px);height: 1px;margin: -1px;overflow: hidden;padding: 0;position: absolute;width: 1px;}#sk-e2d0a6f7-8299-48e9-b3ae-e1f591b9329f div.sk-estimator {font-family: monospace;background-color: #f0f8ff;border: 1px dotted black;border-radius: 0.25em;box-sizing: border-box;margin-bottom: 0.5em;}#sk-e2d0a6f7-8299-48e9-b3ae-e1f591b9329f div.sk-estimator:hover {background-color: #d4ebff;}#sk-e2d0a6f7-8299-48e9-b3ae-e1f591b9329f div.sk-parallel-item::after {content: \"\";width: 100%;border-bottom: 1px solid gray;flex-grow: 1;}#sk-e2d0a6f7-8299-48e9-b3ae-e1f591b9329f div.sk-label:hover label.sk-toggleable__label {background-color: #d4ebff;}#sk-e2d0a6f7-8299-48e9-b3ae-e1f591b9329f div.sk-serial::before {content: \"\";position: absolute;border-left: 1px solid gray;box-sizing: border-box;top: 2em;bottom: 0;left: 50%;}#sk-e2d0a6f7-8299-48e9-b3ae-e1f591b9329f div.sk-serial {display: flex;flex-direction: column;align-items: center;background-color: white;padding-right: 0.2em;padding-left: 0.2em;}#sk-e2d0a6f7-8299-48e9-b3ae-e1f591b9329f div.sk-item {z-index: 1;}#sk-e2d0a6f7-8299-48e9-b3ae-e1f591b9329f div.sk-parallel {display: flex;align-items: stretch;justify-content: center;background-color: white;}#sk-e2d0a6f7-8299-48e9-b3ae-e1f591b9329f div.sk-parallel::before {content: \"\";position: absolute;border-left: 1px solid gray;box-sizing: border-box;top: 2em;bottom: 0;left: 50%;}#sk-e2d0a6f7-8299-48e9-b3ae-e1f591b9329f div.sk-parallel-item {display: flex;flex-direction: column;position: relative;background-color: white;}#sk-e2d0a6f7-8299-48e9-b3ae-e1f591b9329f div.sk-parallel-item:first-child::after {align-self: flex-end;width: 50%;}#sk-e2d0a6f7-8299-48e9-b3ae-e1f591b9329f div.sk-parallel-item:last-child::after {align-self: flex-start;width: 50%;}#sk-e2d0a6f7-8299-48e9-b3ae-e1f591b9329f div.sk-parallel-item:only-child::after {width: 0;}#sk-e2d0a6f7-8299-48e9-b3ae-e1f591b9329f div.sk-dashed-wrapped {border: 1px dashed gray;margin: 0 0.4em 0.5em 0.4em;box-sizing: border-box;padding-bottom: 0.4em;background-color: white;position: relative;}#sk-e2d0a6f7-8299-48e9-b3ae-e1f591b9329f div.sk-label label {font-family: monospace;font-weight: bold;background-color: white;display: inline-block;line-height: 1.2em;}#sk-e2d0a6f7-8299-48e9-b3ae-e1f591b9329f div.sk-label-container {position: relative;z-index: 2;text-align: center;}#sk-e2d0a6f7-8299-48e9-b3ae-e1f591b9329f div.sk-container {display: inline-block;position: relative;}</style><div id=\"sk-e2d0a6f7-8299-48e9-b3ae-e1f591b9329f\" class\"sk-top-container\"><div class=\"sk-container\"><div class=\"sk-item sk-dashed-wrapped\"><div class=\"sk-label-container\"><div class=\"sk-label sk-toggleable\"><input class=\"sk-toggleable__control sk-hidden--visually\" id=\"feeaff20-f83d-4ee5-aabc-41bf7b08a3b6\" type=\"checkbox\" ><label class=\"sk-toggleable__label\" for=\"feeaff20-f83d-4ee5-aabc-41bf7b08a3b6\">Pipeline</label><div class=\"sk-toggleable__content\"><pre>Pipeline(steps=[('features',\n                 FeatureUnion(transformer_list=[('Geography',\n                                                 Pipeline(steps=[('selector',\n                                                                  FeatureSelector(column='Geography')),\n                                                                 ('ohe',\n                                                                  OHEEncoder(key='Geography'))])),\n                                                ('Gender',\n                                                 Pipeline(steps=[('selector',\n                                                                  FeatureSelector(column='Gender')),\n                                                                 ('ohe',\n                                                                  OHEEncoder(key='Gender'))])),\n                                                ('Tenure',\n                                                 Pipeline(steps=[('selector',\n                                                                  FeatureSelector(column='Tenu...\n                                                                  NumberSelector(key='Balance')),\n                                                                 ('standard',\n                                                                  StandardScaler())])),\n                                                ('NumOfProducts',\n                                                 Pipeline(steps=[('selector',\n                                                                  NumberSelector(key='NumOfProducts')),\n                                                                 ('standard',\n                                                                  StandardScaler())])),\n                                                ('EstimatedSalary',\n                                                 Pipeline(steps=[('selector',\n                                                                  NumberSelector(key='EstimatedSalary')),\n                                                                 ('standard',\n                                                                  StandardScaler())]))])),\n                ('classifier', AdaBoostClassifier(n_estimators=100))])</pre></div></div></div><div class=\"sk-serial\"><div class=\"sk-item sk-dashed-wrapped\"><div class=\"sk-label-container\"><div class=\"sk-label sk-toggleable\"><input class=\"sk-toggleable__control sk-hidden--visually\" id=\"8fd12f75-0bce-4bc9-89b1-76aca0c1fd66\" type=\"checkbox\" ><label class=\"sk-toggleable__label\" for=\"8fd12f75-0bce-4bc9-89b1-76aca0c1fd66\">features: FeatureUnion</label><div class=\"sk-toggleable__content\"><pre>FeatureUnion(transformer_list=[('Geography',\n                                Pipeline(steps=[('selector',\n                                                 FeatureSelector(column='Geography')),\n                                                ('ohe',\n                                                 OHEEncoder(key='Geography'))])),\n                               ('Gender',\n                                Pipeline(steps=[('selector',\n                                                 FeatureSelector(column='Gender')),\n                                                ('ohe',\n                                                 OHEEncoder(key='Gender'))])),\n                               ('Tenure',\n                                Pipeline(steps=[('selector',\n                                                 FeatureSelector(column='Tenure')),\n                                                ('ohe',\n                                                 OHEEncoder(key=...\n                                                 StandardScaler())])),\n                               ('Balance',\n                                Pipeline(steps=[('selector',\n                                                 NumberSelector(key='Balance')),\n                                                ('standard',\n                                                 StandardScaler())])),\n                               ('NumOfProducts',\n                                Pipeline(steps=[('selector',\n                                                 NumberSelector(key='NumOfProducts')),\n                                                ('standard',\n                                                 StandardScaler())])),\n                               ('EstimatedSalary',\n                                Pipeline(steps=[('selector',\n                                                 NumberSelector(key='EstimatedSalary')),\n                                                ('standard',\n                                                 StandardScaler())]))])</pre></div></div></div><div class=\"sk-parallel\"><div class=\"sk-parallel-item\"><div class=\"sk-item\"><div class=\"sk-label-container\"><div class=\"sk-label sk-toggleable\"><label>Geography</label></div></div><div class=\"sk-serial\"><div class=\"sk-item\"><div class=\"sk-serial\"><div class=\"sk-item\"><div class=\"sk-estimator sk-toggleable\"><input class=\"sk-toggleable__control sk-hidden--visually\" id=\"5a64042b-5e8f-4457-9476-808a1abee09b\" type=\"checkbox\" ><label class=\"sk-toggleable__label\" for=\"5a64042b-5e8f-4457-9476-808a1abee09b\">FeatureSelector</label><div class=\"sk-toggleable__content\"><pre>FeatureSelector(column='Geography')</pre></div></div></div><div class=\"sk-item\"><div class=\"sk-estimator sk-toggleable\"><input class=\"sk-toggleable__control sk-hidden--visually\" id=\"b2af7dcf-ac75-4986-b532-4ae9147137c7\" type=\"checkbox\" ><label class=\"sk-toggleable__label\" for=\"b2af7dcf-ac75-4986-b532-4ae9147137c7\">OHEEncoder</label><div class=\"sk-toggleable__content\"><pre>OHEEncoder(key='Geography')</pre></div></div></div></div></div></div></div></div><div class=\"sk-parallel-item\"><div class=\"sk-item\"><div class=\"sk-label-container\"><div class=\"sk-label sk-toggleable\"><label>Gender</label></div></div><div class=\"sk-serial\"><div class=\"sk-item\"><div class=\"sk-serial\"><div class=\"sk-item\"><div class=\"sk-estimator sk-toggleable\"><input class=\"sk-toggleable__control sk-hidden--visually\" id=\"7acceada-80f1-4cae-b698-0cbec4ac669b\" type=\"checkbox\" ><label class=\"sk-toggleable__label\" for=\"7acceada-80f1-4cae-b698-0cbec4ac669b\">FeatureSelector</label><div class=\"sk-toggleable__content\"><pre>FeatureSelector(column='Gender')</pre></div></div></div><div class=\"sk-item\"><div class=\"sk-estimator sk-toggleable\"><input class=\"sk-toggleable__control sk-hidden--visually\" id=\"25240741-17f6-4265-8646-e8c5d0b4150c\" type=\"checkbox\" ><label class=\"sk-toggleable__label\" for=\"25240741-17f6-4265-8646-e8c5d0b4150c\">OHEEncoder</label><div class=\"sk-toggleable__content\"><pre>OHEEncoder(key='Gender')</pre></div></div></div></div></div></div></div></div><div class=\"sk-parallel-item\"><div class=\"sk-item\"><div class=\"sk-label-container\"><div class=\"sk-label sk-toggleable\"><label>Tenure</label></div></div><div class=\"sk-serial\"><div class=\"sk-item\"><div class=\"sk-serial\"><div class=\"sk-item\"><div class=\"sk-estimator sk-toggleable\"><input class=\"sk-toggleable__control sk-hidden--visually\" id=\"f343a648-2d40-41a6-b77a-e69ba2b5d93a\" type=\"checkbox\" ><label class=\"sk-toggleable__label\" for=\"f343a648-2d40-41a6-b77a-e69ba2b5d93a\">FeatureSelector</label><div class=\"sk-toggleable__content\"><pre>FeatureSelector(column='Tenure')</pre></div></div></div><div class=\"sk-item\"><div class=\"sk-estimator sk-toggleable\"><input class=\"sk-toggleable__control sk-hidden--visually\" id=\"1e10ed19-7a54-46c9-acca-b3dcb7cee5c6\" type=\"checkbox\" ><label class=\"sk-toggleable__label\" for=\"1e10ed19-7a54-46c9-acca-b3dcb7cee5c6\">OHEEncoder</label><div class=\"sk-toggleable__content\"><pre>OHEEncoder(key='Tenure')</pre></div></div></div></div></div></div></div></div><div class=\"sk-parallel-item\"><div class=\"sk-item\"><div class=\"sk-label-container\"><div class=\"sk-label sk-toggleable\"><label>HasCrCard</label></div></div><div class=\"sk-serial\"><div class=\"sk-item\"><div class=\"sk-serial\"><div class=\"sk-item\"><div class=\"sk-estimator sk-toggleable\"><input class=\"sk-toggleable__control sk-hidden--visually\" id=\"922db557-89b5-46b1-81dc-09971670d540\" type=\"checkbox\" ><label class=\"sk-toggleable__label\" for=\"922db557-89b5-46b1-81dc-09971670d540\">FeatureSelector</label><div class=\"sk-toggleable__content\"><pre>FeatureSelector(column='HasCrCard')</pre></div></div></div><div class=\"sk-item\"><div class=\"sk-estimator sk-toggleable\"><input class=\"sk-toggleable__control sk-hidden--visually\" id=\"3b241e90-619f-49aa-8985-8ee249b579d2\" type=\"checkbox\" ><label class=\"sk-toggleable__label\" for=\"3b241e90-619f-49aa-8985-8ee249b579d2\">OHEEncoder</label><div class=\"sk-toggleable__content\"><pre>OHEEncoder(key='HasCrCard')</pre></div></div></div></div></div></div></div></div><div class=\"sk-parallel-item\"><div class=\"sk-item\"><div class=\"sk-label-container\"><div class=\"sk-label sk-toggleable\"><label>IsActiveMember</label></div></div><div class=\"sk-serial\"><div class=\"sk-item\"><div class=\"sk-serial\"><div class=\"sk-item\"><div class=\"sk-estimator sk-toggleable\"><input class=\"sk-toggleable__control sk-hidden--visually\" id=\"97fda9fe-06e5-41d8-a560-deea38e41b0f\" type=\"checkbox\" ><label class=\"sk-toggleable__label\" for=\"97fda9fe-06e5-41d8-a560-deea38e41b0f\">FeatureSelector</label><div class=\"sk-toggleable__content\"><pre>FeatureSelector(column='IsActiveMember')</pre></div></div></div><div class=\"sk-item\"><div class=\"sk-estimator sk-toggleable\"><input class=\"sk-toggleable__control sk-hidden--visually\" id=\"1d98529d-6d44-4e19-b58c-c8edbd382440\" type=\"checkbox\" ><label class=\"sk-toggleable__label\" for=\"1d98529d-6d44-4e19-b58c-c8edbd382440\">OHEEncoder</label><div class=\"sk-toggleable__content\"><pre>OHEEncoder(key='IsActiveMember')</pre></div></div></div></div></div></div></div></div><div class=\"sk-parallel-item\"><div class=\"sk-item\"><div class=\"sk-label-container\"><div class=\"sk-label sk-toggleable\"><label>CreditScore</label></div></div><div class=\"sk-serial\"><div class=\"sk-item\"><div class=\"sk-serial\"><div class=\"sk-item\"><div class=\"sk-estimator sk-toggleable\"><input class=\"sk-toggleable__control sk-hidden--visually\" id=\"b82d9c2b-f139-44fe-8e91-00fa6cf899c6\" type=\"checkbox\" ><label class=\"sk-toggleable__label\" for=\"b82d9c2b-f139-44fe-8e91-00fa6cf899c6\">NumberSelector</label><div class=\"sk-toggleable__content\"><pre>NumberSelector(key='CreditScore')</pre></div></div></div><div class=\"sk-item\"><div class=\"sk-estimator sk-toggleable\"><input class=\"sk-toggleable__control sk-hidden--visually\" id=\"5ca62295-6d24-488a-8dfa-b2329dd6f1cf\" type=\"checkbox\" ><label class=\"sk-toggleable__label\" for=\"5ca62295-6d24-488a-8dfa-b2329dd6f1cf\">StandardScaler</label><div class=\"sk-toggleable__content\"><pre>StandardScaler()</pre></div></div></div></div></div></div></div></div><div class=\"sk-parallel-item\"><div class=\"sk-item\"><div class=\"sk-label-container\"><div class=\"sk-label sk-toggleable\"><label>Age</label></div></div><div class=\"sk-serial\"><div class=\"sk-item\"><div class=\"sk-serial\"><div class=\"sk-item\"><div class=\"sk-estimator sk-toggleable\"><input class=\"sk-toggleable__control sk-hidden--visually\" id=\"ac6e1837-9305-4507-9108-2d7e88b0b02b\" type=\"checkbox\" ><label class=\"sk-toggleable__label\" for=\"ac6e1837-9305-4507-9108-2d7e88b0b02b\">NumberSelector</label><div class=\"sk-toggleable__content\"><pre>NumberSelector(key='Age')</pre></div></div></div><div class=\"sk-item\"><div class=\"sk-estimator sk-toggleable\"><input class=\"sk-toggleable__control sk-hidden--visually\" id=\"a72af22b-e570-4743-aa8b-0ddbb706c0a2\" type=\"checkbox\" ><label class=\"sk-toggleable__label\" for=\"a72af22b-e570-4743-aa8b-0ddbb706c0a2\">StandardScaler</label><div class=\"sk-toggleable__content\"><pre>StandardScaler()</pre></div></div></div></div></div></div></div></div><div class=\"sk-parallel-item\"><div class=\"sk-item\"><div class=\"sk-label-container\"><div class=\"sk-label sk-toggleable\"><label>Balance</label></div></div><div class=\"sk-serial\"><div class=\"sk-item\"><div class=\"sk-serial\"><div class=\"sk-item\"><div class=\"sk-estimator sk-toggleable\"><input class=\"sk-toggleable__control sk-hidden--visually\" id=\"c82b11d5-4bd6-4e7e-8c76-2724839996de\" type=\"checkbox\" ><label class=\"sk-toggleable__label\" for=\"c82b11d5-4bd6-4e7e-8c76-2724839996de\">NumberSelector</label><div class=\"sk-toggleable__content\"><pre>NumberSelector(key='Balance')</pre></div></div></div><div class=\"sk-item\"><div class=\"sk-estimator sk-toggleable\"><input class=\"sk-toggleable__control sk-hidden--visually\" id=\"1faea2fa-8c46-420d-b063-90651b400354\" type=\"checkbox\" ><label class=\"sk-toggleable__label\" for=\"1faea2fa-8c46-420d-b063-90651b400354\">StandardScaler</label><div class=\"sk-toggleable__content\"><pre>StandardScaler()</pre></div></div></div></div></div></div></div></div><div class=\"sk-parallel-item\"><div class=\"sk-item\"><div class=\"sk-label-container\"><div class=\"sk-label sk-toggleable\"><label>NumOfProducts</label></div></div><div class=\"sk-serial\"><div class=\"sk-item\"><div class=\"sk-serial\"><div class=\"sk-item\"><div class=\"sk-estimator sk-toggleable\"><input class=\"sk-toggleable__control sk-hidden--visually\" id=\"0909cb3b-b8dd-4dd7-988f-1ebfbc4feb7b\" type=\"checkbox\" ><label class=\"sk-toggleable__label\" for=\"0909cb3b-b8dd-4dd7-988f-1ebfbc4feb7b\">NumberSelector</label><div class=\"sk-toggleable__content\"><pre>NumberSelector(key='NumOfProducts')</pre></div></div></div><div class=\"sk-item\"><div class=\"sk-estimator sk-toggleable\"><input class=\"sk-toggleable__control sk-hidden--visually\" id=\"eae63253-2a59-4771-b496-f28c9019d864\" type=\"checkbox\" ><label class=\"sk-toggleable__label\" for=\"eae63253-2a59-4771-b496-f28c9019d864\">StandardScaler</label><div class=\"sk-toggleable__content\"><pre>StandardScaler()</pre></div></div></div></div></div></div></div></div><div class=\"sk-parallel-item\"><div class=\"sk-item\"><div class=\"sk-label-container\"><div class=\"sk-label sk-toggleable\"><label>EstimatedSalary</label></div></div><div class=\"sk-serial\"><div class=\"sk-item\"><div class=\"sk-serial\"><div class=\"sk-item\"><div class=\"sk-estimator sk-toggleable\"><input class=\"sk-toggleable__control sk-hidden--visually\" id=\"63e4f216-3959-43fc-8fcc-0f51eb6232b0\" type=\"checkbox\" ><label class=\"sk-toggleable__label\" for=\"63e4f216-3959-43fc-8fcc-0f51eb6232b0\">NumberSelector</label><div class=\"sk-toggleable__content\"><pre>NumberSelector(key='EstimatedSalary')</pre></div></div></div><div class=\"sk-item\"><div class=\"sk-estimator sk-toggleable\"><input class=\"sk-toggleable__control sk-hidden--visually\" id=\"3433b577-fc32-439c-a060-f0b95f439320\" type=\"checkbox\" ><label class=\"sk-toggleable__label\" for=\"3433b577-fc32-439c-a060-f0b95f439320\">StandardScaler</label><div class=\"sk-toggleable__content\"><pre>StandardScaler()</pre></div></div></div></div></div></div></div></div></div></div><div class=\"sk-item\"><div class=\"sk-estimator sk-toggleable\"><input class=\"sk-toggleable__control sk-hidden--visually\" id=\"be6221fe-77be-4936-b716-f2b00b5c332c\" type=\"checkbox\" ><label class=\"sk-toggleable__label\" for=\"be6221fe-77be-4936-b716-f2b00b5c332c\">AdaBoostClassifier</label><div class=\"sk-toggleable__content\"><pre>AdaBoostClassifier(n_estimators=100)</pre></div></div></div></div></div></div></div>"
     },
     "execution_count": 140,
     "metadata": {},
     "output_type": "execute_result"
    }
   ],
   "source": [
    "pipeline.fit(X_train, y_train)"
   ],
   "metadata": {
    "collapsed": false,
    "pycharm": {
     "name": "#%%\n"
    }
   }
  },
  {
   "cell_type": "markdown",
   "source": [
    "#### III.1 Расчет прогнозов для тестовой выборки"
   ],
   "metadata": {
    "collapsed": false
   }
  },
  {
   "cell_type": "code",
   "execution_count": 141,
   "outputs": [
    {
     "data": {
      "text/plain": "array([0.49746813, 0.49831574, 0.49496487, 0.49474028, 0.49263549,\n       0.49896141, 0.48945302, 0.48996406, 0.49979683, 0.49700692])"
     },
     "execution_count": 141,
     "metadata": {},
     "output_type": "execute_result"
    }
   ],
   "source": [
    "preds = pipeline.predict_proba(X_test)[:, 1]\n",
    "preds[:10]"
   ],
   "metadata": {
    "collapsed": false,
    "pycharm": {
     "name": "#%%\n"
    }
   }
  },
  {
   "cell_type": "markdown",
   "source": [
    "#### III.2 Переход от вероятностей к меткам класса. Подбор порога\n"
   ],
   "metadata": {
    "collapsed": false
   }
  },
  {
   "cell_type": "code",
   "execution_count": 142,
   "outputs": [
    {
     "name": "stdout",
     "output_type": "stream",
     "text": [
      "Best Threshold=0.498955, F-Score=0.619, Precision=0.630, Recall=0.609\n"
     ]
    }
   ],
   "source": [
    "thresholds=print_sel_thresholds(y_test, preds)"
   ],
   "metadata": {
    "collapsed": false,
    "pycharm": {
     "name": "#%%\n"
    }
   }
  },
  {
   "cell_type": "markdown",
   "source": [
    "#### III.3 Отображение матрицы ошибок"
   ],
   "metadata": {
    "collapsed": false
   }
  },
  {
   "cell_type": "code",
   "execution_count": 143,
   "outputs": [
    {
     "name": "stdout",
     "output_type": "stream",
     "text": [
      "Confusion matrix, without normalization\n",
      "[[1809  182]\n",
      " [ 200  309]]\n"
     ]
    },
    {
     "data": {
      "text/plain": "<Figure size 720x576 with 2 Axes>",
      "image/png": "[encoded data removed]"
     },
     "metadata": {
      "needs_background": "light"
     },
     "output_type": "display_data"
    }
   ],
   "source": [
    "confusion_matrix_create(y_test, preds, thresholds)\n"
   ],
   "metadata": {
    "collapsed": false,
    "pycharm": {
     "name": "#%%\n"
    }
   }
  },
  {
   "cell_type": "markdown",
   "source": [
    "> При стандартных настройках модель **AdaBoostClassifier** дает высокие значения метрик\n",
    "- F-Score=0.619,\n",
    "- Precision=0.630,\n",
    "- Recall=0.609\n"
   ],
   "metadata": {
    "collapsed": false
   }
  },
  {
   "cell_type": "markdown",
   "source": [
    "#### IV Выбор модели\n",
    "\n"
   ],
   "metadata": {
    "collapsed": false
   }
  }
 ],
 "metadata": {
  "kernelspec": {
   "display_name": "Python 3",
   "language": "python",
   "name": "python3"
  },
  "language_info": {
   "codemirror_mode": {
    "name": "ipython",
    "version": 2
   },
   "file_extension": ".py",
   "mimetype": "text/x-python",
   "name": "python",
   "nbconvert_exporter": "python",
   "pygments_lexer": "ipython2",
   "version": "2.7.6"
  }
 },
 "nbformat": 4,
 "nbformat_minor": 0
}