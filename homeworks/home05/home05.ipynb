{
 "cells": [
  {
   "cell_type": "markdown",
   "source": [
    "### Задание к Уроку 5. Задача оттока: варианты постановки, возможные способы решения"
   ],
   "metadata": {
    "collapsed": false
   }
  },
  {
   "cell_type": "markdown",
   "source": [
    "1. Для нашего пайплайна (Case1) поэкспериментировать с разными моделями: 1 - бустинг, 2 - логистическая регрессия (не забудьте здесь добавить в cont_transformer стандартизацию - нормирование вещественных признаков)\n",
    "2. Отобрать лучшую модель по метрикам (кстати, какая по вашему мнению здесь наиболее подходящая DS-метрика)\n",
    "3. Для отобранной модели (на отложенной выборке) сделать оценку экономической эффективности при тех же вводных, как в вопросе 2 (1 доллар на привлечение, 2 доллара - с каждого правильно классифицированного (True Positive) удержанного). (подсказка) нужно посчитать FP/TP/FN/TN для выбранного оптимального порога вероятности и посчитать выручку и траты.\n",
    "4. (опционально) Провести подбор гиперпараметров лучшей модели по итогам 2-3\n",
    "5. (опционально) Еще раз провести оценку экономической эффективности\n",
    "6. Ссылки\n",
    "\n",
    "\n",
    "- http://hyperopt.github.io/hyperopt/\n",
    "- https://arxiv.org/pdf/1907.03947.pdf\n",
    "- https://arxiv.org/pdf/1802.02301.pdf\n",
    "- https://arxiv.org/list/stat.ML/recent\n",
    "- https://scikit-learn.org/stable/modules/grid_search.html\n",
    "- https://scikit-learn.org/stable/modules/compose.html"
   ],
   "metadata": {
    "collapsed": false
   }
  },
  {
   "cell_type": "code",
   "execution_count": null,
   "outputs": [],
   "source": [],
   "metadata": {
    "collapsed": false,
    "pycharm": {
     "name": "#%%\n"
    }
   }
  },
  {
   "cell_type": "markdown",
   "source": [
    "### Источник данных\n",
    "набор данных с платформы kaggle https://www.kaggle.com/adammaus/predicting-churn-for-bank-customers по оттоку клиентов банка"
   ],
   "metadata": {
    "collapsed": false
   }
  },
  {
   "cell_type": "markdown",
   "source": [
    "### Подключение библиотек"
   ],
   "metadata": {
    "collapsed": false,
    "pycharm": {
     "name": "#%% md\n"
    }
   }
  },
  {
   "cell_type": "code",
   "execution_count": 2,
   "outputs": [],
   "source": [
    "import pandas as pd\n",
    "import numpy as np\n",
    "from sklearn.pipeline import Pipeline, make_pipeline\n",
    "from sklearn.base import BaseEstimator, TransformerMixin\n",
    "from sklearn.linear_model import LogisticRegression\n",
    "from sklearn.model_selection import train_test_split\n",
    "#from sklearn.feature_extraction.text import TfidfVectorizer\n",
    "import itertools\n",
    "\n",
    "import matplotlib.pyplot as plt\n",
    "\n",
    "% matplotlib inline"
   ],
   "metadata": {
    "collapsed": false,
    "pycharm": {
     "name": "#%%\n"
    }
   }
  },
  {
   "cell_type": "markdown",
   "source": [
    "### Загрузка данных"
   ],
   "metadata": {
    "collapsed": false,
    "pycharm": {
     "name": "#%% md\n"
    }
   }
  },
  {
   "cell_type": "code",
   "execution_count": 3,
   "outputs": [
    {
     "data": {
      "text/plain": "   RowNumber  CustomerId   Surname  CreditScore Geography  Gender  Age  \\\n0          1    15634602  Hargrave          619    France  Female   42   \n1          2    15647311      Hill          608     Spain  Female   41   \n2          3    15619304      Onio          502    France  Female   42   \n\n   Tenure    Balance  NumOfProducts  HasCrCard  IsActiveMember  \\\n0       2       0.00              1          1               1   \n1       1   83807.86              1          0               1   \n2       8  159660.80              3          1               0   \n\n   EstimatedSalary  Exited  \n0        101348.88       1  \n1        112542.58       0  \n2        113931.57       1  ",
      "text/html": "<div>\n<style scoped>\n    .dataframe tbody tr th:only-of-type {\n        vertical-align: middle;\n    }\n\n    .dataframe tbody tr th {\n        vertical-align: top;\n    }\n\n    .dataframe thead th {\n        text-align: right;\n    }\n</style>\n<table border=\"1\" class=\"dataframe\">\n  <thead>\n    <tr style=\"text-align: right;\">\n      <th></th>\n      <th>RowNumber</th>\n      <th>CustomerId</th>\n      <th>Surname</th>\n      <th>CreditScore</th>\n      <th>Geography</th>\n      <th>Gender</th>\n      <th>Age</th>\n      <th>Tenure</th>\n      <th>Balance</th>\n      <th>NumOfProducts</th>\n      <th>HasCrCard</th>\n      <th>IsActiveMember</th>\n      <th>EstimatedSalary</th>\n      <th>Exited</th>\n    </tr>\n  </thead>\n  <tbody>\n    <tr>\n      <th>0</th>\n      <td>1</td>\n      <td>15634602</td>\n      <td>Hargrave</td>\n      <td>619</td>\n      <td>France</td>\n      <td>Female</td>\n      <td>42</td>\n      <td>2</td>\n      <td>0.00</td>\n      <td>1</td>\n      <td>1</td>\n      <td>1</td>\n      <td>101348.88</td>\n      <td>1</td>\n    </tr>\n    <tr>\n      <th>1</th>\n      <td>2</td>\n      <td>15647311</td>\n      <td>Hill</td>\n      <td>608</td>\n      <td>Spain</td>\n      <td>Female</td>\n      <td>41</td>\n      <td>1</td>\n      <td>83807.86</td>\n      <td>1</td>\n      <td>0</td>\n      <td>1</td>\n      <td>112542.58</td>\n      <td>0</td>\n    </tr>\n    <tr>\n      <th>2</th>\n      <td>3</td>\n      <td>15619304</td>\n      <td>Onio</td>\n      <td>502</td>\n      <td>France</td>\n      <td>Female</td>\n      <td>42</td>\n      <td>8</td>\n      <td>159660.80</td>\n      <td>3</td>\n      <td>1</td>\n      <td>0</td>\n      <td>113931.57</td>\n      <td>1</td>\n    </tr>\n  </tbody>\n</table>\n</div>"
     },
     "execution_count": 3,
     "metadata": {},
     "output_type": "execute_result"
    }
   ],
   "source": [
    "df = pd.read_csv(\"churn_data.csv\")\n",
    "df.head(3)"
   ],
   "metadata": {
    "collapsed": false,
    "pycharm": {
     "name": "#%%\n"
    }
   }
  },
  {
   "cell_type": "markdown",
   "source": [
    "### EDA"
   ],
   "metadata": {
    "collapsed": false,
    "pycharm": {
     "name": "#%% md\n"
    }
   }
  },
  {
   "cell_type": "code",
   "execution_count": 4,
   "outputs": [
    {
     "name": "stdout",
     "output_type": "stream",
     "text": [
      "<class 'pandas.core.frame.DataFrame'>\n",
      "RangeIndex: 10000 entries, 0 to 9999\n",
      "Data columns (total 14 columns):\n",
      " #   Column           Non-Null Count  Dtype  \n",
      "---  ------           --------------  -----  \n",
      " 0   RowNumber        10000 non-null  int64  \n",
      " 1   CustomerId       10000 non-null  int64  \n",
      " 2   Surname          10000 non-null  object \n",
      " 3   CreditScore      10000 non-null  int64  \n",
      " 4   Geography        10000 non-null  object \n",
      " 5   Gender           10000 non-null  object \n",
      " 6   Age              10000 non-null  int64  \n",
      " 7   Tenure           10000 non-null  int64  \n",
      " 8   Balance          10000 non-null  float64\n",
      " 9   NumOfProducts    10000 non-null  int64  \n",
      " 10  HasCrCard        10000 non-null  int64  \n",
      " 11  IsActiveMember   10000 non-null  int64  \n",
      " 12  EstimatedSalary  10000 non-null  float64\n",
      " 13  Exited           10000 non-null  int64  \n",
      "dtypes: float64(2), int64(9), object(3)\n",
      "memory usage: 1.1+ MB\n"
     ]
    }
   ],
   "source": [
    "df.info()"
   ],
   "metadata": {
    "collapsed": false,
    "pycharm": {
     "name": "#%%\n"
    }
   }
  },
  {
   "cell_type": "markdown",
   "source": [
    "Есть как категориальные, так и вещественные признаки. Поле **CustomerId** нужно будет удалить. И возможно  **RowNumber**"
   ],
   "metadata": {
    "collapsed": false,
    "pycharm": {
     "name": "#%% md\n"
    }
   }
  },
  {
   "cell_type": "markdown",
   "source": [
    "### Распределение классов целевой переменной"
   ],
   "metadata": {
    "collapsed": false,
    "pycharm": {
     "name": "#%% md\n"
    }
   }
  },
  {
   "cell_type": "code",
   "execution_count": 5,
   "outputs": [
    {
     "data": {
      "text/plain": "0    79.63\n1    20.37\nName: Exited, dtype: float64"
     },
     "execution_count": 5,
     "metadata": {},
     "output_type": "execute_result"
    }
   ],
   "source": [
    "df['Exited'].value_counts() / df['Exited'].count() * 100\n"
   ],
   "metadata": {
    "collapsed": false,
    "pycharm": {
     "name": "#%%\n"
    }
   }
  },
  {
   "cell_type": "markdown",
   "source": [
    "### Разеделение данных на train/test"
   ],
   "metadata": {
    "collapsed": false,
    "pycharm": {
     "name": "#%% md\n"
    }
   }
  },
  {
   "cell_type": "code",
   "execution_count": 6,
   "outputs": [],
   "source": [
    "X_train, X_test, y_train, y_test = train_test_split(df, df['Exited'], random_state=0)"
   ],
   "metadata": {
    "collapsed": false,
    "pycharm": {
     "name": "#%%\n"
    }
   }
  },
  {
   "cell_type": "markdown",
   "source": [
    "### Генерация переменных"
   ],
   "metadata": {
    "collapsed": false,
    "pycharm": {
     "name": "#%% md\n"
    }
   }
  },
  {
   "cell_type": "code",
   "execution_count": 8,
   "outputs": [],
   "source": [
    "#соберем наш простой pipeline, но нам понадобится написать класс для выбора нужного поля\n",
    "class FeatureSelector(BaseEstimator, TransformerMixin):\n",
    "    def __init__(self, column):\n",
    "        self.column = column\n",
    "\n",
    "    def fit(self, X, y=None):\n",
    "        return self\n",
    "\n",
    "    def transform(self, X, y=None):\n",
    "        return X[self.column]\n",
    "\n",
    "\n",
    "class NumberSelector(BaseEstimator, TransformerMixin):\n",
    "    \"\"\"\n",
    "    Transformer to select a single column from the data frame to perform additional transformations on\n",
    "    Use on numeric columns in the data\n",
    "    \"\"\"\n",
    "\n",
    "    def __init__(self, key):\n",
    "        self.key = key\n",
    "\n",
    "    def fit(self, X, y=None):\n",
    "        return self\n",
    "\n",
    "    def transform(self, X):\n",
    "        return X[[self.key]]\n",
    "\n",
    "\n",
    "class OHEEncoder(BaseEstimator, TransformerMixin):\n",
    "    def __init__(self, key):\n",
    "        self.key = key\n",
    "        self.columns = []\n",
    "\n",
    "    def fit(self, X, y=None):\n",
    "        self.columns = [col for col in pd.get_dummies(X, prefix=self.key).columns]\n",
    "        return self\n",
    "\n",
    "    def transform(self, X):\n",
    "        X = pd.get_dummies(X, prefix=self.key)\n",
    "        test_columns = [col for col in X.columns]\n",
    "        for col_ in self.columns:\n",
    "            if col_ not in test_columns:\n",
    "                X[col_] = 0\n",
    "        return X[self.columns]\n",
    "\n"
   ],
   "metadata": {
    "collapsed": false,
    "pycharm": {
     "name": "#%%\n"
    }
   }
  },
  {
   "cell_type": "markdown",
   "source": [
    "### Отбор переменных"
   ],
   "metadata": {
    "collapsed": false,
    "pycharm": {
     "name": "#%% md\n"
    }
   }
  },
  {
   "cell_type": "code",
   "execution_count": 9,
   "outputs": [],
   "source": [
    "categorical_columns = ['Geography', 'Gender', 'Tenure', 'HasCrCard', 'IsActiveMember']\n",
    "continuous_columns = ['CreditScore', 'Age', 'Balance', 'NumOfProducts', 'EstimatedSalary']\n"
   ],
   "metadata": {
    "collapsed": false,
    "pycharm": {
     "name": "#%%\n"
    }
   }
  },
  {
   "cell_type": "markdown",
   "source": [
    "### Проверка на примере отдельного категориального признака - Gender"
   ],
   "metadata": {
    "collapsed": false
   }
  },
  {
   "cell_type": "code",
   "execution_count": 10,
   "outputs": [
    {
     "data": {
      "text/plain": "      Gender_Female  Gender_Male\n9394              1            0\n898               1            0\n2398              1            0",
      "text/html": "<div>\n<style scoped>\n    .dataframe tbody tr th:only-of-type {\n        vertical-align: middle;\n    }\n\n    .dataframe tbody tr th {\n        vertical-align: top;\n    }\n\n    .dataframe thead th {\n        text-align: right;\n    }\n</style>\n<table border=\"1\" class=\"dataframe\">\n  <thead>\n    <tr style=\"text-align: right;\">\n      <th></th>\n      <th>Gender_Female</th>\n      <th>Gender_Male</th>\n    </tr>\n  </thead>\n  <tbody>\n    <tr>\n      <th>9394</th>\n      <td>1</td>\n      <td>0</td>\n    </tr>\n    <tr>\n      <th>898</th>\n      <td>1</td>\n      <td>0</td>\n    </tr>\n    <tr>\n      <th>2398</th>\n      <td>1</td>\n      <td>0</td>\n    </tr>\n  </tbody>\n</table>\n</div>"
     },
     "execution_count": 10,
     "metadata": {},
     "output_type": "execute_result"
    }
   ],
   "source": [
    "from sklearn.pipeline import Pipeline\n",
    "from sklearn.pipeline import FeatureUnion\n",
    "\n",
    "gender = Pipeline([\n",
    "    ('selector', FeatureSelector(column='Gender')),\n",
    "    ('ohe', OHEEncoder(key='Gender'))\n",
    "])\n",
    "gender.fit(X_train)\n",
    "gender.transform(X_test).head(3)"
   ],
   "metadata": {
    "collapsed": false,
    "pycharm": {
     "name": "#%%\n"
    }
   }
  },
  {
   "cell_type": "code",
   "execution_count": null,
   "outputs": [],
   "source": [],
   "metadata": {
    "collapsed": false,
    "pycharm": {
     "name": "#%%\n"
    }
   }
  },
  {
   "cell_type": "markdown",
   "source": [
    "### Генерация переменных 2"
   ],
   "metadata": {
    "collapsed": false
   }
  },
  {
   "cell_type": "code",
   "execution_count": 13,
   "outputs": [],
   "source": [
    "final_transformers = list()\n",
    "\n",
    "for cat_col in categorical_columns:\n",
    "    cat_transformer = Pipeline([\n",
    "        ('selector', FeatureSelector(column=cat_col)),\n",
    "        ('ohe', OHEEncoder(key=cat_col))\n",
    "    ])\n",
    "    final_transformers.append((cat_col, cat_transformer))\n",
    "\n",
    "for cont_col in continuous_columns:\n",
    "    cont_transformer = Pipeline([\n",
    "        ('selector', NumberSelector(key=cont_col))\n",
    "    ])\n",
    "    final_transformers.append((cont_col, cont_transformer))"
   ],
   "metadata": {
    "collapsed": false,
    "pycharm": {
     "name": "#%%\n"
    }
   }
  },
  {
   "cell_type": "markdown",
   "source": [
    "Объединим все это в единый пайплайн"
   ],
   "metadata": {
    "collapsed": false
   }
  },
  {
   "cell_type": "code",
   "execution_count": 14,
   "outputs": [],
   "source": [
    "feats = FeatureUnion(final_transformers)\n",
    "\n",
    "feature_processing = Pipeline([('feats', feats)])"
   ],
   "metadata": {
    "collapsed": false,
    "pycharm": {
     "name": "#%%\n"
    }
   }
  },
  {
   "cell_type": "code",
   "execution_count": 16,
   "outputs": [
    {
     "data": {
      "text/plain": "Pipeline(steps=[('feats',\n                 FeatureUnion(transformer_list=[('Geography',\n                                                 Pipeline(steps=[('selector',\n                                                                  FeatureSelector(column='Geography')),\n                                                                 ('ohe',\n                                                                  OHEEncoder(key='Geography'))])),\n                                                ('Gender',\n                                                 Pipeline(steps=[('selector',\n                                                                  FeatureSelector(column='Gender')),\n                                                                 ('ohe',\n                                                                  OHEEncoder(key='Gender'))])),\n                                                ('Tenure',\n                                                 Pipeline(steps=[('selector',\n                                                                  FeatureSelector(column='Tenure'...\n                                                                  NumberSelector(key='CreditScore'))])),\n                                                ('Age',\n                                                 Pipeline(steps=[('selector',\n                                                                  NumberSelector(key='Age'))])),\n                                                ('Balance',\n                                                 Pipeline(steps=[('selector',\n                                                                  NumberSelector(key='Balance'))])),\n                                                ('NumOfProducts',\n                                                 Pipeline(steps=[('selector',\n                                                                  NumberSelector(key='NumOfProducts'))])),\n                                                ('EstimatedSalary',\n                                                 Pipeline(steps=[('selector',\n                                                                  NumberSelector(key='EstimatedSalary'))]))]))])",
      "text/html": "<style>#sk-364dc45c-b0bf-4b2b-95af-1af80de6577f {color: black;background-color: white;}#sk-364dc45c-b0bf-4b2b-95af-1af80de6577f pre{padding: 0;}#sk-364dc45c-b0bf-4b2b-95af-1af80de6577f div.sk-toggleable {background-color: white;}#sk-364dc45c-b0bf-4b2b-95af-1af80de6577f label.sk-toggleable__label {cursor: pointer;display: block;width: 100%;margin-bottom: 0;padding: 0.3em;box-sizing: border-box;text-align: center;}#sk-364dc45c-b0bf-4b2b-95af-1af80de6577f div.sk-toggleable__content {max-height: 0;max-width: 0;overflow: hidden;text-align: left;background-color: #f0f8ff;}#sk-364dc45c-b0bf-4b2b-95af-1af80de6577f div.sk-toggleable__content pre {margin: 0.2em;color: black;border-radius: 0.25em;background-color: #f0f8ff;}#sk-364dc45c-b0bf-4b2b-95af-1af80de6577f input.sk-toggleable__control:checked~div.sk-toggleable__content {max-height: 200px;max-width: 100%;overflow: auto;}#sk-364dc45c-b0bf-4b2b-95af-1af80de6577f div.sk-estimator input.sk-toggleable__control:checked~label.sk-toggleable__label {background-color: #d4ebff;}#sk-364dc45c-b0bf-4b2b-95af-1af80de6577f div.sk-label input.sk-toggleable__control:checked~label.sk-toggleable__label {background-color: #d4ebff;}#sk-364dc45c-b0bf-4b2b-95af-1af80de6577f input.sk-hidden--visually {border: 0;clip: rect(1px 1px 1px 1px);clip: rect(1px, 1px, 1px, 1px);height: 1px;margin: -1px;overflow: hidden;padding: 0;position: absolute;width: 1px;}#sk-364dc45c-b0bf-4b2b-95af-1af80de6577f div.sk-estimator {font-family: monospace;background-color: #f0f8ff;border: 1px dotted black;border-radius: 0.25em;box-sizing: border-box;margin-bottom: 0.5em;}#sk-364dc45c-b0bf-4b2b-95af-1af80de6577f div.sk-estimator:hover {background-color: #d4ebff;}#sk-364dc45c-b0bf-4b2b-95af-1af80de6577f div.sk-parallel-item::after {content: \"\";width: 100%;border-bottom: 1px solid gray;flex-grow: 1;}#sk-364dc45c-b0bf-4b2b-95af-1af80de6577f div.sk-label:hover label.sk-toggleable__label {background-color: #d4ebff;}#sk-364dc45c-b0bf-4b2b-95af-1af80de6577f div.sk-serial::before {content: \"\";position: absolute;border-left: 1px solid gray;box-sizing: border-box;top: 2em;bottom: 0;left: 50%;}#sk-364dc45c-b0bf-4b2b-95af-1af80de6577f div.sk-serial {display: flex;flex-direction: column;align-items: center;background-color: white;padding-right: 0.2em;padding-left: 0.2em;}#sk-364dc45c-b0bf-4b2b-95af-1af80de6577f div.sk-item {z-index: 1;}#sk-364dc45c-b0bf-4b2b-95af-1af80de6577f div.sk-parallel {display: flex;align-items: stretch;justify-content: center;background-color: white;}#sk-364dc45c-b0bf-4b2b-95af-1af80de6577f div.sk-parallel::before {content: \"\";position: absolute;border-left: 1px solid gray;box-sizing: border-box;top: 2em;bottom: 0;left: 50%;}#sk-364dc45c-b0bf-4b2b-95af-1af80de6577f div.sk-parallel-item {display: flex;flex-direction: column;position: relative;background-color: white;}#sk-364dc45c-b0bf-4b2b-95af-1af80de6577f div.sk-parallel-item:first-child::after {align-self: flex-end;width: 50%;}#sk-364dc45c-b0bf-4b2b-95af-1af80de6577f div.sk-parallel-item:last-child::after {align-self: flex-start;width: 50%;}#sk-364dc45c-b0bf-4b2b-95af-1af80de6577f div.sk-parallel-item:only-child::after {width: 0;}#sk-364dc45c-b0bf-4b2b-95af-1af80de6577f div.sk-dashed-wrapped {border: 1px dashed gray;margin: 0 0.4em 0.5em 0.4em;box-sizing: border-box;padding-bottom: 0.4em;background-color: white;position: relative;}#sk-364dc45c-b0bf-4b2b-95af-1af80de6577f div.sk-label label {font-family: monospace;font-weight: bold;background-color: white;display: inline-block;line-height: 1.2em;}#sk-364dc45c-b0bf-4b2b-95af-1af80de6577f div.sk-label-container {position: relative;z-index: 2;text-align: center;}#sk-364dc45c-b0bf-4b2b-95af-1af80de6577f div.sk-container {display: inline-block;position: relative;}</style><div id=\"sk-364dc45c-b0bf-4b2b-95af-1af80de6577f\" class\"sk-top-container\"><div class=\"sk-container\"><div class=\"sk-item sk-dashed-wrapped\"><div class=\"sk-label-container\"><div class=\"sk-label sk-toggleable\"><input class=\"sk-toggleable__control sk-hidden--visually\" id=\"36c3f895-609a-444f-bb99-45af13dd2816\" type=\"checkbox\" ><label class=\"sk-toggleable__label\" for=\"36c3f895-609a-444f-bb99-45af13dd2816\">Pipeline</label><div class=\"sk-toggleable__content\"><pre>Pipeline(steps=[('feats',\n                 FeatureUnion(transformer_list=[('Geography',\n                                                 Pipeline(steps=[('selector',\n                                                                  FeatureSelector(column='Geography')),\n                                                                 ('ohe',\n                                                                  OHEEncoder(key='Geography'))])),\n                                                ('Gender',\n                                                 Pipeline(steps=[('selector',\n                                                                  FeatureSelector(column='Gender')),\n                                                                 ('ohe',\n                                                                  OHEEncoder(key='Gender'))])),\n                                                ('Tenure',\n                                                 Pipeline(steps=[('selector',\n                                                                  FeatureSelector(column='Tenure'...\n                                                                  NumberSelector(key='CreditScore'))])),\n                                                ('Age',\n                                                 Pipeline(steps=[('selector',\n                                                                  NumberSelector(key='Age'))])),\n                                                ('Balance',\n                                                 Pipeline(steps=[('selector',\n                                                                  NumberSelector(key='Balance'))])),\n                                                ('NumOfProducts',\n                                                 Pipeline(steps=[('selector',\n                                                                  NumberSelector(key='NumOfProducts'))])),\n                                                ('EstimatedSalary',\n                                                 Pipeline(steps=[('selector',\n                                                                  NumberSelector(key='EstimatedSalary'))]))]))])</pre></div></div></div><div class=\"sk-serial\"><div class=\"sk-item sk-dashed-wrapped\"><div class=\"sk-label-container\"><div class=\"sk-label sk-toggleable\"><input class=\"sk-toggleable__control sk-hidden--visually\" id=\"aecd5108-9f1b-46d0-a298-c4a057966a91\" type=\"checkbox\" ><label class=\"sk-toggleable__label\" for=\"aecd5108-9f1b-46d0-a298-c4a057966a91\">feats: FeatureUnion</label><div class=\"sk-toggleable__content\"><pre>FeatureUnion(transformer_list=[('Geography',\n                                Pipeline(steps=[('selector',\n                                                 FeatureSelector(column='Geography')),\n                                                ('ohe',\n                                                 OHEEncoder(key='Geography'))])),\n                               ('Gender',\n                                Pipeline(steps=[('selector',\n                                                 FeatureSelector(column='Gender')),\n                                                ('ohe',\n                                                 OHEEncoder(key='Gender'))])),\n                               ('Tenure',\n                                Pipeline(steps=[('selector',\n                                                 FeatureSelector(column='Tenure')),\n                                                ('ohe',\n                                                 OHEEncoder(key=...\n                                                 NumberSelector(key='CreditScore'))])),\n                               ('Age',\n                                Pipeline(steps=[('selector',\n                                                 NumberSelector(key='Age'))])),\n                               ('Balance',\n                                Pipeline(steps=[('selector',\n                                                 NumberSelector(key='Balance'))])),\n                               ('NumOfProducts',\n                                Pipeline(steps=[('selector',\n                                                 NumberSelector(key='NumOfProducts'))])),\n                               ('EstimatedSalary',\n                                Pipeline(steps=[('selector',\n                                                 NumberSelector(key='EstimatedSalary'))]))])</pre></div></div></div><div class=\"sk-parallel\"><div class=\"sk-parallel-item\"><div class=\"sk-item\"><div class=\"sk-label-container\"><div class=\"sk-label sk-toggleable\"><label>Geography</label></div></div><div class=\"sk-serial\"><div class=\"sk-item\"><div class=\"sk-serial\"><div class=\"sk-item\"><div class=\"sk-estimator sk-toggleable\"><input class=\"sk-toggleable__control sk-hidden--visually\" id=\"7f2a40a3-8f06-4f75-8bda-496a38d0d0a9\" type=\"checkbox\" ><label class=\"sk-toggleable__label\" for=\"7f2a40a3-8f06-4f75-8bda-496a38d0d0a9\">FeatureSelector</label><div class=\"sk-toggleable__content\"><pre>FeatureSelector(column='Geography')</pre></div></div></div><div class=\"sk-item\"><div class=\"sk-estimator sk-toggleable\"><input class=\"sk-toggleable__control sk-hidden--visually\" id=\"6f279f60-29c9-4a19-849a-59f01fcf9862\" type=\"checkbox\" ><label class=\"sk-toggleable__label\" for=\"6f279f60-29c9-4a19-849a-59f01fcf9862\">OHEEncoder</label><div class=\"sk-toggleable__content\"><pre>OHEEncoder(key='Geography')</pre></div></div></div></div></div></div></div></div><div class=\"sk-parallel-item\"><div class=\"sk-item\"><div class=\"sk-label-container\"><div class=\"sk-label sk-toggleable\"><label>Gender</label></div></div><div class=\"sk-serial\"><div class=\"sk-item\"><div class=\"sk-serial\"><div class=\"sk-item\"><div class=\"sk-estimator sk-toggleable\"><input class=\"sk-toggleable__control sk-hidden--visually\" id=\"5ea6a98e-3a2b-4aae-9389-69f8dbac242b\" type=\"checkbox\" ><label class=\"sk-toggleable__label\" for=\"5ea6a98e-3a2b-4aae-9389-69f8dbac242b\">FeatureSelector</label><div class=\"sk-toggleable__content\"><pre>FeatureSelector(column='Gender')</pre></div></div></div><div class=\"sk-item\"><div class=\"sk-estimator sk-toggleable\"><input class=\"sk-toggleable__control sk-hidden--visually\" id=\"8e7affb7-67ad-485f-8c59-a32373d391c7\" type=\"checkbox\" ><label class=\"sk-toggleable__label\" for=\"8e7affb7-67ad-485f-8c59-a32373d391c7\">OHEEncoder</label><div class=\"sk-toggleable__content\"><pre>OHEEncoder(key='Gender')</pre></div></div></div></div></div></div></div></div><div class=\"sk-parallel-item\"><div class=\"sk-item\"><div class=\"sk-label-container\"><div class=\"sk-label sk-toggleable\"><label>Tenure</label></div></div><div class=\"sk-serial\"><div class=\"sk-item\"><div class=\"sk-serial\"><div class=\"sk-item\"><div class=\"sk-estimator sk-toggleable\"><input class=\"sk-toggleable__control sk-hidden--visually\" id=\"acdddf38-87a3-401e-947f-64fb2e669aa5\" type=\"checkbox\" ><label class=\"sk-toggleable__label\" for=\"acdddf38-87a3-401e-947f-64fb2e669aa5\">FeatureSelector</label><div class=\"sk-toggleable__content\"><pre>FeatureSelector(column='Tenure')</pre></div></div></div><div class=\"sk-item\"><div class=\"sk-estimator sk-toggleable\"><input class=\"sk-toggleable__control sk-hidden--visually\" id=\"f0013fde-5fef-42d5-b6bd-c05e766e033f\" type=\"checkbox\" ><label class=\"sk-toggleable__label\" for=\"f0013fde-5fef-42d5-b6bd-c05e766e033f\">OHEEncoder</label><div class=\"sk-toggleable__content\"><pre>OHEEncoder(key='Tenure')</pre></div></div></div></div></div></div></div></div><div class=\"sk-parallel-item\"><div class=\"sk-item\"><div class=\"sk-label-container\"><div class=\"sk-label sk-toggleable\"><label>HasCrCard</label></div></div><div class=\"sk-serial\"><div class=\"sk-item\"><div class=\"sk-serial\"><div class=\"sk-item\"><div class=\"sk-estimator sk-toggleable\"><input class=\"sk-toggleable__control sk-hidden--visually\" id=\"9c6dd24f-687f-4753-8143-80e026f14876\" type=\"checkbox\" ><label class=\"sk-toggleable__label\" for=\"9c6dd24f-687f-4753-8143-80e026f14876\">FeatureSelector</label><div class=\"sk-toggleable__content\"><pre>FeatureSelector(column='HasCrCard')</pre></div></div></div><div class=\"sk-item\"><div class=\"sk-estimator sk-toggleable\"><input class=\"sk-toggleable__control sk-hidden--visually\" id=\"b4048636-4fc4-424d-837b-3ff74f46cbf6\" type=\"checkbox\" ><label class=\"sk-toggleable__label\" for=\"b4048636-4fc4-424d-837b-3ff74f46cbf6\">OHEEncoder</label><div class=\"sk-toggleable__content\"><pre>OHEEncoder(key='HasCrCard')</pre></div></div></div></div></div></div></div></div><div class=\"sk-parallel-item\"><div class=\"sk-item\"><div class=\"sk-label-container\"><div class=\"sk-label sk-toggleable\"><label>IsActiveMember</label></div></div><div class=\"sk-serial\"><div class=\"sk-item\"><div class=\"sk-serial\"><div class=\"sk-item\"><div class=\"sk-estimator sk-toggleable\"><input class=\"sk-toggleable__control sk-hidden--visually\" id=\"903a0420-dbc5-437a-8703-8bb4e1e8aa83\" type=\"checkbox\" ><label class=\"sk-toggleable__label\" for=\"903a0420-dbc5-437a-8703-8bb4e1e8aa83\">FeatureSelector</label><div class=\"sk-toggleable__content\"><pre>FeatureSelector(column='IsActiveMember')</pre></div></div></div><div class=\"sk-item\"><div class=\"sk-estimator sk-toggleable\"><input class=\"sk-toggleable__control sk-hidden--visually\" id=\"9fbbd8f0-adf8-4ddc-a550-c632804c9791\" type=\"checkbox\" ><label class=\"sk-toggleable__label\" for=\"9fbbd8f0-adf8-4ddc-a550-c632804c9791\">OHEEncoder</label><div class=\"sk-toggleable__content\"><pre>OHEEncoder(key='IsActiveMember')</pre></div></div></div></div></div></div></div></div><div class=\"sk-parallel-item\"><div class=\"sk-item\"><div class=\"sk-label-container\"><div class=\"sk-label sk-toggleable\"><label>CreditScore</label></div></div><div class=\"sk-serial\"><div class=\"sk-item\"><div class=\"sk-serial\"><div class=\"sk-item\"><div class=\"sk-estimator sk-toggleable\"><input class=\"sk-toggleable__control sk-hidden--visually\" id=\"a2eced6d-f1dd-4dce-9781-94dec4140f50\" type=\"checkbox\" ><label class=\"sk-toggleable__label\" for=\"a2eced6d-f1dd-4dce-9781-94dec4140f50\">NumberSelector</label><div class=\"sk-toggleable__content\"><pre>NumberSelector(key='CreditScore')</pre></div></div></div></div></div></div></div></div><div class=\"sk-parallel-item\"><div class=\"sk-item\"><div class=\"sk-label-container\"><div class=\"sk-label sk-toggleable\"><label>Age</label></div></div><div class=\"sk-serial\"><div class=\"sk-item\"><div class=\"sk-serial\"><div class=\"sk-item\"><div class=\"sk-estimator sk-toggleable\"><input class=\"sk-toggleable__control sk-hidden--visually\" id=\"76e0cca4-8a1f-4d0a-90aa-901d1a93849d\" type=\"checkbox\" ><label class=\"sk-toggleable__label\" for=\"76e0cca4-8a1f-4d0a-90aa-901d1a93849d\">NumberSelector</label><div class=\"sk-toggleable__content\"><pre>NumberSelector(key='Age')</pre></div></div></div></div></div></div></div></div><div class=\"sk-parallel-item\"><div class=\"sk-item\"><div class=\"sk-label-container\"><div class=\"sk-label sk-toggleable\"><label>Balance</label></div></div><div class=\"sk-serial\"><div class=\"sk-item\"><div class=\"sk-serial\"><div class=\"sk-item\"><div class=\"sk-estimator sk-toggleable\"><input class=\"sk-toggleable__control sk-hidden--visually\" id=\"f57b42df-332e-467f-b554-4a3b9c6edc83\" type=\"checkbox\" ><label class=\"sk-toggleable__label\" for=\"f57b42df-332e-467f-b554-4a3b9c6edc83\">NumberSelector</label><div class=\"sk-toggleable__content\"><pre>NumberSelector(key='Balance')</pre></div></div></div></div></div></div></div></div><div class=\"sk-parallel-item\"><div class=\"sk-item\"><div class=\"sk-label-container\"><div class=\"sk-label sk-toggleable\"><label>NumOfProducts</label></div></div><div class=\"sk-serial\"><div class=\"sk-item\"><div class=\"sk-serial\"><div class=\"sk-item\"><div class=\"sk-estimator sk-toggleable\"><input class=\"sk-toggleable__control sk-hidden--visually\" id=\"acd932f1-45ca-4add-8326-d223b3515440\" type=\"checkbox\" ><label class=\"sk-toggleable__label\" for=\"acd932f1-45ca-4add-8326-d223b3515440\">NumberSelector</label><div class=\"sk-toggleable__content\"><pre>NumberSelector(key='NumOfProducts')</pre></div></div></div></div></div></div></div></div><div class=\"sk-parallel-item\"><div class=\"sk-item\"><div class=\"sk-label-container\"><div class=\"sk-label sk-toggleable\"><label>EstimatedSalary</label></div></div><div class=\"sk-serial\"><div class=\"sk-item\"><div class=\"sk-serial\"><div class=\"sk-item\"><div class=\"sk-estimator sk-toggleable\"><input class=\"sk-toggleable__control sk-hidden--visually\" id=\"9dbefcdb-5835-40f3-b2c3-34c5c1d58569\" type=\"checkbox\" ><label class=\"sk-toggleable__label\" for=\"9dbefcdb-5835-40f3-b2c3-34c5c1d58569\">NumberSelector</label><div class=\"sk-toggleable__content\"><pre>NumberSelector(key='EstimatedSalary')</pre></div></div></div></div></div></div></div></div></div></div></div></div></div></div>"
     },
     "execution_count": 16,
     "metadata": {},
     "output_type": "execute_result"
    }
   ],
   "source": [
    "from sklearn import set_config\n",
    "\n",
    "set_config(display='diagram')\n",
    "feature_processing"
   ],
   "metadata": {
    "collapsed": false,
    "pycharm": {
     "name": "#%%\n"
    }
   }
  },
  {
   "cell_type": "markdown",
   "source": [
    "### Программные блоки"
   ],
   "metadata": {
    "collapsed": false,
    "pycharm": {
     "name": "#%% md\n"
    }
   }
  },
  {
   "cell_type": "markdown",
   "source": [
    "Нам нужно от вероятностей перейти к меткам классов. Для этого нужно подобрать порог, после которого мы считаем, что объект можно отнести к классу 1 (если вероятность больше порога - размечаем объект как класс 1, если нет - класс 0)"
   ],
   "metadata": {
    "collapsed": false
   }
  },
  {
   "cell_type": "code",
   "execution_count": 31,
   "outputs": [],
   "source": [
    "from sklearn.metrics import f1_score, roc_auc_score, precision_score, classification_report, precision_recall_curve,    confusion_matrix\n",
    "\n",
    "def print_sel_thresholds(y_test, preds):\n",
    "    precision, recall, thresholds = precision_recall_curve(y_test, preds)\n",
    "\n",
    "    fscore = (2 * precision * recall) / (precision + recall)\n",
    "    # locate the index of the largest f score\n",
    "    ix = np.argmax(fscore)\n",
    "    print('Best Threshold=%f, F-Score=%.3f, Precision=%.3f, Recall=%.3f' % (thresholds[ix],\n",
    "                                                                            fscore[ix],\n",
    "                                                                            precision[ix],\n",
    "                                                                            recall[ix]))\n",
    "    return thresholds[ix]"
   ],
   "metadata": {
    "collapsed": false,
    "pycharm": {
     "name": "#%%\n"
    }
   }
  },
  {
   "cell_type": "code",
   "execution_count": 32,
   "outputs": [],
   "source": [
    "def plot_confusion_matrix(cm, classes,\n",
    "                          normalize=False,\n",
    "                          title='Confusion matrix',\n",
    "                          cmap=plt.cm.Blues):\n",
    "    \"\"\"\n",
    "    This function prints and plots the confusion matrix.\n",
    "    Normalization can be applied by setting `normalize=True`.\n",
    "    \"\"\"\n",
    "    plt.imshow(cm, interpolation='nearest', cmap=cmap)\n",
    "    plt.title(title)\n",
    "    plt.colorbar()\n",
    "    tick_marks = np.arange(len(classes))\n",
    "    plt.xticks(tick_marks, classes, rotation=45)\n",
    "    plt.yticks(tick_marks, classes)\n",
    "\n",
    "    if normalize:\n",
    "        cm = cm.astype('float') / cm.sum(axis=1)[:, np.newaxis]\n",
    "        print(\"Normalized confusion matrix\")\n",
    "    else:\n",
    "        print('Confusion matrix, without normalization')\n",
    "\n",
    "    print(cm)\n",
    "\n",
    "    thresh = cm.max() / 2.\n",
    "    for i, j in itertools.product(range(cm.shape[0]), range(cm.shape[1])):\n",
    "        plt.text(j, i, cm[i, j],\n",
    "                 horizontalalignment=\"center\",\n",
    "                 color=\"white\" if cm[i, j] > thresh else \"black\")\n",
    "\n",
    "    plt.tight_layout()\n",
    "    plt.ylabel('True label')\n",
    "    plt.xlabel('Predicted label')"
   ],
   "metadata": {
    "collapsed": false,
    "pycharm": {
     "name": "#%%\n"
    }
   }
  },
  {
   "cell_type": "code",
   "execution_count": 33,
   "outputs": [],
   "source": [
    "def confusion_matrix_create(y_test, preds, thresholds):\n",
    "    font = {'size': 15}\n",
    "\n",
    "    plt.rc('font', **font)\n",
    "\n",
    "    cnf_matrix = confusion_matrix(y_test, preds > thresholds)\n",
    "    plt.figure(figsize=(10, 8))\n",
    "    plot_confusion_matrix(cnf_matrix, classes=['NonChurn', 'Churn'],\n",
    "                          title='Confusion matrix')\n",
    "    plt.savefig(\"conf_matrix.png\")\n",
    "    plt.show()"
   ],
   "metadata": {
    "collapsed": false,
    "pycharm": {
     "name": "#%%\n"
    }
   }
  },
  {
   "cell_type": "markdown",
   "source": [
    "### I. Обучение модели. RandomForestClassifier"
   ],
   "metadata": {
    "collapsed": false
   }
  },
  {
   "cell_type": "code",
   "execution_count": 42,
   "outputs": [],
   "source": [
    "from sklearn.ensemble import RandomForestClassifier\n",
    "\n",
    "model = RandomForestClassifier(random_state=42)\n"
   ],
   "metadata": {
    "collapsed": false,
    "pycharm": {
     "name": "#%%\n"
    }
   }
  },
  {
   "cell_type": "code",
   "execution_count": 43,
   "outputs": [],
   "source": [
    "pipeline = Pipeline([\n",
    "    ('features', feats),\n",
    "    ('classifier', model),\n",
    "])\n"
   ],
   "metadata": {
    "collapsed": false,
    "pycharm": {
     "name": "#%%\n"
    }
   }
  },
  {
   "cell_type": "code",
   "execution_count": 44,
   "outputs": [
    {
     "data": {
      "text/plain": "Pipeline(steps=[('features',\n                 FeatureUnion(transformer_list=[('Geography',\n                                                 Pipeline(steps=[('selector',\n                                                                  FeatureSelector(column='Geography')),\n                                                                 ('ohe',\n                                                                  OHEEncoder(key='Geography'))])),\n                                                ('Gender',\n                                                 Pipeline(steps=[('selector',\n                                                                  FeatureSelector(column='Gender')),\n                                                                 ('ohe',\n                                                                  OHEEncoder(key='Gender'))])),\n                                                ('Tenure',\n                                                 Pipeline(steps=[('selector',\n                                                                  FeatureSelector(column='Tenu...\n                                                 Pipeline(steps=[('selector',\n                                                                  NumberSelector(key='Age'))])),\n                                                ('Balance',\n                                                 Pipeline(steps=[('selector',\n                                                                  NumberSelector(key='Balance'))])),\n                                                ('NumOfProducts',\n                                                 Pipeline(steps=[('selector',\n                                                                  NumberSelector(key='NumOfProducts'))])),\n                                                ('EstimatedSalary',\n                                                 Pipeline(steps=[('selector',\n                                                                  NumberSelector(key='EstimatedSalary'))]))])),\n                ('classifier', RandomForestClassifier(random_state=42))])",
      "text/html": "<style>#sk-feaae7bd-ba18-45dd-917d-3584ce7eb824 {color: black;background-color: white;}#sk-feaae7bd-ba18-45dd-917d-3584ce7eb824 pre{padding: 0;}#sk-feaae7bd-ba18-45dd-917d-3584ce7eb824 div.sk-toggleable {background-color: white;}#sk-feaae7bd-ba18-45dd-917d-3584ce7eb824 label.sk-toggleable__label {cursor: pointer;display: block;width: 100%;margin-bottom: 0;padding: 0.3em;box-sizing: border-box;text-align: center;}#sk-feaae7bd-ba18-45dd-917d-3584ce7eb824 div.sk-toggleable__content {max-height: 0;max-width: 0;overflow: hidden;text-align: left;background-color: #f0f8ff;}#sk-feaae7bd-ba18-45dd-917d-3584ce7eb824 div.sk-toggleable__content pre {margin: 0.2em;color: black;border-radius: 0.25em;background-color: #f0f8ff;}#sk-feaae7bd-ba18-45dd-917d-3584ce7eb824 input.sk-toggleable__control:checked~div.sk-toggleable__content {max-height: 200px;max-width: 100%;overflow: auto;}#sk-feaae7bd-ba18-45dd-917d-3584ce7eb824 div.sk-estimator input.sk-toggleable__control:checked~label.sk-toggleable__label {background-color: #d4ebff;}#sk-feaae7bd-ba18-45dd-917d-3584ce7eb824 div.sk-label input.sk-toggleable__control:checked~label.sk-toggleable__label {background-color: #d4ebff;}#sk-feaae7bd-ba18-45dd-917d-3584ce7eb824 input.sk-hidden--visually {border: 0;clip: rect(1px 1px 1px 1px);clip: rect(1px, 1px, 1px, 1px);height: 1px;margin: -1px;overflow: hidden;padding: 0;position: absolute;width: 1px;}#sk-feaae7bd-ba18-45dd-917d-3584ce7eb824 div.sk-estimator {font-family: monospace;background-color: #f0f8ff;border: 1px dotted black;border-radius: 0.25em;box-sizing: border-box;margin-bottom: 0.5em;}#sk-feaae7bd-ba18-45dd-917d-3584ce7eb824 div.sk-estimator:hover {background-color: #d4ebff;}#sk-feaae7bd-ba18-45dd-917d-3584ce7eb824 div.sk-parallel-item::after {content: \"\";width: 100%;border-bottom: 1px solid gray;flex-grow: 1;}#sk-feaae7bd-ba18-45dd-917d-3584ce7eb824 div.sk-label:hover label.sk-toggleable__label {background-color: #d4ebff;}#sk-feaae7bd-ba18-45dd-917d-3584ce7eb824 div.sk-serial::before {content: \"\";position: absolute;border-left: 1px solid gray;box-sizing: border-box;top: 2em;bottom: 0;left: 50%;}#sk-feaae7bd-ba18-45dd-917d-3584ce7eb824 div.sk-serial {display: flex;flex-direction: column;align-items: center;background-color: white;padding-right: 0.2em;padding-left: 0.2em;}#sk-feaae7bd-ba18-45dd-917d-3584ce7eb824 div.sk-item {z-index: 1;}#sk-feaae7bd-ba18-45dd-917d-3584ce7eb824 div.sk-parallel {display: flex;align-items: stretch;justify-content: center;background-color: white;}#sk-feaae7bd-ba18-45dd-917d-3584ce7eb824 div.sk-parallel::before {content: \"\";position: absolute;border-left: 1px solid gray;box-sizing: border-box;top: 2em;bottom: 0;left: 50%;}#sk-feaae7bd-ba18-45dd-917d-3584ce7eb824 div.sk-parallel-item {display: flex;flex-direction: column;position: relative;background-color: white;}#sk-feaae7bd-ba18-45dd-917d-3584ce7eb824 div.sk-parallel-item:first-child::after {align-self: flex-end;width: 50%;}#sk-feaae7bd-ba18-45dd-917d-3584ce7eb824 div.sk-parallel-item:last-child::after {align-self: flex-start;width: 50%;}#sk-feaae7bd-ba18-45dd-917d-3584ce7eb824 div.sk-parallel-item:only-child::after {width: 0;}#sk-feaae7bd-ba18-45dd-917d-3584ce7eb824 div.sk-dashed-wrapped {border: 1px dashed gray;margin: 0 0.4em 0.5em 0.4em;box-sizing: border-box;padding-bottom: 0.4em;background-color: white;position: relative;}#sk-feaae7bd-ba18-45dd-917d-3584ce7eb824 div.sk-label label {font-family: monospace;font-weight: bold;background-color: white;display: inline-block;line-height: 1.2em;}#sk-feaae7bd-ba18-45dd-917d-3584ce7eb824 div.sk-label-container {position: relative;z-index: 2;text-align: center;}#sk-feaae7bd-ba18-45dd-917d-3584ce7eb824 div.sk-container {display: inline-block;position: relative;}</style><div id=\"sk-feaae7bd-ba18-45dd-917d-3584ce7eb824\" class\"sk-top-container\"><div class=\"sk-container\"><div class=\"sk-item sk-dashed-wrapped\"><div class=\"sk-label-container\"><div class=\"sk-label sk-toggleable\"><input class=\"sk-toggleable__control sk-hidden--visually\" id=\"93d10c9f-ad99-4da2-bdf7-abd2c1a5948d\" type=\"checkbox\" ><label class=\"sk-toggleable__label\" for=\"93d10c9f-ad99-4da2-bdf7-abd2c1a5948d\">Pipeline</label><div class=\"sk-toggleable__content\"><pre>Pipeline(steps=[('features',\n                 FeatureUnion(transformer_list=[('Geography',\n                                                 Pipeline(steps=[('selector',\n                                                                  FeatureSelector(column='Geography')),\n                                                                 ('ohe',\n                                                                  OHEEncoder(key='Geography'))])),\n                                                ('Gender',\n                                                 Pipeline(steps=[('selector',\n                                                                  FeatureSelector(column='Gender')),\n                                                                 ('ohe',\n                                                                  OHEEncoder(key='Gender'))])),\n                                                ('Tenure',\n                                                 Pipeline(steps=[('selector',\n                                                                  FeatureSelector(column='Tenu...\n                                                 Pipeline(steps=[('selector',\n                                                                  NumberSelector(key='Age'))])),\n                                                ('Balance',\n                                                 Pipeline(steps=[('selector',\n                                                                  NumberSelector(key='Balance'))])),\n                                                ('NumOfProducts',\n                                                 Pipeline(steps=[('selector',\n                                                                  NumberSelector(key='NumOfProducts'))])),\n                                                ('EstimatedSalary',\n                                                 Pipeline(steps=[('selector',\n                                                                  NumberSelector(key='EstimatedSalary'))]))])),\n                ('classifier', RandomForestClassifier(random_state=42))])</pre></div></div></div><div class=\"sk-serial\"><div class=\"sk-item sk-dashed-wrapped\"><div class=\"sk-label-container\"><div class=\"sk-label sk-toggleable\"><input class=\"sk-toggleable__control sk-hidden--visually\" id=\"7338a723-fc0f-420c-9470-18f7bfe437fb\" type=\"checkbox\" ><label class=\"sk-toggleable__label\" for=\"7338a723-fc0f-420c-9470-18f7bfe437fb\">features: FeatureUnion</label><div class=\"sk-toggleable__content\"><pre>FeatureUnion(transformer_list=[('Geography',\n                                Pipeline(steps=[('selector',\n                                                 FeatureSelector(column='Geography')),\n                                                ('ohe',\n                                                 OHEEncoder(key='Geography'))])),\n                               ('Gender',\n                                Pipeline(steps=[('selector',\n                                                 FeatureSelector(column='Gender')),\n                                                ('ohe',\n                                                 OHEEncoder(key='Gender'))])),\n                               ('Tenure',\n                                Pipeline(steps=[('selector',\n                                                 FeatureSelector(column='Tenure')),\n                                                ('ohe',\n                                                 OHEEncoder(key=...\n                                                 NumberSelector(key='CreditScore'))])),\n                               ('Age',\n                                Pipeline(steps=[('selector',\n                                                 NumberSelector(key='Age'))])),\n                               ('Balance',\n                                Pipeline(steps=[('selector',\n                                                 NumberSelector(key='Balance'))])),\n                               ('NumOfProducts',\n                                Pipeline(steps=[('selector',\n                                                 NumberSelector(key='NumOfProducts'))])),\n                               ('EstimatedSalary',\n                                Pipeline(steps=[('selector',\n                                                 NumberSelector(key='EstimatedSalary'))]))])</pre></div></div></div><div class=\"sk-parallel\"><div class=\"sk-parallel-item\"><div class=\"sk-item\"><div class=\"sk-label-container\"><div class=\"sk-label sk-toggleable\"><label>Geography</label></div></div><div class=\"sk-serial\"><div class=\"sk-item\"><div class=\"sk-serial\"><div class=\"sk-item\"><div class=\"sk-estimator sk-toggleable\"><input class=\"sk-toggleable__control sk-hidden--visually\" id=\"45786cf6-fc75-4469-a4ed-8728918399d0\" type=\"checkbox\" ><label class=\"sk-toggleable__label\" for=\"45786cf6-fc75-4469-a4ed-8728918399d0\">FeatureSelector</label><div class=\"sk-toggleable__content\"><pre>FeatureSelector(column='Geography')</pre></div></div></div><div class=\"sk-item\"><div class=\"sk-estimator sk-toggleable\"><input class=\"sk-toggleable__control sk-hidden--visually\" id=\"5e2ebfa2-f705-4073-aac5-9a426c5d14e6\" type=\"checkbox\" ><label class=\"sk-toggleable__label\" for=\"5e2ebfa2-f705-4073-aac5-9a426c5d14e6\">OHEEncoder</label><div class=\"sk-toggleable__content\"><pre>OHEEncoder(key='Geography')</pre></div></div></div></div></div></div></div></div><div class=\"sk-parallel-item\"><div class=\"sk-item\"><div class=\"sk-label-container\"><div class=\"sk-label sk-toggleable\"><label>Gender</label></div></div><div class=\"sk-serial\"><div class=\"sk-item\"><div class=\"sk-serial\"><div class=\"sk-item\"><div class=\"sk-estimator sk-toggleable\"><input class=\"sk-toggleable__control sk-hidden--visually\" id=\"40515246-fdf2-406a-8f77-92e3a5f2c401\" type=\"checkbox\" ><label class=\"sk-toggleable__label\" for=\"40515246-fdf2-406a-8f77-92e3a5f2c401\">FeatureSelector</label><div class=\"sk-toggleable__content\"><pre>FeatureSelector(column='Gender')</pre></div></div></div><div class=\"sk-item\"><div class=\"sk-estimator sk-toggleable\"><input class=\"sk-toggleable__control sk-hidden--visually\" id=\"2a6344b7-9465-4451-bba8-f585418ae318\" type=\"checkbox\" ><label class=\"sk-toggleable__label\" for=\"2a6344b7-9465-4451-bba8-f585418ae318\">OHEEncoder</label><div class=\"sk-toggleable__content\"><pre>OHEEncoder(key='Gender')</pre></div></div></div></div></div></div></div></div><div class=\"sk-parallel-item\"><div class=\"sk-item\"><div class=\"sk-label-container\"><div class=\"sk-label sk-toggleable\"><label>Tenure</label></div></div><div class=\"sk-serial\"><div class=\"sk-item\"><div class=\"sk-serial\"><div class=\"sk-item\"><div class=\"sk-estimator sk-toggleable\"><input class=\"sk-toggleable__control sk-hidden--visually\" id=\"ab612891-f3c9-4d2e-8c02-401274613811\" type=\"checkbox\" ><label class=\"sk-toggleable__label\" for=\"ab612891-f3c9-4d2e-8c02-401274613811\">FeatureSelector</label><div class=\"sk-toggleable__content\"><pre>FeatureSelector(column='Tenure')</pre></div></div></div><div class=\"sk-item\"><div class=\"sk-estimator sk-toggleable\"><input class=\"sk-toggleable__control sk-hidden--visually\" id=\"80973ff8-3edf-4c7a-9109-aabf813fbb00\" type=\"checkbox\" ><label class=\"sk-toggleable__label\" for=\"80973ff8-3edf-4c7a-9109-aabf813fbb00\">OHEEncoder</label><div class=\"sk-toggleable__content\"><pre>OHEEncoder(key='Tenure')</pre></div></div></div></div></div></div></div></div><div class=\"sk-parallel-item\"><div class=\"sk-item\"><div class=\"sk-label-container\"><div class=\"sk-label sk-toggleable\"><label>HasCrCard</label></div></div><div class=\"sk-serial\"><div class=\"sk-item\"><div class=\"sk-serial\"><div class=\"sk-item\"><div class=\"sk-estimator sk-toggleable\"><input class=\"sk-toggleable__control sk-hidden--visually\" id=\"d629842c-907b-4051-861c-32fba9651373\" type=\"checkbox\" ><label class=\"sk-toggleable__label\" for=\"d629842c-907b-4051-861c-32fba9651373\">FeatureSelector</label><div class=\"sk-toggleable__content\"><pre>FeatureSelector(column='HasCrCard')</pre></div></div></div><div class=\"sk-item\"><div class=\"sk-estimator sk-toggleable\"><input class=\"sk-toggleable__control sk-hidden--visually\" id=\"8d6e6e5b-63c4-45a9-8554-b04ce68dbbe2\" type=\"checkbox\" ><label class=\"sk-toggleable__label\" for=\"8d6e6e5b-63c4-45a9-8554-b04ce68dbbe2\">OHEEncoder</label><div class=\"sk-toggleable__content\"><pre>OHEEncoder(key='HasCrCard')</pre></div></div></div></div></div></div></div></div><div class=\"sk-parallel-item\"><div class=\"sk-item\"><div class=\"sk-label-container\"><div class=\"sk-label sk-toggleable\"><label>IsActiveMember</label></div></div><div class=\"sk-serial\"><div class=\"sk-item\"><div class=\"sk-serial\"><div class=\"sk-item\"><div class=\"sk-estimator sk-toggleable\"><input class=\"sk-toggleable__control sk-hidden--visually\" id=\"2687dec2-695c-4541-a02e-ec67e814d045\" type=\"checkbox\" ><label class=\"sk-toggleable__label\" for=\"2687dec2-695c-4541-a02e-ec67e814d045\">FeatureSelector</label><div class=\"sk-toggleable__content\"><pre>FeatureSelector(column='IsActiveMember')</pre></div></div></div><div class=\"sk-item\"><div class=\"sk-estimator sk-toggleable\"><input class=\"sk-toggleable__control sk-hidden--visually\" id=\"0b3aabf4-9e98-43cf-92f0-5948ef7f297c\" type=\"checkbox\" ><label class=\"sk-toggleable__label\" for=\"0b3aabf4-9e98-43cf-92f0-5948ef7f297c\">OHEEncoder</label><div class=\"sk-toggleable__content\"><pre>OHEEncoder(key='IsActiveMember')</pre></div></div></div></div></div></div></div></div><div class=\"sk-parallel-item\"><div class=\"sk-item\"><div class=\"sk-label-container\"><div class=\"sk-label sk-toggleable\"><label>CreditScore</label></div></div><div class=\"sk-serial\"><div class=\"sk-item\"><div class=\"sk-serial\"><div class=\"sk-item\"><div class=\"sk-estimator sk-toggleable\"><input class=\"sk-toggleable__control sk-hidden--visually\" id=\"86e6a5e1-7e54-401b-80ef-659da2d1b887\" type=\"checkbox\" ><label class=\"sk-toggleable__label\" for=\"86e6a5e1-7e54-401b-80ef-659da2d1b887\">NumberSelector</label><div class=\"sk-toggleable__content\"><pre>NumberSelector(key='CreditScore')</pre></div></div></div></div></div></div></div></div><div class=\"sk-parallel-item\"><div class=\"sk-item\"><div class=\"sk-label-container\"><div class=\"sk-label sk-toggleable\"><label>Age</label></div></div><div class=\"sk-serial\"><div class=\"sk-item\"><div class=\"sk-serial\"><div class=\"sk-item\"><div class=\"sk-estimator sk-toggleable\"><input class=\"sk-toggleable__control sk-hidden--visually\" id=\"6f114417-ae11-4b5c-9734-7790fc6634ab\" type=\"checkbox\" ><label class=\"sk-toggleable__label\" for=\"6f114417-ae11-4b5c-9734-7790fc6634ab\">NumberSelector</label><div class=\"sk-toggleable__content\"><pre>NumberSelector(key='Age')</pre></div></div></div></div></div></div></div></div><div class=\"sk-parallel-item\"><div class=\"sk-item\"><div class=\"sk-label-container\"><div class=\"sk-label sk-toggleable\"><label>Balance</label></div></div><div class=\"sk-serial\"><div class=\"sk-item\"><div class=\"sk-serial\"><div class=\"sk-item\"><div class=\"sk-estimator sk-toggleable\"><input class=\"sk-toggleable__control sk-hidden--visually\" id=\"a168178a-2a0e-489c-83e0-4089a9de572a\" type=\"checkbox\" ><label class=\"sk-toggleable__label\" for=\"a168178a-2a0e-489c-83e0-4089a9de572a\">NumberSelector</label><div class=\"sk-toggleable__content\"><pre>NumberSelector(key='Balance')</pre></div></div></div></div></div></div></div></div><div class=\"sk-parallel-item\"><div class=\"sk-item\"><div class=\"sk-label-container\"><div class=\"sk-label sk-toggleable\"><label>NumOfProducts</label></div></div><div class=\"sk-serial\"><div class=\"sk-item\"><div class=\"sk-serial\"><div class=\"sk-item\"><div class=\"sk-estimator sk-toggleable\"><input class=\"sk-toggleable__control sk-hidden--visually\" id=\"bec50fdc-b5db-4a7a-b487-7f56a194083a\" type=\"checkbox\" ><label class=\"sk-toggleable__label\" for=\"bec50fdc-b5db-4a7a-b487-7f56a194083a\">NumberSelector</label><div class=\"sk-toggleable__content\"><pre>NumberSelector(key='NumOfProducts')</pre></div></div></div></div></div></div></div></div><div class=\"sk-parallel-item\"><div class=\"sk-item\"><div class=\"sk-label-container\"><div class=\"sk-label sk-toggleable\"><label>EstimatedSalary</label></div></div><div class=\"sk-serial\"><div class=\"sk-item\"><div class=\"sk-serial\"><div class=\"sk-item\"><div class=\"sk-estimator sk-toggleable\"><input class=\"sk-toggleable__control sk-hidden--visually\" id=\"1f2933ae-3845-4e77-86b5-58b58b0b06c9\" type=\"checkbox\" ><label class=\"sk-toggleable__label\" for=\"1f2933ae-3845-4e77-86b5-58b58b0b06c9\">NumberSelector</label><div class=\"sk-toggleable__content\"><pre>NumberSelector(key='EstimatedSalary')</pre></div></div></div></div></div></div></div></div></div></div><div class=\"sk-item\"><div class=\"sk-estimator sk-toggleable\"><input class=\"sk-toggleable__control sk-hidden--visually\" id=\"0fd166a5-d5a8-4958-88fb-c2ba51e24c5c\" type=\"checkbox\" ><label class=\"sk-toggleable__label\" for=\"0fd166a5-d5a8-4958-88fb-c2ba51e24c5c\">RandomForestClassifier</label><div class=\"sk-toggleable__content\"><pre>RandomForestClassifier(random_state=42)</pre></div></div></div></div></div></div></div>"
     },
     "execution_count": 44,
     "metadata": {},
     "output_type": "execute_result"
    }
   ],
   "source": [
    "pipeline.fit(X_train, y_train)"
   ],
   "metadata": {
    "collapsed": false,
    "pycharm": {
     "name": "#%%\n"
    }
   }
  },
  {
   "cell_type": "markdown",
   "source": [
    "#### I.1 Расчет прогнозов для тестовой выборки"
   ],
   "metadata": {
    "collapsed": false,
    "pycharm": {
     "name": "#%% md\n"
    }
   }
  },
  {
   "cell_type": "code",
   "execution_count": 45,
   "outputs": [
    {
     "data": {
      "text/plain": "array([0.37, 0.26, 0.16, 0.02, 0.02, 0.67, 0.04, 0.12, 0.15, 0.75])"
     },
     "execution_count": 45,
     "metadata": {},
     "output_type": "execute_result"
    }
   ],
   "source": [
    "preds = pipeline.predict_proba(X_test)[:, 1]\n",
    "preds[:10]\n"
   ],
   "metadata": {
    "collapsed": false,
    "pycharm": {
     "name": "#%%\n"
    }
   }
  },
  {
   "cell_type": "markdown",
   "source": [
    "#### I.2 Переход от вероятностей к меткам класса. Подбор порога\n"
   ],
   "metadata": {
    "collapsed": false
   }
  },
  {
   "cell_type": "code",
   "execution_count": 46,
   "outputs": [
    {
     "name": "stdout",
     "output_type": "stream",
     "text": [
      "Best Threshold=0.380000, F-Score=0.641, Precision=0.653, Recall=0.629\n"
     ]
    }
   ],
   "source": [
    "thresholds=print_sel_thresholds(y_test, preds)\n"
   ],
   "metadata": {
    "collapsed": false,
    "pycharm": {
     "name": "#%%\n"
    }
   }
  },
  {
   "cell_type": "markdown",
   "source": [
    "#### I.3 Отображение матрицы ошибок"
   ],
   "metadata": {
    "collapsed": false,
    "pycharm": {
     "name": "#%% md\n"
    }
   }
  },
  {
   "cell_type": "code",
   "execution_count": 47,
   "outputs": [
    {
     "name": "stdout",
     "output_type": "stream",
     "text": [
      "Confusion matrix, without normalization\n",
      "[[1832  159]\n",
      " [ 195  314]]\n"
     ]
    },
    {
     "data": {
      "text/plain": "<Figure size 720x576 with 2 Axes>",
      "image/png": "[encoded data removed]"
     },
     "metadata": {
      "needs_background": "light"
     },
     "output_type": "display_data"
    }
   ],
   "source": [
    "confusion_matrix_create(y_test, preds, thresholds)\n"
   ],
   "metadata": {
    "collapsed": false,
    "pycharm": {
     "name": "#%%\n"
    }
   }
  },
  {
   "cell_type": "markdown",
   "source": [
    "### II. Обучение модели. LogisticRegression"
   ],
   "metadata": {
    "collapsed": false
   }
  },
  {
   "cell_type": "code",
   "execution_count": null,
   "outputs": [],
   "source": [
    "model = LogisticRegression(random_state=42)"
   ],
   "metadata": {
    "collapsed": false,
    "pycharm": {
     "name": "#%%\n"
    }
   }
  },
  {
   "cell_type": "code",
   "execution_count": null,
   "outputs": [],
   "source": [
    "pipeline = Pipeline([\n",
    "    ('features', feats),\n",
    "    ('classifier', model),\n",
    "])\n"
   ],
   "metadata": {
    "collapsed": false,
    "pycharm": {
     "name": "#%%\n"
    }
   }
  },
  {
   "cell_type": "code",
   "execution_count": null,
   "outputs": [],
   "source": [
    "pipeline.fit(X_train, y_train)"
   ],
   "metadata": {
    "collapsed": false,
    "pycharm": {
     "name": "#%%\n"
    }
   }
  },
  {
   "cell_type": "markdown",
   "source": [
    "#### II.1 Расчет прогнозов для тестовой выборки"
   ],
   "metadata": {
    "collapsed": false
   }
  },
  {
   "cell_type": "code",
   "execution_count": null,
   "outputs": [],
   "source": [
    "preds = pipeline.predict_proba(X_test)[:, 1]\n",
    "preds[:10]"
   ],
   "metadata": {
    "collapsed": false,
    "pycharm": {
     "name": "#%%\n"
    }
   }
  },
  {
   "cell_type": "markdown",
   "source": [
    "#### II.2 Переход от вероятностей к меткам класса. Подбор порога\n"
   ],
   "metadata": {
    "collapsed": false
   }
  },
  {
   "cell_type": "code",
   "execution_count": null,
   "outputs": [],
   "source": [
    "thresholds=print_sel_thresholds(y_test, preds)"
   ],
   "metadata": {
    "collapsed": false,
    "pycharm": {
     "name": "#%%\n"
    }
   }
  },
  {
   "cell_type": "markdown",
   "source": [
    "#### II.3 Отображение матрицы ошибок"
   ],
   "metadata": {
    "collapsed": false
   }
  },
  {
   "cell_type": "code",
   "execution_count": null,
   "outputs": [],
   "source": [
    "confusion_matrix_create(y_test, preds, thresholds)\n",
    "\n"
   ],
   "metadata": {
    "collapsed": false,
    "pycharm": {
     "name": "#%%\n"
    }
   }
  }
 ],
 "metadata": {
  "kernelspec": {
   "display_name": "Python 3",
   "language": "python",
   "name": "python3"
  },
  "language_info": {
   "codemirror_mode": {
    "name": "ipython",
    "version": 2
   },
   "file_extension": ".py",
   "mimetype": "text/x-python",
   "name": "python",
   "nbconvert_exporter": "python",
   "pygments_lexer": "ipython2",
   "version": "2.7.6"
  }
 },
 "nbformat": 4,
 "nbformat_minor": 0
}