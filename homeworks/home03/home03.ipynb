{
 "cells": [
  {
   "cell_type": "markdown",
   "source": [
    "### Задание к Уроку 3.\n",
    "### Профилирование пользователей. Сегментация аудитории: unsupervised learning (clustering, LDA/ARTM), supervised (multi/binary classification)#\n",
    "\n"
   ],
   "metadata": {
    "collapsed": false
   }
  },
  {
   "cell_type": "markdown",
   "source": [
    "1. обучить несколько разных моделей на наборе данных ССЗ (train_case2.csv): логрег, бустинг, лес и т.д - на ваш выбор 2-3 варианта\n",
    "2. при обучении моделей обязательно использовать кроссвалидацию\n",
    "3. вывести сравнение полученных моделей по основным метрикам классификации: pr/rec/auc/f_score (можно в виде таблицы, где строки - модели, а столбцы - метрики)\n",
    "4. сделать выводы о том, какая модель справилась с задачей лучше других\n",
    "5. (опциональный вопрос) какая метрика (precision_recall_curve или roc_auc_curve) больше подходит в случае сильного дисбаланса классов? (когда объектов одного из классов намного больше чем другого).\n",
    "\n",
    "p.s.В вопросе проще разобраться, если вспомнить оси на графике roc auc curve и рассмотреть такой пример:\n",
    "\n",
    "Имеется 100000 объектов, из которых только 100 - класс \"1\" (99900 - класс \"0\", соответственно).\n",
    "Допустим, у нас две модели:\n",
    "\n",
    "- первая помечает 100 объектов как класс 1, но TP = 90\n",
    "- вторая помечает 1000 объектов как класс 1, но TP такой же - 90\n",
    "\n",
    "Какая модель лучше и почему? И что позволяет легче сделать вывод - roc_auc_curve или precision_recall_curve?\n"
   ],
   "metadata": {
    "collapsed": false
   }
  },
  {
   "cell_type": "markdown",
   "source": [
    "### Кейс 2 - определение ССЗ"
   ],
   "metadata": {
    "collapsed": false
   }
  },
  {
   "cell_type": "markdown",
   "source": [
    "ссылка на соревнование - https://mlbootcamp.ru/ru/round/12/sandbox/"
   ],
   "metadata": {
    "collapsed": false
   }
  },
  {
   "cell_type": "markdown",
   "source": [
    "#### 1. EDA (короткий)"
   ],
   "metadata": {
    "collapsed": false
   }
  },
  {
   "cell_type": "markdown",
   "source": [
    "В рамках конкурса вам нужно предсказать наличие сердечно-сосудистых заболеваний по результатам классического врачебного осмотра. Датасет сформирован из 100.000 реальных клинических анализов, и в нём используются признаки, которые можно разбить на 3 группы:\n",
    "\n",
    "**Объективные признаки:**\n",
    "\n",
    " - Возраст\n",
    " - Рост\n",
    " - Вес\n",
    " - Пол\n",
    " \n",
    "\n",
    "**Результаты измерения:**\n",
    "\n",
    " - Артериальное давление верхнее и нижнее\n",
    " - Холестерин\n",
    " - Глюкоза\n",
    " \n",
    "\n",
    "**Субъективные признаки:**\n",
    "\n",
    " - Курение\n",
    " - Употребление Алкоголя\n",
    " - Физическая активность\n",
    " \n",
    "\n",
    "Возраст дан в днях. Значения показателей холестерина и глюкозы представлены одним из трех классов: норма, выше нормы, значительно выше нормы. Значения субъективных признаков — бинарны.\n",
    "\n",
    "Все показатели даны на момент осмотра."
   ],
   "metadata": {
    "collapsed": false
   }
  },
  {
   "cell_type": "markdown",
   "source": [
    "**Таргет** - наличие сердечно-сосудистых заболеваний (ССЗ)"
   ],
   "metadata": {
    "collapsed": false
   }
  },
  {
   "cell_type": "markdown",
   "source": [
    "#### 2. Импорт библиотек"
   ],
   "metadata": {
    "collapsed": false,
    "pycharm": {
     "name": "#%% md\n"
    }
   }
  },
  {
   "cell_type": "code",
   "execution_count": 1,
   "outputs": [],
   "source": [
    "import pandas as pd\n",
    "import numpy as np\n",
    "from sklearn.model_selection import train_test_split\n",
    "from sklearn.model_selection import cross_val_score\n",
    "from sklearn.pipeline import Pipeline\n",
    "from sklearn.base import BaseEstimator, TransformerMixin\n",
    "from sklearn.metrics import precision_recall_curve, roc_curve, roc_auc_score\n",
    "\n",
    "from sklearn.linear_model import LogisticRegression\n",
    "\n",
    "import seaborn as sns\n",
    "import matplotlib.pyplot as plt\n",
    "from sklearn.metrics import confusion_matrix\n",
    "\n"
   ],
   "metadata": {
    "collapsed": false,
    "pycharm": {
     "name": "#%%\n"
    }
   }
  },
  {
   "cell_type": "markdown",
   "source": [
    "#### 3. Импорт данных"
   ],
   "metadata": {
    "collapsed": false
   }
  },
  {
   "cell_type": "code",
   "execution_count": 2,
   "outputs": [
    {
     "data": {
      "text/plain": "   id    age  gender  height  weight  ap_hi  ap_lo  cholesterol  gluc  smoke  \\\n0   0  18393       2     168    62.0    110     80            1     1      0   \n1   1  20228       1     156    85.0    140     90            3     1      0   \n2   2  18857       1     165    64.0    130     70            3     1      0   \n\n   alco  active  cardio  \n0     0       1       0  \n1     0       1       1  \n2     0       0       1  ",
      "text/html": "<div>\n<style scoped>\n    .dataframe tbody tr th:only-of-type {\n        vertical-align: middle;\n    }\n\n    .dataframe tbody tr th {\n        vertical-align: top;\n    }\n\n    .dataframe thead th {\n        text-align: right;\n    }\n</style>\n<table border=\"1\" class=\"dataframe\">\n  <thead>\n    <tr style=\"text-align: right;\">\n      <th></th>\n      <th>id</th>\n      <th>age</th>\n      <th>gender</th>\n      <th>height</th>\n      <th>weight</th>\n      <th>ap_hi</th>\n      <th>ap_lo</th>\n      <th>cholesterol</th>\n      <th>gluc</th>\n      <th>smoke</th>\n      <th>alco</th>\n      <th>active</th>\n      <th>cardio</th>\n    </tr>\n  </thead>\n  <tbody>\n    <tr>\n      <th>0</th>\n      <td>0</td>\n      <td>18393</td>\n      <td>2</td>\n      <td>168</td>\n      <td>62.0</td>\n      <td>110</td>\n      <td>80</td>\n      <td>1</td>\n      <td>1</td>\n      <td>0</td>\n      <td>0</td>\n      <td>1</td>\n      <td>0</td>\n    </tr>\n    <tr>\n      <th>1</th>\n      <td>1</td>\n      <td>20228</td>\n      <td>1</td>\n      <td>156</td>\n      <td>85.0</td>\n      <td>140</td>\n      <td>90</td>\n      <td>3</td>\n      <td>1</td>\n      <td>0</td>\n      <td>0</td>\n      <td>1</td>\n      <td>1</td>\n    </tr>\n    <tr>\n      <th>2</th>\n      <td>2</td>\n      <td>18857</td>\n      <td>1</td>\n      <td>165</td>\n      <td>64.0</td>\n      <td>130</td>\n      <td>70</td>\n      <td>3</td>\n      <td>1</td>\n      <td>0</td>\n      <td>0</td>\n      <td>0</td>\n      <td>1</td>\n    </tr>\n  </tbody>\n</table>\n</div>"
     },
     "execution_count": 2,
     "metadata": {},
     "output_type": "execute_result"
    }
   ],
   "source": [
    "df = pd.read_csv('train_case2.csv', delimiter=';')\n",
    "df.head(3)"
   ],
   "metadata": {
    "collapsed": false,
    "pycharm": {
     "name": "#%%\n"
    }
   }
  },
  {
   "cell_type": "markdown",
   "source": [
    "#### 4. Разделение данных на тренировочную и тестовую выборки"
   ],
   "metadata": {
    "collapsed": false
   }
  },
  {
   "cell_type": "code",
   "execution_count": 3,
   "outputs": [],
   "source": [
    "#разделим данные на train/test\n",
    "X_train, X_test, y_train, y_test = train_test_split(df.drop('cardio', axis=1),\n",
    "                                                    df['cardio'], random_state=0)"
   ],
   "metadata": {
    "collapsed": false,
    "pycharm": {
     "name": "#%%\n"
    }
   }
  },
  {
   "cell_type": "markdown",
   "source": [
    "#### 5. Обработка признаков"
   ],
   "metadata": {
    "collapsed": false
   }
  },
  {
   "cell_type": "markdown",
   "source": [
    "К полям:\n",
    "- gender, cholesterol применим OHE-кодирование\n",
    "- age, height, weight, ap_hi, ap_lo - standardScaler\n",
    "- gluc, smoke, alco, active - оставим пока как есть"
   ],
   "metadata": {
    "collapsed": false
   }
  },
  {
   "cell_type": "code",
   "execution_count": 4,
   "outputs": [],
   "source": [
    "class ColumnSelector(BaseEstimator, TransformerMixin):\n",
    "    \"\"\"\n",
    "    Transformer to select a single column from the data frame to perform additional transformations on\n",
    "    \"\"\"\n",
    "\n",
    "    def __init__(self, key):\n",
    "        self.key = key\n",
    "\n",
    "    def fit(self, X, y=None):\n",
    "        return self\n",
    "\n",
    "    def transform(self, X):\n",
    "        return X[self.key]\n",
    "\n",
    "\n",
    "class NumberSelector(BaseEstimator, TransformerMixin):\n",
    "    \"\"\"\n",
    "    Transformer to select a single column from the data frame to perform additional transformations on\n",
    "    Use on numeric columns in the data\n",
    "    \"\"\"\n",
    "\n",
    "    def __init__(self, key):\n",
    "        self.key = key\n",
    "\n",
    "    def fit(self, X, y=None):\n",
    "        return self\n",
    "\n",
    "    def transform(self, X):\n",
    "        return X[[self.key]]\n",
    "\n",
    "\n",
    "class OHEEncoder(BaseEstimator, TransformerMixin):\n",
    "    def __init__(self, key):\n",
    "        self.key = key\n",
    "        self.columns = []\n",
    "\n",
    "    def fit(self, X, y=None):\n",
    "        self.columns = [col for col in pd.get_dummies(X, prefix=self.key).columns]\n",
    "        return self\n",
    "\n",
    "    def transform(self, X):\n",
    "        X = pd.get_dummies(X, prefix=self.key)\n",
    "        test_columns = [col for col in X.columns]\n",
    "        for col_ in test_columns:\n",
    "            if col_ not in self.columns:\n",
    "                X[col_] = 0\n",
    "        return X[self.columns]\n",
    "\n",
    "\n",
    "from sklearn.preprocessing import StandardScaler\n",
    "\n",
    "continuos_cols = ['age', 'height', 'weight', 'ap_hi', 'ap_lo']\n",
    "cat_cols = ['gender', 'cholesterol']\n",
    "base_cols = ['gluc', 'smoke', 'alco', 'active']\n",
    "\n",
    "continuos_transformers = []\n",
    "cat_transformers = []\n",
    "base_transformers = []\n",
    "\n",
    "for cont_col in continuos_cols:\n",
    "    transfomer = Pipeline([\n",
    "        ('selector', NumberSelector(key=cont_col)),\n",
    "        ('standard', StandardScaler())\n",
    "    ])\n",
    "    continuos_transformers.append((cont_col, transfomer))\n",
    "\n",
    "for cat_col in cat_cols:\n",
    "    cat_transformer = Pipeline([\n",
    "        ('selector', ColumnSelector(key=cat_col)),\n",
    "        ('ohe', OHEEncoder(key=cat_col))\n",
    "    ])\n",
    "    cat_transformers.append((cat_col, cat_transformer))\n",
    "\n",
    "for base_col in base_cols:\n",
    "    base_transformer = Pipeline([\n",
    "        ('selector', NumberSelector(key=base_col))\n",
    "    ])\n",
    "    base_transformers.append((base_col, base_transformer))"
   ],
   "metadata": {
    "collapsed": false,
    "pycharm": {
     "name": "#%%\n"
    }
   }
  },
  {
   "cell_type": "code",
   "execution_count": 5,
   "outputs": [],
   "source": [
    "import itertools\n",
    "\n",
    "\n",
    "def plot_confusion_matrix(cm, classes,\n",
    "                          normalize=False,\n",
    "                          title='Confusion matrix',\n",
    "                          cmap=plt.cm.Blues):\n",
    "    \"\"\"\n",
    "    This function prints and plots the confusion matrix.\n",
    "    Normalization can be applied by setting `normalize=True`.\n",
    "    \"\"\"\n",
    "    plt.imshow(cm, interpolation='nearest', cmap=cmap)\n",
    "    plt.title(title)\n",
    "    plt.colorbar()\n",
    "    tick_marks = np.arange(len(classes))\n",
    "    plt.xticks(tick_marks, classes, rotation=45)\n",
    "    plt.yticks(tick_marks, classes)\n",
    "\n",
    "    if normalize:\n",
    "        cm = cm.astype('float') / cm.sum(axis=1)[:, np.newaxis]\n",
    "        print(\"Normalized confusion matrix\")\n",
    "    else:\n",
    "        print('Confusion matrix, without normalization')\n",
    "\n",
    "    print(cm)\n",
    "\n",
    "    thresh = cm.max() / 2.\n",
    "    for i, j in itertools.product(range(cm.shape[0]), range(cm.shape[1])):\n",
    "        plt.text(j, i, cm[i, j],\n",
    "                 horizontalalignment=\"center\",\n",
    "                 color=\"white\" if cm[i, j] > thresh else \"black\")\n",
    "\n",
    "    plt.tight_layout()\n",
    "    plt.ylabel('True label')\n",
    "    plt.xlabel('Predicted label')"
   ],
   "metadata": {
    "collapsed": false,
    "pycharm": {
     "name": "#%%\n"
    }
   }
  },
  {
   "cell_type": "markdown",
   "source": [
    "#### 5. Создание конечного pipeline"
   ],
   "metadata": {
    "collapsed": false
   }
  },
  {
   "cell_type": "markdown",
   "source": [
    "Теперь объединим все наши трансформеры с помощью FeatureUnion"
   ],
   "metadata": {
    "collapsed": false
   }
  },
  {
   "cell_type": "code",
   "execution_count": 6,
   "outputs": [
    {
     "data": {
      "text/plain": "         0         1         2         3         4    5    6    7    8    9   \\\n0 -1.733918  0.687330  0.748439  0.008546 -0.091174  0.0  1.0  0.0  0.0  1.0   \n1 -1.673435  0.077589 -0.296401 -0.128507 -0.144553  1.0  0.0  1.0  0.0  0.0   \n2  0.137381  1.175123 -0.157089 -0.059980 -0.091174  1.0  0.0  1.0  0.0  0.0   \n3  0.460901 -0.654100 -0.505369  0.145600  0.015584  1.0  0.0  0.0  1.0  0.0   \n4 -1.410804  0.809278  0.539471 -0.128507 -0.091174  1.0  0.0  1.0  0.0  0.0   \n\n    10   11   12   13  \n0  3.0  1.0  0.0  1.0  \n1  1.0  0.0  0.0  1.0  \n2  1.0  0.0  0.0  0.0  \n3  2.0  0.0  0.0  0.0  \n4  1.0  0.0  0.0  1.0  ",
      "text/html": "<div>\n<style scoped>\n    .dataframe tbody tr th:only-of-type {\n        vertical-align: middle;\n    }\n\n    .dataframe tbody tr th {\n        vertical-align: top;\n    }\n\n    .dataframe thead th {\n        text-align: right;\n    }\n</style>\n<table border=\"1\" class=\"dataframe\">\n  <thead>\n    <tr style=\"text-align: right;\">\n      <th></th>\n      <th>0</th>\n      <th>1</th>\n      <th>2</th>\n      <th>3</th>\n      <th>4</th>\n      <th>5</th>\n      <th>6</th>\n      <th>7</th>\n      <th>8</th>\n      <th>9</th>\n      <th>10</th>\n      <th>11</th>\n      <th>12</th>\n      <th>13</th>\n    </tr>\n  </thead>\n  <tbody>\n    <tr>\n      <th>0</th>\n      <td>-1.733918</td>\n      <td>0.687330</td>\n      <td>0.748439</td>\n      <td>0.008546</td>\n      <td>-0.091174</td>\n      <td>0.0</td>\n      <td>1.0</td>\n      <td>0.0</td>\n      <td>0.0</td>\n      <td>1.0</td>\n      <td>3.0</td>\n      <td>1.0</td>\n      <td>0.0</td>\n      <td>1.0</td>\n    </tr>\n    <tr>\n      <th>1</th>\n      <td>-1.673435</td>\n      <td>0.077589</td>\n      <td>-0.296401</td>\n      <td>-0.128507</td>\n      <td>-0.144553</td>\n      <td>1.0</td>\n      <td>0.0</td>\n      <td>1.0</td>\n      <td>0.0</td>\n      <td>0.0</td>\n      <td>1.0</td>\n      <td>0.0</td>\n      <td>0.0</td>\n      <td>1.0</td>\n    </tr>\n    <tr>\n      <th>2</th>\n      <td>0.137381</td>\n      <td>1.175123</td>\n      <td>-0.157089</td>\n      <td>-0.059980</td>\n      <td>-0.091174</td>\n      <td>1.0</td>\n      <td>0.0</td>\n      <td>1.0</td>\n      <td>0.0</td>\n      <td>0.0</td>\n      <td>1.0</td>\n      <td>0.0</td>\n      <td>0.0</td>\n      <td>0.0</td>\n    </tr>\n    <tr>\n      <th>3</th>\n      <td>0.460901</td>\n      <td>-0.654100</td>\n      <td>-0.505369</td>\n      <td>0.145600</td>\n      <td>0.015584</td>\n      <td>1.0</td>\n      <td>0.0</td>\n      <td>0.0</td>\n      <td>1.0</td>\n      <td>0.0</td>\n      <td>2.0</td>\n      <td>0.0</td>\n      <td>0.0</td>\n      <td>0.0</td>\n    </tr>\n    <tr>\n      <th>4</th>\n      <td>-1.410804</td>\n      <td>0.809278</td>\n      <td>0.539471</td>\n      <td>-0.128507</td>\n      <td>-0.091174</td>\n      <td>1.0</td>\n      <td>0.0</td>\n      <td>1.0</td>\n      <td>0.0</td>\n      <td>0.0</td>\n      <td>1.0</td>\n      <td>0.0</td>\n      <td>0.0</td>\n      <td>1.0</td>\n    </tr>\n  </tbody>\n</table>\n</div>"
     },
     "execution_count": 6,
     "metadata": {},
     "output_type": "execute_result"
    }
   ],
   "source": [
    "from sklearn.pipeline import FeatureUnion\n",
    "\n",
    "feats = FeatureUnion(continuos_transformers + cat_transformers + base_transformers)\n",
    "feature_processing = Pipeline([('feats', feats)])\n",
    "\n",
    "ft = feature_processing.fit_transform(X_train)\n",
    "pd.DataFrame(ft).head(5)"
   ],
   "metadata": {
    "collapsed": false,
    "pycharm": {
     "name": "#%%\n"
    }
   }
  },
  {
   "cell_type": "code",
   "execution_count": 7,
   "outputs": [],
   "source": [
    "# pd.DataFrame(ft).describe().T"
   ],
   "metadata": {
    "collapsed": false,
    "pycharm": {
     "name": "#%%\n"
    }
   }
  },
  {
   "cell_type": "code",
   "execution_count": 8,
   "outputs": [
    {
     "data": {
      "text/plain": "Pipeline(steps=[('feats',\n                 FeatureUnion(transformer_list=[('age',\n                                                 Pipeline(steps=[('selector',\n                                                                  NumberSelector(key='age')),\n                                                                 ('standard',\n                                                                  StandardScaler())])),\n                                                ('height',\n                                                 Pipeline(steps=[('selector',\n                                                                  NumberSelector(key='height')),\n                                                                 ('standard',\n                                                                  StandardScaler())])),\n                                                ('weight',\n                                                 Pipeline(steps=[('selector',\n                                                                  NumberSelector(key='weight')),\n                                                                 ('standard',\n                                                                  StandardScaler())]...\n                                                                  ColumnSelector(key='cholesterol')),\n                                                                 ('ohe',\n                                                                  OHEEncoder(key='cholesterol'))])),\n                                                ('gluc',\n                                                 Pipeline(steps=[('selector',\n                                                                  NumberSelector(key='gluc'))])),\n                                                ('smoke',\n                                                 Pipeline(steps=[('selector',\n                                                                  NumberSelector(key='smoke'))])),\n                                                ('alco',\n                                                 Pipeline(steps=[('selector',\n                                                                  NumberSelector(key='alco'))])),\n                                                ('active',\n                                                 Pipeline(steps=[('selector',\n                                                                  NumberSelector(key='active'))]))]))])",
      "text/html": "<style>#sk-cfad80f0-eced-42ba-a80e-7e8fcadd37f6 {color: black;background-color: white;}#sk-cfad80f0-eced-42ba-a80e-7e8fcadd37f6 pre{padding: 0;}#sk-cfad80f0-eced-42ba-a80e-7e8fcadd37f6 div.sk-toggleable {background-color: white;}#sk-cfad80f0-eced-42ba-a80e-7e8fcadd37f6 label.sk-toggleable__label {cursor: pointer;display: block;width: 100%;margin-bottom: 0;padding: 0.3em;box-sizing: border-box;text-align: center;}#sk-cfad80f0-eced-42ba-a80e-7e8fcadd37f6 div.sk-toggleable__content {max-height: 0;max-width: 0;overflow: hidden;text-align: left;background-color: #f0f8ff;}#sk-cfad80f0-eced-42ba-a80e-7e8fcadd37f6 div.sk-toggleable__content pre {margin: 0.2em;color: black;border-radius: 0.25em;background-color: #f0f8ff;}#sk-cfad80f0-eced-42ba-a80e-7e8fcadd37f6 input.sk-toggleable__control:checked~div.sk-toggleable__content {max-height: 200px;max-width: 100%;overflow: auto;}#sk-cfad80f0-eced-42ba-a80e-7e8fcadd37f6 div.sk-estimator input.sk-toggleable__control:checked~label.sk-toggleable__label {background-color: #d4ebff;}#sk-cfad80f0-eced-42ba-a80e-7e8fcadd37f6 div.sk-label input.sk-toggleable__control:checked~label.sk-toggleable__label {background-color: #d4ebff;}#sk-cfad80f0-eced-42ba-a80e-7e8fcadd37f6 input.sk-hidden--visually {border: 0;clip: rect(1px 1px 1px 1px);clip: rect(1px, 1px, 1px, 1px);height: 1px;margin: -1px;overflow: hidden;padding: 0;position: absolute;width: 1px;}#sk-cfad80f0-eced-42ba-a80e-7e8fcadd37f6 div.sk-estimator {font-family: monospace;background-color: #f0f8ff;border: 1px dotted black;border-radius: 0.25em;box-sizing: border-box;margin-bottom: 0.5em;}#sk-cfad80f0-eced-42ba-a80e-7e8fcadd37f6 div.sk-estimator:hover {background-color: #d4ebff;}#sk-cfad80f0-eced-42ba-a80e-7e8fcadd37f6 div.sk-parallel-item::after {content: \"\";width: 100%;border-bottom: 1px solid gray;flex-grow: 1;}#sk-cfad80f0-eced-42ba-a80e-7e8fcadd37f6 div.sk-label:hover label.sk-toggleable__label {background-color: #d4ebff;}#sk-cfad80f0-eced-42ba-a80e-7e8fcadd37f6 div.sk-serial::before {content: \"\";position: absolute;border-left: 1px solid gray;box-sizing: border-box;top: 2em;bottom: 0;left: 50%;}#sk-cfad80f0-eced-42ba-a80e-7e8fcadd37f6 div.sk-serial {display: flex;flex-direction: column;align-items: center;background-color: white;padding-right: 0.2em;padding-left: 0.2em;}#sk-cfad80f0-eced-42ba-a80e-7e8fcadd37f6 div.sk-item {z-index: 1;}#sk-cfad80f0-eced-42ba-a80e-7e8fcadd37f6 div.sk-parallel {display: flex;align-items: stretch;justify-content: center;background-color: white;}#sk-cfad80f0-eced-42ba-a80e-7e8fcadd37f6 div.sk-parallel::before {content: \"\";position: absolute;border-left: 1px solid gray;box-sizing: border-box;top: 2em;bottom: 0;left: 50%;}#sk-cfad80f0-eced-42ba-a80e-7e8fcadd37f6 div.sk-parallel-item {display: flex;flex-direction: column;position: relative;background-color: white;}#sk-cfad80f0-eced-42ba-a80e-7e8fcadd37f6 div.sk-parallel-item:first-child::after {align-self: flex-end;width: 50%;}#sk-cfad80f0-eced-42ba-a80e-7e8fcadd37f6 div.sk-parallel-item:last-child::after {align-self: flex-start;width: 50%;}#sk-cfad80f0-eced-42ba-a80e-7e8fcadd37f6 div.sk-parallel-item:only-child::after {width: 0;}#sk-cfad80f0-eced-42ba-a80e-7e8fcadd37f6 div.sk-dashed-wrapped {border: 1px dashed gray;margin: 0 0.4em 0.5em 0.4em;box-sizing: border-box;padding-bottom: 0.4em;background-color: white;position: relative;}#sk-cfad80f0-eced-42ba-a80e-7e8fcadd37f6 div.sk-label label {font-family: monospace;font-weight: bold;background-color: white;display: inline-block;line-height: 1.2em;}#sk-cfad80f0-eced-42ba-a80e-7e8fcadd37f6 div.sk-label-container {position: relative;z-index: 2;text-align: center;}#sk-cfad80f0-eced-42ba-a80e-7e8fcadd37f6 div.sk-container {display: inline-block;position: relative;}</style><div id=\"sk-cfad80f0-eced-42ba-a80e-7e8fcadd37f6\" class\"sk-top-container\"><div class=\"sk-container\"><div class=\"sk-item sk-dashed-wrapped\"><div class=\"sk-label-container\"><div class=\"sk-label sk-toggleable\"><input class=\"sk-toggleable__control sk-hidden--visually\" id=\"28b9f037-8083-41ee-990a-481e7d0c99e6\" type=\"checkbox\" ><label class=\"sk-toggleable__label\" for=\"28b9f037-8083-41ee-990a-481e7d0c99e6\">Pipeline</label><div class=\"sk-toggleable__content\"><pre>Pipeline(steps=[('feats',\n                 FeatureUnion(transformer_list=[('age',\n                                                 Pipeline(steps=[('selector',\n                                                                  NumberSelector(key='age')),\n                                                                 ('standard',\n                                                                  StandardScaler())])),\n                                                ('height',\n                                                 Pipeline(steps=[('selector',\n                                                                  NumberSelector(key='height')),\n                                                                 ('standard',\n                                                                  StandardScaler())])),\n                                                ('weight',\n                                                 Pipeline(steps=[('selector',\n                                                                  NumberSelector(key='weight')),\n                                                                 ('standard',\n                                                                  StandardScaler())]...\n                                                                  ColumnSelector(key='cholesterol')),\n                                                                 ('ohe',\n                                                                  OHEEncoder(key='cholesterol'))])),\n                                                ('gluc',\n                                                 Pipeline(steps=[('selector',\n                                                                  NumberSelector(key='gluc'))])),\n                                                ('smoke',\n                                                 Pipeline(steps=[('selector',\n                                                                  NumberSelector(key='smoke'))])),\n                                                ('alco',\n                                                 Pipeline(steps=[('selector',\n                                                                  NumberSelector(key='alco'))])),\n                                                ('active',\n                                                 Pipeline(steps=[('selector',\n                                                                  NumberSelector(key='active'))]))]))])</pre></div></div></div><div class=\"sk-serial\"><div class=\"sk-item sk-dashed-wrapped\"><div class=\"sk-label-container\"><div class=\"sk-label sk-toggleable\"><input class=\"sk-toggleable__control sk-hidden--visually\" id=\"6e540c3b-4cff-4037-975a-62c9a1e5a36c\" type=\"checkbox\" ><label class=\"sk-toggleable__label\" for=\"6e540c3b-4cff-4037-975a-62c9a1e5a36c\">feats: FeatureUnion</label><div class=\"sk-toggleable__content\"><pre>FeatureUnion(transformer_list=[('age',\n                                Pipeline(steps=[('selector',\n                                                 NumberSelector(key='age')),\n                                                ('standard',\n                                                 StandardScaler())])),\n                               ('height',\n                                Pipeline(steps=[('selector',\n                                                 NumberSelector(key='height')),\n                                                ('standard',\n                                                 StandardScaler())])),\n                               ('weight',\n                                Pipeline(steps=[('selector',\n                                                 NumberSelector(key='weight')),\n                                                ('standard',\n                                                 StandardScaler())])),\n                               ('ap_hi',\n                                Pipeline(step...\n                                                 ColumnSelector(key='cholesterol')),\n                                                ('ohe',\n                                                 OHEEncoder(key='cholesterol'))])),\n                               ('gluc',\n                                Pipeline(steps=[('selector',\n                                                 NumberSelector(key='gluc'))])),\n                               ('smoke',\n                                Pipeline(steps=[('selector',\n                                                 NumberSelector(key='smoke'))])),\n                               ('alco',\n                                Pipeline(steps=[('selector',\n                                                 NumberSelector(key='alco'))])),\n                               ('active',\n                                Pipeline(steps=[('selector',\n                                                 NumberSelector(key='active'))]))])</pre></div></div></div><div class=\"sk-parallel\"><div class=\"sk-parallel-item\"><div class=\"sk-item\"><div class=\"sk-label-container\"><div class=\"sk-label sk-toggleable\"><label>age</label></div></div><div class=\"sk-serial\"><div class=\"sk-item\"><div class=\"sk-serial\"><div class=\"sk-item\"><div class=\"sk-estimator sk-toggleable\"><input class=\"sk-toggleable__control sk-hidden--visually\" id=\"4a680cdd-755b-48e2-9713-3c6a0483cf90\" type=\"checkbox\" ><label class=\"sk-toggleable__label\" for=\"4a680cdd-755b-48e2-9713-3c6a0483cf90\">NumberSelector</label><div class=\"sk-toggleable__content\"><pre>NumberSelector(key='age')</pre></div></div></div><div class=\"sk-item\"><div class=\"sk-estimator sk-toggleable\"><input class=\"sk-toggleable__control sk-hidden--visually\" id=\"2ad90525-cbbd-4559-b05f-be26b6c7b81d\" type=\"checkbox\" ><label class=\"sk-toggleable__label\" for=\"2ad90525-cbbd-4559-b05f-be26b6c7b81d\">StandardScaler</label><div class=\"sk-toggleable__content\"><pre>StandardScaler()</pre></div></div></div></div></div></div></div></div><div class=\"sk-parallel-item\"><div class=\"sk-item\"><div class=\"sk-label-container\"><div class=\"sk-label sk-toggleable\"><label>height</label></div></div><div class=\"sk-serial\"><div class=\"sk-item\"><div class=\"sk-serial\"><div class=\"sk-item\"><div class=\"sk-estimator sk-toggleable\"><input class=\"sk-toggleable__control sk-hidden--visually\" id=\"96c9e82d-c7df-42d3-8963-d412298a9df3\" type=\"checkbox\" ><label class=\"sk-toggleable__label\" for=\"96c9e82d-c7df-42d3-8963-d412298a9df3\">NumberSelector</label><div class=\"sk-toggleable__content\"><pre>NumberSelector(key='height')</pre></div></div></div><div class=\"sk-item\"><div class=\"sk-estimator sk-toggleable\"><input class=\"sk-toggleable__control sk-hidden--visually\" id=\"37bc67e6-9d66-4d8a-a918-a7a636410406\" type=\"checkbox\" ><label class=\"sk-toggleable__label\" for=\"37bc67e6-9d66-4d8a-a918-a7a636410406\">StandardScaler</label><div class=\"sk-toggleable__content\"><pre>StandardScaler()</pre></div></div></div></div></div></div></div></div><div class=\"sk-parallel-item\"><div class=\"sk-item\"><div class=\"sk-label-container\"><div class=\"sk-label sk-toggleable\"><label>weight</label></div></div><div class=\"sk-serial\"><div class=\"sk-item\"><div class=\"sk-serial\"><div class=\"sk-item\"><div class=\"sk-estimator sk-toggleable\"><input class=\"sk-toggleable__control sk-hidden--visually\" id=\"2cf51b73-539f-45c3-bd73-425aba1873f6\" type=\"checkbox\" ><label class=\"sk-toggleable__label\" for=\"2cf51b73-539f-45c3-bd73-425aba1873f6\">NumberSelector</label><div class=\"sk-toggleable__content\"><pre>NumberSelector(key='weight')</pre></div></div></div><div class=\"sk-item\"><div class=\"sk-estimator sk-toggleable\"><input class=\"sk-toggleable__control sk-hidden--visually\" id=\"8db92923-ed2c-4e17-a4f2-69107fbef1eb\" type=\"checkbox\" ><label class=\"sk-toggleable__label\" for=\"8db92923-ed2c-4e17-a4f2-69107fbef1eb\">StandardScaler</label><div class=\"sk-toggleable__content\"><pre>StandardScaler()</pre></div></div></div></div></div></div></div></div><div class=\"sk-parallel-item\"><div class=\"sk-item\"><div class=\"sk-label-container\"><div class=\"sk-label sk-toggleable\"><label>ap_hi</label></div></div><div class=\"sk-serial\"><div class=\"sk-item\"><div class=\"sk-serial\"><div class=\"sk-item\"><div class=\"sk-estimator sk-toggleable\"><input class=\"sk-toggleable__control sk-hidden--visually\" id=\"82af01cf-a35b-49f7-8efd-14a4d18b82bd\" type=\"checkbox\" ><label class=\"sk-toggleable__label\" for=\"82af01cf-a35b-49f7-8efd-14a4d18b82bd\">NumberSelector</label><div class=\"sk-toggleable__content\"><pre>NumberSelector(key='ap_hi')</pre></div></div></div><div class=\"sk-item\"><div class=\"sk-estimator sk-toggleable\"><input class=\"sk-toggleable__control sk-hidden--visually\" id=\"2fc96cd0-0df7-472e-b7a0-f1838f28c1bd\" type=\"checkbox\" ><label class=\"sk-toggleable__label\" for=\"2fc96cd0-0df7-472e-b7a0-f1838f28c1bd\">StandardScaler</label><div class=\"sk-toggleable__content\"><pre>StandardScaler()</pre></div></div></div></div></div></div></div></div><div class=\"sk-parallel-item\"><div class=\"sk-item\"><div class=\"sk-label-container\"><div class=\"sk-label sk-toggleable\"><label>ap_lo</label></div></div><div class=\"sk-serial\"><div class=\"sk-item\"><div class=\"sk-serial\"><div class=\"sk-item\"><div class=\"sk-estimator sk-toggleable\"><input class=\"sk-toggleable__control sk-hidden--visually\" id=\"875efd70-3fcb-40ac-97fb-78b7608d2945\" type=\"checkbox\" ><label class=\"sk-toggleable__label\" for=\"875efd70-3fcb-40ac-97fb-78b7608d2945\">NumberSelector</label><div class=\"sk-toggleable__content\"><pre>NumberSelector(key='ap_lo')</pre></div></div></div><div class=\"sk-item\"><div class=\"sk-estimator sk-toggleable\"><input class=\"sk-toggleable__control sk-hidden--visually\" id=\"38cda776-4f0e-466b-94a4-d8f927f55a99\" type=\"checkbox\" ><label class=\"sk-toggleable__label\" for=\"38cda776-4f0e-466b-94a4-d8f927f55a99\">StandardScaler</label><div class=\"sk-toggleable__content\"><pre>StandardScaler()</pre></div></div></div></div></div></div></div></div><div class=\"sk-parallel-item\"><div class=\"sk-item\"><div class=\"sk-label-container\"><div class=\"sk-label sk-toggleable\"><label>gender</label></div></div><div class=\"sk-serial\"><div class=\"sk-item\"><div class=\"sk-serial\"><div class=\"sk-item\"><div class=\"sk-estimator sk-toggleable\"><input class=\"sk-toggleable__control sk-hidden--visually\" id=\"84793f67-3bca-4012-aeb0-03971276f4e7\" type=\"checkbox\" ><label class=\"sk-toggleable__label\" for=\"84793f67-3bca-4012-aeb0-03971276f4e7\">ColumnSelector</label><div class=\"sk-toggleable__content\"><pre>ColumnSelector(key='gender')</pre></div></div></div><div class=\"sk-item\"><div class=\"sk-estimator sk-toggleable\"><input class=\"sk-toggleable__control sk-hidden--visually\" id=\"316bb68b-e06b-4c1d-8c36-2bd04226b6e0\" type=\"checkbox\" ><label class=\"sk-toggleable__label\" for=\"316bb68b-e06b-4c1d-8c36-2bd04226b6e0\">OHEEncoder</label><div class=\"sk-toggleable__content\"><pre>OHEEncoder(key='gender')</pre></div></div></div></div></div></div></div></div><div class=\"sk-parallel-item\"><div class=\"sk-item\"><div class=\"sk-label-container\"><div class=\"sk-label sk-toggleable\"><label>cholesterol</label></div></div><div class=\"sk-serial\"><div class=\"sk-item\"><div class=\"sk-serial\"><div class=\"sk-item\"><div class=\"sk-estimator sk-toggleable\"><input class=\"sk-toggleable__control sk-hidden--visually\" id=\"84c707e5-f71e-47df-a89c-056118f2e57b\" type=\"checkbox\" ><label class=\"sk-toggleable__label\" for=\"84c707e5-f71e-47df-a89c-056118f2e57b\">ColumnSelector</label><div class=\"sk-toggleable__content\"><pre>ColumnSelector(key='cholesterol')</pre></div></div></div><div class=\"sk-item\"><div class=\"sk-estimator sk-toggleable\"><input class=\"sk-toggleable__control sk-hidden--visually\" id=\"08df3332-f890-4e3c-aa62-93c4b80f875c\" type=\"checkbox\" ><label class=\"sk-toggleable__label\" for=\"08df3332-f890-4e3c-aa62-93c4b80f875c\">OHEEncoder</label><div class=\"sk-toggleable__content\"><pre>OHEEncoder(key='cholesterol')</pre></div></div></div></div></div></div></div></div><div class=\"sk-parallel-item\"><div class=\"sk-item\"><div class=\"sk-label-container\"><div class=\"sk-label sk-toggleable\"><label>gluc</label></div></div><div class=\"sk-serial\"><div class=\"sk-item\"><div class=\"sk-serial\"><div class=\"sk-item\"><div class=\"sk-estimator sk-toggleable\"><input class=\"sk-toggleable__control sk-hidden--visually\" id=\"ff7bf020-030e-4fb5-b801-885ad87f74fc\" type=\"checkbox\" ><label class=\"sk-toggleable__label\" for=\"ff7bf020-030e-4fb5-b801-885ad87f74fc\">NumberSelector</label><div class=\"sk-toggleable__content\"><pre>NumberSelector(key='gluc')</pre></div></div></div></div></div></div></div></div><div class=\"sk-parallel-item\"><div class=\"sk-item\"><div class=\"sk-label-container\"><div class=\"sk-label sk-toggleable\"><label>smoke</label></div></div><div class=\"sk-serial\"><div class=\"sk-item\"><div class=\"sk-serial\"><div class=\"sk-item\"><div class=\"sk-estimator sk-toggleable\"><input class=\"sk-toggleable__control sk-hidden--visually\" id=\"9fecb25a-2384-4032-8031-031fa69e7a66\" type=\"checkbox\" ><label class=\"sk-toggleable__label\" for=\"9fecb25a-2384-4032-8031-031fa69e7a66\">NumberSelector</label><div class=\"sk-toggleable__content\"><pre>NumberSelector(key='smoke')</pre></div></div></div></div></div></div></div></div><div class=\"sk-parallel-item\"><div class=\"sk-item\"><div class=\"sk-label-container\"><div class=\"sk-label sk-toggleable\"><label>alco</label></div></div><div class=\"sk-serial\"><div class=\"sk-item\"><div class=\"sk-serial\"><div class=\"sk-item\"><div class=\"sk-estimator sk-toggleable\"><input class=\"sk-toggleable__control sk-hidden--visually\" id=\"000f81c7-e486-462f-a623-be9256932cb9\" type=\"checkbox\" ><label class=\"sk-toggleable__label\" for=\"000f81c7-e486-462f-a623-be9256932cb9\">NumberSelector</label><div class=\"sk-toggleable__content\"><pre>NumberSelector(key='alco')</pre></div></div></div></div></div></div></div></div><div class=\"sk-parallel-item\"><div class=\"sk-item\"><div class=\"sk-label-container\"><div class=\"sk-label sk-toggleable\"><label>active</label></div></div><div class=\"sk-serial\"><div class=\"sk-item\"><div class=\"sk-serial\"><div class=\"sk-item\"><div class=\"sk-estimator sk-toggleable\"><input class=\"sk-toggleable__control sk-hidden--visually\" id=\"2d905aff-8d4a-41f3-b822-3592f3655d6e\" type=\"checkbox\" ><label class=\"sk-toggleable__label\" for=\"2d905aff-8d4a-41f3-b822-3592f3655d6e\">NumberSelector</label><div class=\"sk-toggleable__content\"><pre>NumberSelector(key='active')</pre></div></div></div></div></div></div></div></div></div></div></div></div></div></div>"
     },
     "execution_count": 8,
     "metadata": {},
     "output_type": "execute_result"
    }
   ],
   "source": [
    "from sklearn import set_config\n",
    "\n",
    "set_config(display='diagram')\n",
    "feature_processing"
   ],
   "metadata": {
    "collapsed": false,
    "pycharm": {
     "name": "#%%\n"
    }
   }
  },
  {
   "cell_type": "markdown",
   "source": [],
   "metadata": {
    "collapsed": false
   }
  },
  {
   "cell_type": "code",
   "execution_count": 9,
   "outputs": [],
   "source": [
    "import itertools\n",
    "\n",
    "\n",
    "def plot_confusion_matrix(cm, classes,\n",
    "                          normalize=False,\n",
    "                          title='Confusion matrix',\n",
    "                          cmap=plt.cm.Blues):\n",
    "    \"\"\"\n",
    "    This function prints and plots the confusion matrix.\n",
    "    Normalization can be applied by setting `normalize=True`.\n",
    "    \"\"\"\n",
    "    plt.imshow(cm, interpolation='nearest', cmap=cmap)\n",
    "    plt.title(title)\n",
    "    plt.colorbar()\n",
    "    tick_marks = np.arange(len(classes))\n",
    "    plt.xticks(tick_marks, classes, rotation=45)\n",
    "    plt.yticks(tick_marks, classes)\n",
    "\n",
    "    if normalize:\n",
    "        cm = cm.astype('float') / cm.sum(axis=1)[:, np.newaxis]\n",
    "        print(\"Normalized confusion matrix\")\n",
    "    else:\n",
    "        print('Confusion matrix, without normalization')\n",
    "\n",
    "    print(cm)\n",
    "\n",
    "    thresh = cm.max() / 2.\n",
    "    for i, j in itertools.product(range(cm.shape[0]), range(cm.shape[1])):\n",
    "        plt.text(j, i, cm[i, j],\n",
    "                 horizontalalignment=\"center\",\n",
    "                 color=\"white\" if cm[i, j] > thresh else \"black\")\n",
    "\n",
    "    plt.tight_layout()\n",
    "    plt.ylabel('True label')\n",
    "    plt.xlabel('Predicted label')"
   ],
   "metadata": {
    "collapsed": false,
    "pycharm": {
     "name": "#%%\n"
    }
   }
  },
  {
   "cell_type": "code",
   "execution_count": 10,
   "outputs": [],
   "source": [
    "# формирование roc auc кривой\n",
    "def plot_roc_auc(y_test=None, y_score=None):\n",
    "    fpr, tpr, thresholds_ = roc_curve(y_test, y_score, pos_label=1)\n",
    "\n",
    "    sns.set(font_scale=1.5)\n",
    "    sns.set_color_codes(\"muted\")\n",
    "\n",
    "    plt.figure(figsize=(10, 8))\n",
    "\n",
    "    plt.plot(fpr, tpr, lw=2, label='ROC curve ')\n",
    "    plt.plot([0, 1], [0, 1])\n",
    "    plt.xlim([0.0, 1.0])\n",
    "    plt.ylim([0.0, 1.05])\n",
    "    plt.xlabel('False Positive Rate')\n",
    "    plt.ylabel('True Positive Rate')\n",
    "    plt.title('ROC curve')\n",
    "    # plt.savefig(\"ROC.png\")\n",
    "    plt.show()"
   ],
   "metadata": {
    "collapsed": false,
    "pycharm": {
     "name": "#%%\n"
    }
   }
  },
  {
   "cell_type": "markdown",
   "source": [
    "#### 5. Добавление модели и кросс-валидации"
   ],
   "metadata": {
    "collapsed": false,
    "pycharm": {
     "name": "#%% md\n"
    }
   }
  },
  {
   "cell_type": "code",
   "execution_count": 15,
   "outputs": [],
   "source": [
    "from sklearn.linear_model import SGDClassifier\n",
    "from sklearn.tree import DecisionTreeClassifier\n",
    "from sklearn.neighbors import KNeighborsClassifier\n",
    "from sklearn.ensemble import RandomForestClassifier\n",
    "from sklearn.svm import SVC\n",
    "\n",
    "# model = LogisticRegression(random_state=42)\n",
    "# model = KNeighborsClassifier(n_neighbors=4)\n",
    "# model =  DecisionTreeClassifier(max_depth=6)\n",
    "# model =  RandomForestClassifier(max_depth=6, max_features=5, n_estimators=100)\n",
    "# model =  SVC(gamma='auto') до 10 000, у нас 50 000\n",
    "model =  SGDClassifier(loss='log')"
   ],
   "metadata": {
    "collapsed": false,
    "pycharm": {
     "name": "#%%\n"
    }
   }
  },
  {
   "cell_type": "code",
   "execution_count": 16,
   "outputs": [],
   "source": [
    "classifier = Pipeline([\n",
    "    ('features', feats),\n",
    "    ('classifier', model),\n",
    "])"
   ],
   "metadata": {
    "collapsed": false,
    "pycharm": {
     "name": "#%%\n"
    }
   }
  },
  {
   "cell_type": "code",
   "execution_count": 17,
   "outputs": [
    {
     "data": {
      "text/plain": "          id    age  gender  height  weight  ap_hi  ap_lo  cholesterol  gluc  \\\n4497    6369  15212       2     170    85.0    130     80            3     3   \n8301   11845  15361       1     165    70.0    110     70            1     1   \n63679  90920  19822       1     174    72.0    120     80            1     1   \n3947    5584  20619       1     159    67.0    150    100            2     2   \n16013  22867  16008       1     171    82.0    110     80            1     1   \n...      ...    ...     ...     ...     ...    ...    ...          ...   ...   \n21243  30345  23289       1     158    76.0    120     80            3     3   \n45891  65548  23346       2     170   122.0    130     80            3     3   \n42613  60883  22385       2     174    72.0    120     80            1     1   \n43567  62243  18321       1     153    85.0    120     80            1     1   \n68268  97497  20424       2     169    73.0    150     90            1     1   \n\n       smoke  alco  active  \n4497       1     0       1  \n8301       0     0       1  \n63679      0     0       0  \n3947       0     0       0  \n16013      0     0       1  \n...      ...   ...     ...  \n21243      0     0       0  \n45891      0     1       1  \n42613      0     0       1  \n43567      0     0       1  \n68268      0     0       1  \n\n[52500 rows x 12 columns]",
      "text/html": "<div>\n<style scoped>\n    .dataframe tbody tr th:only-of-type {\n        vertical-align: middle;\n    }\n\n    .dataframe tbody tr th {\n        vertical-align: top;\n    }\n\n    .dataframe thead th {\n        text-align: right;\n    }\n</style>\n<table border=\"1\" class=\"dataframe\">\n  <thead>\n    <tr style=\"text-align: right;\">\n      <th></th>\n      <th>id</th>\n      <th>age</th>\n      <th>gender</th>\n      <th>height</th>\n      <th>weight</th>\n      <th>ap_hi</th>\n      <th>ap_lo</th>\n      <th>cholesterol</th>\n      <th>gluc</th>\n      <th>smoke</th>\n      <th>alco</th>\n      <th>active</th>\n    </tr>\n  </thead>\n  <tbody>\n    <tr>\n      <th>4497</th>\n      <td>6369</td>\n      <td>15212</td>\n      <td>2</td>\n      <td>170</td>\n      <td>85.0</td>\n      <td>130</td>\n      <td>80</td>\n      <td>3</td>\n      <td>3</td>\n      <td>1</td>\n      <td>0</td>\n      <td>1</td>\n    </tr>\n    <tr>\n      <th>8301</th>\n      <td>11845</td>\n      <td>15361</td>\n      <td>1</td>\n      <td>165</td>\n      <td>70.0</td>\n      <td>110</td>\n      <td>70</td>\n      <td>1</td>\n      <td>1</td>\n      <td>0</td>\n      <td>0</td>\n      <td>1</td>\n    </tr>\n    <tr>\n      <th>63679</th>\n      <td>90920</td>\n      <td>19822</td>\n      <td>1</td>\n      <td>174</td>\n      <td>72.0</td>\n      <td>120</td>\n      <td>80</td>\n      <td>1</td>\n      <td>1</td>\n      <td>0</td>\n      <td>0</td>\n      <td>0</td>\n    </tr>\n    <tr>\n      <th>3947</th>\n      <td>5584</td>\n      <td>20619</td>\n      <td>1</td>\n      <td>159</td>\n      <td>67.0</td>\n      <td>150</td>\n      <td>100</td>\n      <td>2</td>\n      <td>2</td>\n      <td>0</td>\n      <td>0</td>\n      <td>0</td>\n    </tr>\n    <tr>\n      <th>16013</th>\n      <td>22867</td>\n      <td>16008</td>\n      <td>1</td>\n      <td>171</td>\n      <td>82.0</td>\n      <td>110</td>\n      <td>80</td>\n      <td>1</td>\n      <td>1</td>\n      <td>0</td>\n      <td>0</td>\n      <td>1</td>\n    </tr>\n    <tr>\n      <th>...</th>\n      <td>...</td>\n      <td>...</td>\n      <td>...</td>\n      <td>...</td>\n      <td>...</td>\n      <td>...</td>\n      <td>...</td>\n      <td>...</td>\n      <td>...</td>\n      <td>...</td>\n      <td>...</td>\n      <td>...</td>\n    </tr>\n    <tr>\n      <th>21243</th>\n      <td>30345</td>\n      <td>23289</td>\n      <td>1</td>\n      <td>158</td>\n      <td>76.0</td>\n      <td>120</td>\n      <td>80</td>\n      <td>3</td>\n      <td>3</td>\n      <td>0</td>\n      <td>0</td>\n      <td>0</td>\n    </tr>\n    <tr>\n      <th>45891</th>\n      <td>65548</td>\n      <td>23346</td>\n      <td>2</td>\n      <td>170</td>\n      <td>122.0</td>\n      <td>130</td>\n      <td>80</td>\n      <td>3</td>\n      <td>3</td>\n      <td>0</td>\n      <td>1</td>\n      <td>1</td>\n    </tr>\n    <tr>\n      <th>42613</th>\n      <td>60883</td>\n      <td>22385</td>\n      <td>2</td>\n      <td>174</td>\n      <td>72.0</td>\n      <td>120</td>\n      <td>80</td>\n      <td>1</td>\n      <td>1</td>\n      <td>0</td>\n      <td>0</td>\n      <td>1</td>\n    </tr>\n    <tr>\n      <th>43567</th>\n      <td>62243</td>\n      <td>18321</td>\n      <td>1</td>\n      <td>153</td>\n      <td>85.0</td>\n      <td>120</td>\n      <td>80</td>\n      <td>1</td>\n      <td>1</td>\n      <td>0</td>\n      <td>0</td>\n      <td>1</td>\n    </tr>\n    <tr>\n      <th>68268</th>\n      <td>97497</td>\n      <td>20424</td>\n      <td>2</td>\n      <td>169</td>\n      <td>73.0</td>\n      <td>150</td>\n      <td>90</td>\n      <td>1</td>\n      <td>1</td>\n      <td>0</td>\n      <td>0</td>\n      <td>1</td>\n    </tr>\n  </tbody>\n</table>\n<p>52500 rows × 12 columns</p>\n</div>"
     },
     "execution_count": 17,
     "metadata": {},
     "output_type": "execute_result"
    }
   ],
   "source": [
    "X_train"
   ],
   "metadata": {
    "collapsed": false,
    "pycharm": {
     "name": "#%%\n"
    }
   }
  },
  {
   "cell_type": "code",
   "execution_count": 18,
   "outputs": [
    {
     "name": "stdout",
     "output_type": "stream",
     "text": [
      "CV score is 0.7825174472985967+-0.009573952110929769\n"
     ]
    }
   ],
   "source": [
    "#запустим кросс-валидацию\n",
    "cv_scores = cross_val_score(classifier, X_train, y_train, cv=16, scoring='roc_auc')\n",
    "cv_score = np.mean(cv_scores)\n",
    "cv_score_std = np.std(cv_scores)\n",
    "print('CV score is {}+-{}'.format(cv_score, cv_score_std))\n",
    "\n",
    "#обучим пайплайн на всем тренировочном датасете\n",
    "classifier.fit(X_train, y_train)\n",
    "y_score = classifier.predict_proba(X_test)[:, 1]"
   ],
   "metadata": {
    "collapsed": false,
    "pycharm": {
     "name": "#%%\n"
    }
   }
  },
  {
   "cell_type": "code",
   "execution_count": 19,
   "outputs": [],
   "source": [
    "# y_score\n",
    "# y_test.values\n",
    "# from sklearn.metrics import accuracy_score\n",
    "#\n",
    "# accuracy_score(y_test.values, y_score)"
   ],
   "metadata": {
    "collapsed": false,
    "pycharm": {
     "name": "#%%\n"
    }
   }
  },
  {
   "cell_type": "markdown",
   "source": [
    "Посчитаем precision/recall/f_score"
   ],
   "metadata": {
    "collapsed": false
   }
  },
  {
   "cell_type": "code",
   "execution_count": 20,
   "outputs": [
    {
     "name": "stdout",
     "output_type": "stream",
     "text": [
      "Best Threshold=0.313369, F-Score=0.728, Precision=0.637, Recall=0.848\n"
     ]
    }
   ],
   "source": [
    "b = 1\n",
    "precision, recall, thresholds = precision_recall_curve(y_test.values, y_score)\n",
    "fscore = (1 + b ** 2) * (precision * recall) / (b ** 2 * precision + recall)\n",
    "# locate the index of the largest f score\n",
    "ix = np.argmax(fscore)\n",
    "print('Best Threshold=%f, F-Score=%.3f, Precision=%.3f, Recall=%.3f' % (thresholds[ix],\n",
    "                                                                        fscore[ix],\n",
    "                                                                        precision[ix],\n",
    "                                                                        recall[ix]))"
   ],
   "metadata": {
    "collapsed": false,
    "pycharm": {
     "name": "#%%\n"
    }
   }
  },
  {
   "cell_type": "markdown",
   "source": [],
   "metadata": {
    "collapsed": false
   }
  },
  {
   "cell_type": "code",
   "execution_count": 21,
   "outputs": [
    {
     "data": {
      "text/plain": "<Figure size 720x576 with 1 Axes>",
      "image/png": "[encoded data removed]"
     },
     "metadata": {},
     "output_type": "display_data"
    }
   ],
   "source": [
    "plot_roc_auc(y_test=y_test, y_score=y_score)\n"
   ],
   "metadata": {
    "collapsed": false,
    "pycharm": {
     "name": "#%%\n"
    }
   }
  },
  {
   "cell_type": "code",
   "execution_count": 22,
   "outputs": [
    {
     "name": "stdout",
     "output_type": "stream",
     "text": [
      "roc auc score: 0.7824517226245338\n",
      "log loss score: 0.592872077601841\n"
     ]
    }
   ],
   "source": [
    "from sklearn.metrics import roc_auc_score, log_loss\n",
    "\n",
    "roc_auc = roc_auc_score(y_true=y_test, y_score=classifier.predict_proba(X_test)[:, 1])\n",
    "\n",
    "#Ваш код здесь\n",
    "print(\"roc auc score: {}\".format(roc_auc))\n",
    "print(\"log loss score: {}\".format(log_loss(y_true=y_test, y_pred=classifier.predict_proba(X_test)[:, 1])))"
   ],
   "metadata": {
    "collapsed": false,
    "pycharm": {
     "name": "#%%\n"
    }
   }
  },
  {
   "cell_type": "markdown",
   "source": [
    "Посомтрим на матрицу ошибок\n"
   ],
   "metadata": {
    "collapsed": false
   }
  },
  {
   "cell_type": "code",
   "execution_count": 23,
   "outputs": [
    {
     "name": "stdout",
     "output_type": "stream",
     "text": [
      "Confusion matrix, without normalization\n",
      "[[4627 4193]\n",
      " [1320 7360]]\n"
     ]
    },
    {
     "data": {
      "text/plain": "<Figure size 720x576 with 2 Axes>",
      "image/png": "[encoded data removed]"
     },
     "metadata": {},
     "output_type": "display_data"
    }
   ],
   "source": [
    "#мы уже нашли ранее \"оптимальный\" порог, когда максимизировали f_score\n",
    "# font = {'size': 15}\n",
    "# plt.rc('font', **font)\n",
    "cnf_matrix = confusion_matrix(y_test, y_score > thresholds[ix])\n",
    "plt.figure(figsize=(10, 8))\n",
    "plot_confusion_matrix(cnf_matrix, classes=['cardio_0', 'cardio_1'], title='Confusion matrix')\n",
    "# plt.savefig(\"conf_matrix.png\")\n",
    "plt.show()"
   ],
   "metadata": {
    "collapsed": false,
    "pycharm": {
     "name": "#%%\n"
    }
   }
  },
  {
   "cell_type": "markdown",
   "source": [
    "Посчитаем FPR, TPR"
   ],
   "metadata": {
    "collapsed": false
   }
  },
  {
   "cell_type": "code",
   "execution_count": 24,
   "outputs": [
    {
     "data": {
      "text/plain": "(0.847926267281106, 0.4753968253968254, 0.5246031746031746)"
     },
     "execution_count": 24,
     "metadata": {},
     "output_type": "execute_result"
    }
   ],
   "source": [
    "TN = cnf_matrix[0][0]\n",
    "FN = cnf_matrix[1][0]\n",
    "TP = cnf_matrix[1][1]\n",
    "FP = cnf_matrix[0][1]\n",
    "\n",
    "TPR = TP / (TP + FN)\n",
    "FPR = FP / (FP + TN)\n",
    "TNR = TN / (FP + TN)\n",
    "TPR, FPR, TNR"
   ],
   "metadata": {
    "collapsed": false,
    "pycharm": {
     "name": "#%%\n"
    }
   }
  },
  {
   "cell_type": "markdown",
   "source": [
    "False Positive Rate - ошибка - если болезнь наблюдается у здорового"
   ],
   "metadata": {
    "collapsed": false
   }
  },
  {
   "cell_type": "code",
   "execution_count": 25,
   "outputs": [
    {
     "name": "stdout",
     "output_type": "stream",
     "text": [
      "SGDClassifier |  0.64 | 0.85 |  0.78 | 0.73\n"
     ]
    }
   ],
   "source": [
    "print(\n",
    "    f'{model.__class__.__name__} |  {round(precision[ix], 2)} | {round(recall[ix], 2)} |  {round(roc_auc, 2)} | {round(fscore[ix], 2)}')"
   ],
   "metadata": {
    "collapsed": false,
    "pycharm": {
     "name": "#%%\n"
    }
   }
  },
  {
   "cell_type": "markdown",
   "source": [
    "3. вывести сравнение полученных моделей по основным метрикам классификации: pr/rec/auc/f_score (можно в виде таблицы, где строки - модели, а столбцы - метрики)"
   ],
   "metadata": {
    "collapsed": false
   }
  },
  {
   "cell_type": "markdown",
   "source": [
    "| Model                | precision | recall | roc_auc | f_score\n",
    "| -- | -- |-- |-- |--|\n",
    "LogisticRegression |  0.65 | 0.84 | 0.78 | 0.73\n",
    "~~KNeighborsClassifier_4~~ |  ~~0.54~~ | ~~0.92~~ |  ~~0.68~~ | ~~0.68~~\n",
    "KNeighborsClassifier_5 |  0.59 | 0.82 |  0.69 | 0.69\n",
    "KNeighborsClassifier_6 |  0.57 | 0.87 |  0.7 | 0.69\n",
    "RandomForestClassifier |  0.68 | 0.81 |  0.8 | 0.74\n",
    "SGDClassifier |  0.64 | 0.85 |  0.78 | 0.73"
   ],
   "metadata": {
    "collapsed": false
   }
  },
  {
   "cell_type": "markdown",
   "source": [
    "4. сделать выводы о том, какая модель справилась с задачей лучше других\n",
    "\n",
    "> Модель Случайный лес показала наиболее приемлемые результаты. Одновременно высокие precision и recall\n",
    "> Это говорит о том что Случайный лес хорошо улавливает нюансы в данных и следует парадигме\n",
    "> **Bias-Variance trade off** т.е. частные модели с небольшим начальным  значением сдвига в\n",
    "> ансамбле снижают разброс с помощью усреднения результата (голосование)\n",
    ">\n",
    "\n",
    "5. (опциональный вопрос) какая метрика (precision_recall_curve или roc_auc_curve) больше подходит в случае сильного дисбаланса классов? (когда объектов одного из классов намного больше чем другого).\n",
    "\n",
    "p.s.В вопросе проще разобраться, если вспомнить оси на графике roc auc curve и рассмотреть такой пример:\n",
    "\n",
    "Имеется 100000 объектов, из которых только 100 - класс \"1\" (99900 - класс \"0\", соответственно).\n",
    "Допустим, у нас две модели:\n",
    "\n",
    "- первая помечает 100 объектов как класс 1, но TP = 90\n",
    "- вторая помечает 1000 объектов как класс 1, но TP такой же - 90\n",
    "\n",
    "Какая модель лучше и почему? И что позволяет легче сделать вывод - roc_auc_curve или precision_recall_curve?\n",
    "\n",
    "> ROC-кривая учитывает не только результаты классификации,\n",
    "> но и вероятность предсказания всех классов.\n",
    "> Она является комплексной метрикой для оценки того, насколько хорошо разделяются случаи в разных группах.\n",
    "\n",
    "### Ссылки"
   ],
   "metadata": {
    "collapsed": false
   }
  },
  {
   "cell_type": "markdown",
   "source": [
    "1. https://dyakonov.org/2017/07/28/auc-roc-площадь-под-кривой-ошибок/\n",
    "2. https://en.wikipedia.org/wiki/Receiver_operating_characteristic"
   ],
   "metadata": {
    "collapsed": false
   }
  },
  {
   "cell_type": "code",
   "execution_count": null,
   "outputs": [],
   "source": [],
   "metadata": {
    "collapsed": false,
    "pycharm": {
     "name": "#%%\n"
    }
   }
  }
 ],
 "metadata": {
  "kernelspec": {
   "display_name": "Python 3 (ipykernel)",
   "language": "python",
   "name": "python3"
  },
  "language_info": {
   "codemirror_mode": {
    "name": "ipython",
    "version": 3
   },
   "file_extension": ".py",
   "mimetype": "text/x-python",
   "name": "python",
   "nbconvert_exporter": "python",
   "pygments_lexer": "ipython3",
   "version": "3.9.6"
  }
 },
 "nbformat": 4,
 "nbformat_minor": 2
}