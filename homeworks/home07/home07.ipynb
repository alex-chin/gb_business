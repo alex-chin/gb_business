{
 "cells": [
  {
   "cell_type": "markdown",
   "source": [
    "### Задание к Уроку 7.  Интерпретация прогнозов модели (SHAP): объясняем поведение модели на отдельных наблюдениях"
   ],
   "metadata": {
    "collapsed": false
   }
  },
  {
   "cell_type": "markdown",
   "source": [
    "Практическое задание:\n",
    "- взять любой набор данных для бинарной классификации (можно скачать один из модельных с https://archive.ics.uci.edu/ml/datasets.php)\n",
    "- сделать обзорный анализ выбранного датасета\n",
    "- сделать feature engineering\n",
    "- обучить любой классификатор (какой вам нравится)\n",
    "- разобраться с SHAP и построить важности признаков для:\n",
    "- всего тестового набора данных (summary_plot - дать интерпретацию)\n",
    "- для топ 10%\n",
    "- для отдельных наблюдений вывести force_plot и попытаться проинтерпретировать результат\n",
    "\n",
    "Ссылки:\n",
    "- Пример с Permutation Importance - https://www.kaggle.com/dansbecker/permutation-importance\n",
    "- Github проекта SHAP - https://github.com/slundberg/shap\n",
    "- https://arxiv.org/pdf/1809.04559.pdf\n",
    "- https://medium.com/civis-analytics/demystifying-black-box-models-with-shap-value-analysis-3e20b536fc80\n",
    "- https://en.wikipedia.org/wiki/Shapley_value\n",
    "\n",
    "Feature selection:\n",
    "\n",
    "- RFE - recursive feature elimination (есть в sklearn)\n",
    "- Boruta - shadow features\n",
    "- Target permutation"
   ],
   "metadata": {
    "collapsed": false
   }
  },
  {
   "cell_type": "markdown",
   "source": [],
   "metadata": {
    "collapsed": false
   }
  }
 ],
 "metadata": {
  "kernelspec": {
   "display_name": "Python 3",
   "language": "python",
   "name": "python3"
  },
  "language_info": {
   "codemirror_mode": {
    "name": "ipython",
    "version": 2
   },
   "file_extension": ".py",
   "mimetype": "text/x-python",
   "name": "python",
   "nbconvert_exporter": "python",
   "pygments_lexer": "ipython2",
   "version": "2.7.6"
  }
 },
 "nbformat": 4,
 "nbformat_minor": 0
}